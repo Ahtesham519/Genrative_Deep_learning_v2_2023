{
  "nbformat": 4,
  "nbformat_minor": 0,
  "metadata": {
    "colab": {
      "provenance": [],
      "authorship_tag": "ABX9TyMV4FLuShSPsckO3cKsLklt",
      "include_colab_link": true
    },
    "kernelspec": {
      "name": "python3",
      "display_name": "Python 3"
    },
    "language_info": {
      "name": "python"
    }
  },
  "cells": [
    {
      "cell_type": "markdown",
      "metadata": {
        "id": "view-in-github",
        "colab_type": "text"
      },
      "source": [
        "<a href=\"https://colab.research.google.com/github/Ahtesham519/Genrative_Deep_learning_v2_2023/blob/main/Convolution_11.ipynb\" target=\"_parent\"><img src=\"https://colab.research.google.com/assets/colab-badge.svg\" alt=\"Open In Colab\"/></a>"
      ]
    },
    {
      "cell_type": "code",
      "execution_count": null,
      "metadata": {
        "id": "L6cClsdol-YJ"
      },
      "outputs": [],
      "source": [
        "%matplotlib inline\n",
        "import matplotlib.pyplot  as plt\n",
        "import numpy as np\n",
        "from skimage import data\n",
        "from skimage.color import rgb2gray\n",
        "from skimage.transform import resize\n"
      ]
    },
    {
      "cell_type": "markdown",
      "source": [
        "#0. Orignal input image"
      ],
      "metadata": {
        "id": "zwSakSu2mVUB"
      }
    },
    {
      "cell_type": "code",
      "source": [
        "im = rgb2gray(data.coffee())\n",
        "im = resize(im , (64,64))\n",
        "print(im.shape)\n",
        "\n",
        "plt.axis(\"off\")\n",
        "plt.imshow(im , cmap = \"gray\")"
      ],
      "metadata": {
        "id": "tcQ_CyEomTfq"
      },
      "execution_count": null,
      "outputs": []
    },
    {
      "cell_type": "markdown",
      "source": [
        "#Horizontal Edge Filter"
      ],
      "metadata": {
        "id": "eehxMq_Rmmg7"
      }
    },
    {
      "cell_type": "code",
      "source": [
        "filter1 = np.array([[1,1,1], [ 0,0,0], [-1,-1,-1]])\n",
        "\n",
        "new_image = np.zeros(im.shape)\n",
        "\n",
        "im_pad = np.pad(im, 1, \"constant\")\n",
        "\n",
        "for i in range(im.shape[0]):\n",
        "  for j in range(im.shape[1]):\n",
        "    try:\n",
        "      new_image[i, j] = (\n",
        "          im_pad[i-1  , j-1] * filter1[0,0]\n",
        "          + im_pad[i - 1, j] * filter1[0,1]\n",
        "          + im_pad[i - 1, j+1] * filter1[0,2]\n",
        "          + im_pad[i, j -1] * filter1[1,0]\n",
        "          + im_pad[i, j] * filter1[1,1]\n",
        "          + im_pad[i,j + 1] * filter1[1,2]\n",
        "          + im_pad[i + 1, j-1] * filter1[2,0]\n",
        "          + im_pad[i + 1, j] * filter1[2,0]\n",
        "          + im_pad[i + 1, j + 1] * filter1[2,2]\n",
        "      )\n",
        "    except:\n",
        "          pass\n",
        "\n",
        "plt.axis(\"off\")\n",
        "plt.imshow(new_image, cmap = \"Greys\")"
      ],
      "metadata": {
        "id": "wpifErOgmicw"
      },
      "execution_count": null,
      "outputs": []
    },
    {
      "cell_type": "markdown",
      "source": [
        "#vertical Edge Filter"
      ],
      "metadata": {
        "id": "-O2sprx8oCZL"
      }
    },
    {
      "cell_type": "code",
      "source": [
        "filter2 = np.array([[-1,0,1] , [-1,0,1] , [-1,0,1]])\n",
        "\n",
        "new_image = np.zeros(im.shape)\n",
        "\n",
        "im_pad = np.pad(im, 1, \"constant\")\n",
        "\n",
        "for i in range(im.shape[0]):\n",
        "  for j in range(im.shape[1]):\n",
        "    try:\n",
        "      new_image[i,j] = (\n",
        "          im_pad[i - 1 , j-1] * filter2[0,0]\n",
        "          +im_pad[i-1, j] * filter2[0,1]\n",
        "          +im_pad[i-1, j+ 1] * filter2[0,2]\n",
        "          +im_pad[i , j-1] * filter2[0,2]\n",
        "          +im_pad[i,j] * filter2[1,1]\n",
        "          +im_pad[i, j + 1] * filter2[1,2]\n",
        "          +im_pad[i+ 1, j-1] * filter2[2,0]\n",
        "          +im_pad[i + 1,j] * filter2[2,1]\n",
        "          +im_pad[i + 1, j+ 1] * filter2[2,2]\n",
        "      )\n",
        "    except:\n",
        "      pass\n",
        "\n",
        "plt.axis(\"off\")\n",
        "plt.imshow(new_image, cmap = \"Greys\")\n"
      ],
      "metadata": {
        "id": "00mwRARJoAqt"
      },
      "execution_count": null,
      "outputs": []
    },
    {
      "cell_type": "markdown",
      "source": [
        "#Horizontal Edge filters with stride 2\n"
      ],
      "metadata": {
        "id": "AK2PWw7kpHfv"
      }
    },
    {
      "cell_type": "code",
      "source": [
        "filter1 = np.array([[1,1,1]  , [0,0,0], [-1,-1,-1]])\n",
        "\n",
        "stride = 2\n",
        "\n",
        "new_image = np.zeros((int(im.show[0] / stride) , int(im.show[i] / stride)))\n",
        "\n",
        "\n",
        "im_pad = np.pad(im, 1, \"constant\")\n",
        "\n",
        "for i in range(0, im.shape[0] , stride):\n",
        "  for j in range(0, im.shape[1], stride):\n",
        "    try:\n",
        "      new_image[int(i / stride) , int(j / stride)] = (\n",
        "          im_pad[i - 1, j -1] * filter1[0,0]\n",
        "          +im_pad[i - 1, j] * filter1[0,1]\n",
        "          +im_pad[i - 1, j + 1] * filter1[0,2]\n",
        "          +im_pad[i , j -1] * filter1[1, 0]\n",
        "          +im_pad[i,j] * filter1[1,1]\n",
        "          +im_pad[i, j + 1] * filter1[1,2]\n",
        "          +im_pad[i + 1, j - 1] * filter1[2,0]\n",
        "          +im_pad[i + 1, j] * filter1[2,1]\n",
        "          +im_pad[i + 1, j + 1] * filter1[2,2]\n",
        "      )\n",
        "    except:\n",
        "      pass\n",
        "plt.axis(\"off\")\n",
        "plt.imshow(new_image, cmap = \"Greys\")"
      ],
      "metadata": {
        "id": "YzyyghCYpEtd"
      },
      "execution_count": null,
      "outputs": []
    },
    {
      "cell_type": "markdown",
      "source": [
        "#Vertical Edge filter with stride 2\n"
      ],
      "metadata": {
        "id": "DRq_-Nq7qXcz"
      }
    },
    {
      "cell_type": "code",
      "source": [
        "filter2 = np.array([[-1, 0, 1] , [-1, 0, 1] , [-1,0,1]])\n",
        "\n",
        "stride = 2\n",
        "\n",
        "new_image = np.zeros((int(im.show[0] / stride), int(im.show[1] / stride)))\n",
        "\n",
        "im_pad = np.pad(im, 1, \"constant\")\n",
        "\n",
        "for i in range(0, im.shape[0] , stride):\n",
        "  for j in range(0, im.shape[1] , stride):\n",
        "    try:\n",
        "      new_image[int(i /stride ) , int(j / stride)] = (\n",
        "          im_pad[i -1 , j - 1] * filter2[0,0]\n",
        "          +im_pad[i -1 , j] * filter2[0,2]\n",
        "          +im_pad[i - 1, j + 1] * filter2[0,1]\n",
        "          +im_pad[i , j -1 ] * filter2[1,0]\n",
        "          +im_pad[i , j] * filter2[1,1]\n",
        "          +im_pad[i , j+ 1] * filter2[1,2]\n",
        "          +im_pad[i + 1, j- 1] * filter2[2,0]\n",
        "          +im_pad[i + 1, j] * filter2[2,1]\n",
        "          +im_pad[i + 1, j+ 1] * filter2[2,2]\n",
        "\n",
        "      )\n",
        "    except:\n",
        "      pass\n",
        "\n",
        "plt.axis(\"off\")\n",
        "plt.imshow(new_image, cmap = \"Greys\")"
      ],
      "metadata": {
        "id": "qQfF3q6LqWk4"
      },
      "execution_count": null,
      "outputs": []
    }
  ]
}