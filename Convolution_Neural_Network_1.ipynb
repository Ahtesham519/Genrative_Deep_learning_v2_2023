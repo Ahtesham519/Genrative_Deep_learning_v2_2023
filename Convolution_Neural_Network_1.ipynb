{
  "nbformat": 4,
  "nbformat_minor": 0,
  "metadata": {
    "colab": {
      "provenance": [],
      "authorship_tag": "ABX9TyPnNi/iHsiVWPF4RB+G9oPb",
      "include_colab_link": true
    },
    "kernelspec": {
      "name": "python3",
      "display_name": "Python 3"
    },
    "language_info": {
      "name": "python"
    }
  },
  "cells": [
    {
      "cell_type": "markdown",
      "metadata": {
        "id": "view-in-github",
        "colab_type": "text"
      },
      "source": [
        "<a href=\"https://colab.research.google.com/github/Ahtesham519/Genrative_Deep_learning_v2_2023/blob/main/Convolution_Neural_Network_1.ipynb\" target=\"_parent\"><img src=\"https://colab.research.google.com/assets/colab-badge.svg\" alt=\"Open In Colab\"/></a>"
      ]
    },
    {
      "cell_type": "code",
      "execution_count": null,
      "metadata": {
        "id": "uLHxhtcCXgBR"
      },
      "outputs": [],
      "source": [
        "import numpy as np\n",
        "from tensorflow.keras import layers , models , optimizers, utils , datasets\n"
      ]
    },
    {
      "cell_type": "markdown",
      "source": [
        "#0. Parameters"
      ],
      "metadata": {
        "id": "ooFfdbr5Y-so"
      }
    },
    {
      "cell_type": "code",
      "source": [
        "NUM_CLASSES = 10"
      ],
      "metadata": {
        "id": "NFitI-YeY5Ii"
      },
      "execution_count": null,
      "outputs": []
    },
    {
      "cell_type": "markdown",
      "source": [
        "#1. Prepare the Data"
      ],
      "metadata": {
        "id": "uXSRNI1CZCsb"
      }
    },
    {
      "cell_type": "code",
      "source": [
        "(x_train , y_train ), (x_test, y_test) = datasets.cifar10.load_data()"
      ],
      "metadata": {
        "id": "jwHbTlDoZBr_"
      },
      "execution_count": null,
      "outputs": []
    },
    {
      "cell_type": "code",
      "source": [
        "x_train = x_train.astype(\"float32\") / 255.0\n",
        "x_test = x_test.astype(\"float32\") /255.0\n",
        "\n",
        "y_train = utils.to_categorical(y_train, NUM_CLASSES)\n",
        "y_test = utils.to_categorical(y_test, NUM_CLASSES)\n",
        "\n"
      ],
      "metadata": {
        "id": "XgZLq2y4ZMyr"
      },
      "execution_count": null,
      "outputs": []
    },
    {
      "cell_type": "code",
      "source": [
        "print(y_train[:10])"
      ],
      "metadata": {
        "id": "RGcntA3idc-e"
      },
      "execution_count": null,
      "outputs": []
    },
    {
      "cell_type": "markdown",
      "source": [
        "#2. Build the model"
      ],
      "metadata": {
        "id": "ma_cDaBMaloo"
      }
    },
    {
      "cell_type": "code",
      "source": [
        "input_layer = layers.Input((32,32,3))\n",
        "\n",
        "x = layers.Conv2D(filters = 32 , kernel_size = 3 , strides = 1, padding = \"same\")\n",
        "(input_layer)\n",
        "\n",
        "x = layers.BatchNormalization()(x)\n",
        "x = layers.LeakyReLU()(x)\n",
        "\n",
        "x = layers.Conv2D(filters = 32, kernel_size = 3, strides= 2, padding = \"same\")\n",
        "x = layers.BatchNormalization()(x)\n",
        "x = layers.LeakyReLU()(x)\n",
        "\n",
        "\n",
        "x = layers.Conv2D(filters = 64 , kernel_size = 3, srides = 1, padding = \"same\")(x)\n",
        "x = layers.BatchNormalization()(x)\n",
        "x = layers.LeakyReLU()(x)\n",
        "\n",
        "x = layers.Conv2D(filters = 64 , kernel_size = 3, strides = 2, padding = \"same\")(x)\n",
        "x = layers.BatchNormalization()(x)\n",
        "x = layers.LeakyReLU()(x)\n",
        "\n",
        "x = layers.Flatten()(x)\n",
        "\n",
        "x = layers.Dense(128)(x)\n",
        "x = layers.BatchNormalization()(x)\n",
        "x = layers.LeakyReLU()(x)\n",
        "x = layers.Dropout(rate = 0.5)(x)\n",
        "\n",
        "x = layers.Dense(NUM_CLASSES)(x)\n",
        "output_layer = layers.Activation(\"softmax\")(x)\n",
        "\n",
        "model = models.Model(input_layer, output_layer)\n",
        "\n",
        "model.summary()"
      ],
      "metadata": {
        "id": "jU6WBDATakdd"
      },
      "execution_count": null,
      "outputs": []
    },
    {
      "cell_type": "markdown",
      "source": [
        "#3.Train the model"
      ],
      "metadata": {
        "id": "P0bOp3S_cP4L"
      }
    },
    {
      "cell_type": "code",
      "source": [
        "opt = optimizers.Adam(learning_rate = 0.0005)\n",
        "model.compile(\n",
        "    loss = \"categorical_crossentropy\" , optimizer = opt , metrics = [\"accuracy\"]\n",
        "\n",
        ")"
      ],
      "metadata": {
        "id": "6z51cMS2cPGb"
      },
      "execution_count": null,
      "outputs": []
    },
    {
      "cell_type": "code",
      "source": [
        "model.fit(\n",
        "    x_train,\n",
        "    y_train ,\n",
        "    batch_size = 32,\n",
        "    epochs = 10,\n",
        "    shuffle = True,\n",
        "    validation_data = (x_test, y_test),\n",
        ")"
      ],
      "metadata": {
        "id": "4hVm03xsdFem"
      },
      "execution_count": null,
      "outputs": []
    },
    {
      "cell_type": "markdown",
      "source": [
        "#4. *Evaluation*"
      ],
      "metadata": {
        "id": "Gk8bMqZodTno"
      }
    },
    {
      "cell_type": "code",
      "source": [
        "model.evaluate(x_test, y_test, batch_size = 1000)"
      ],
      "metadata": {
        "id": "XLmuO_j7dS2U"
      },
      "execution_count": null,
      "outputs": []
    },
    {
      "cell_type": "code",
      "source": [
        "CLASSES = np.array(\n",
        "    [\n",
        "        \"airplane\",\n",
        "        \"automobile\",\n",
        "        \"bird\",\n",
        "        \"cat\",\n",
        "        \"deer\",\n",
        "        \"dog\",\n",
        "        \"frog\",\n",
        "        \"horse\",\n",
        "        \"ship\",\n",
        "        \"truck\",\n",
        "\n",
        "\n",
        "    ]\n",
        ")\n",
        "\n",
        "preds = model.predict(x_test)\n",
        "preds_single = CLASSSES[np.argmax(preds, axis = -1)]\n",
        "actual_single = CLASSES[np.argmax(y_test, axis = -1)]\n"
      ],
      "metadata": {
        "id": "4rNG0TLhduz5"
      },
      "execution_count": null,
      "outputs": []
    },
    {
      "cell_type": "code",
      "source": [
        "import matplotlib.pyplot as plt\n",
        "\n",
        "n_to_show = 10\n",
        "indices = np.random.choice(range(len(x_test)),n_to_show)\n",
        "\n",
        "fig = plt.figure(figsize=(15, 3))\n",
        "fig.subplots_sdjust(hspace = 0.4 , wspace = 0.4)\n",
        "\n",
        "for i, idx in enumerate(indices):\n",
        "  img = x_test[idx]\n",
        "  ax = fig.add_subplot(1, n_to_show , i+ 1)\n",
        "  ax.axis(\"off\")\n",
        "  ax.text(\n",
        "      0.5,\n",
        "      -0.35,\n",
        "      \"pred = \" + str(preds_single[idx]),\n",
        "      fontsize = 10,\n",
        "      ha = \"center\",\n",
        "      transform = ax.transAxes,\n",
        "  )\n",
        "  ax.text(\n",
        "      0.5,\n",
        "      -0.7,\n",
        "      \"act = \" + str(actual_single[idx]),\n",
        "      frontsize = 10,\n",
        "      ha = \"center\",\n",
        "      transform = ax.transAxes,\n",
        "  )\n",
        "  ax.imshow(img)"
      ],
      "metadata": {
        "id": "4uto5VwXeOSF"
      },
      "execution_count": null,
      "outputs": []
    }
  ]
}