{
  "nbformat": 4,
  "nbformat_minor": 0,
  "metadata": {
    "colab": {
      "provenance": [],
      "authorship_tag": "ABX9TyO4LE5651s6WFBztEJztvlj",
      "include_colab_link": true
    },
    "kernelspec": {
      "name": "python3",
      "display_name": "Python 3"
    },
    "language_info": {
      "name": "python"
    }
  },
  "cells": [
    {
      "cell_type": "markdown",
      "metadata": {
        "id": "view-in-github",
        "colab_type": "text"
      },
      "source": [
        "<a href=\"https://colab.research.google.com/github/Ahtesham519/Genrative_Deep_learning_v2_2023/blob/main/Convolutions2.ipynb\" target=\"_parent\"><img src=\"https://colab.research.google.com/assets/colab-badge.svg\" alt=\"Open In Colab\"/></a>"
      ]
    },
    {
      "cell_type": "code",
      "execution_count": 1,
      "metadata": {
        "id": "QhVyO4zf2fRN"
      },
      "outputs": [],
      "source": [
        "%matplotlib inline\n",
        "import matplotlib.pyplot as plt\n",
        "import numpy as np\n",
        "from skimage import data\n",
        "from skimage.color import rgb2gray\n",
        "from skimage.transform import resize"
      ]
    },
    {
      "cell_type": "markdown",
      "source": [
        "#0. Original Input Image\n"
      ],
      "metadata": {
        "id": "VwXs1Jau4Clq"
      }
    },
    {
      "cell_type": "code",
      "source": [
        "im = rgb2gray(data.coffee())\n",
        "im = resize(im , (64 , 64))\n",
        "print(im.shape)\n",
        "\n",
        "plt.axis(\"off\")\n",
        "plt.imshow(im, cmap = \"gray\")\n",
        "\n"
      ],
      "metadata": {
        "colab": {
          "base_uri": "https://localhost:8080/",
          "height": 441
        },
        "id": "oHGIRrKX4B4Q",
        "outputId": "35628270-a80d-476b-c14b-79ceece95829"
      },
      "execution_count": 2,
      "outputs": [
        {
          "output_type": "stream",
          "name": "stdout",
          "text": [
            "(64, 64)\n"
          ]
        },
        {
          "output_type": "execute_result",
          "data": {
            "text/plain": [
              "<matplotlib.image.AxesImage at 0x7fa98a8606d0>"
            ]
          },
          "metadata": {},
          "execution_count": 2
        },
        {
          "output_type": "display_data",
          "data": {
            "text/plain": [
              "<Figure size 640x480 with 1 Axes>"
            ],
            "image/png": "[encoded data removed]"
          },
          "metadata": {}
        }
      ]
    },
    {
      "cell_type": "markdown",
      "source": [
        "#Horizontal Edge Filter"
      ],
      "metadata": {
        "id": "hJBXz3qT4TT8"
      }
    },
    {
      "cell_type": "code",
      "source": [
        "filter1 = np.array([[1,1,1] , [0,0,0] , [-1 , -1 , -1]]\n",
        "                   )\n",
        "\n",
        "new_image = np.zeros(im.shape)\n",
        "\n",
        "im_pad = np.pad(im , 1, \"constant\")\n",
        "\n",
        "for i in range(im.shape[0]):\n",
        "  for j in range(im.shape[1]):\n",
        "    try:\n",
        "      new_image[i, j] = (\n",
        "          im_pad[i - 1, j -1] * filter1[0,0]\n",
        "          + im_pad[i -1 , j] * filter1[0,1]\n",
        "          + im_pad[i -1 , j + 1] * filter1[0,2]\n",
        "          + im_pad[i , j -1] * filter1[1,0]\n",
        "          + im_pad[i , j] * filter1[1,1]\n",
        "          + im_pad[i, j + 1] * filter1[1,2]\n",
        "          + im_pad[i + 1, j- 1] * filter1[2,0]\n",
        "          + im_pad[i + 1, j] * filter1[2,1]\n",
        "          + im_pad[i + 1, J + 1] * filter1[2,2]\n",
        "\n",
        "\n",
        "          )\n",
        "    except:\n",
        "      pass\n",
        "\n",
        "plt.axis(\"off\")\n",
        "plt.imshow(new_image, cmap=\"Greys\")\n",
        "\n"
      ],
      "metadata": {
        "colab": {
          "base_uri": "https://localhost:8080/",
          "height": 423
        },
        "id": "2k0VVc4n4SdH",
        "outputId": "afd5d5a1-142d-48de-d4d6-8f37d26d69f8"
      },
      "execution_count": 4,
      "outputs": [
        {
          "output_type": "execute_result",
          "data": {
            "text/plain": [
              "<matplotlib.image.AxesImage at 0x7fa980352710>"
            ]
          },
          "metadata": {},
          "execution_count": 4
        },
        {
          "output_type": "display_data",
          "data": {
            "text/plain": [
              "<Figure size 640x480 with 1 Axes>"
            ],
            "image/png": "[encoded data removed]"
          },
          "metadata": {}
        }
      ]
    },
    {
      "cell_type": "markdown",
      "source": [
        "#Vertical Edge Filter"
      ],
      "metadata": {
        "id": "5rCvhgI76-_T"
      }
    },
    {
      "cell_type": "code",
      "source": [
        "filter2 = np.array([[-1, 0 ,1] , [-1 , 0,1] , [-1 , 0, 1]])\n",
        "\n",
        "new_image = np.zeros(im.shape)\n",
        "\n",
        "im_pad = np.pad(im, 1 , \"constant\")\n",
        "\n",
        "for i in range(im.shape[0]):\n",
        "  for j in range(im.shape[1]):\n",
        "    try:\n",
        "      new_image[i,j] = (\n",
        "          im_pad[i -1 , j - 1] * filter2[0,0]\n",
        "          + im_pad[i - 1, j] * filter2[0,1]\n",
        "          + im_pad[i -1 , j + 1] * filter2[0,2]\n",
        "          + im_pad[i , j - 1] * filter2[1,0]\n",
        "          + im_pad[i , j] * filter2[1, 1]\n",
        "          + im_pad[i , j + 1] * filter2[1,2]\n",
        "          + im_pad[i + 1, j - 1] * filter2[2,0]\n",
        "          + im_pad[i + 1, j] * filter2[2,1]\n",
        "          + im_pad[i + 1, j + 1] * filter2[2,2]\n",
        "\n",
        "      )\n",
        "    except:\n",
        "      pass\n",
        "\n",
        "plt.axis(\"off\")\n",
        "plt.imshow(new_image, cmap = \"Greys\")"
      ],
      "metadata": {
        "colab": {
          "base_uri": "https://localhost:8080/",
          "height": 423
        },
        "id": "RKngXH3p60cP",
        "outputId": "1b664667-04fc-4d21-e5ec-cd8d99bf7767"
      },
      "execution_count": 6,
      "outputs": [
        {
          "output_type": "execute_result",
          "data": {
            "text/plain": [
              "<matplotlib.image.AxesImage at 0x7fa9802e2110>"
            ]
          },
          "metadata": {},
          "execution_count": 6
        },
        {
          "output_type": "display_data",
          "data": {
            "text/plain": [
              "<Figure size 640x480 with 1 Axes>"
            ],
            "image/png": "[encoded data removed]"
          },
          "metadata": {}
        }
      ]
    },
    {
      "cell_type": "markdown",
      "source": [
        "#Horizantal Edge Filter with Stride 2"
      ],
      "metadata": {
        "id": "HR1RwP4w82r4"
      }
    },
    {
      "cell_type": "code",
      "source": [
        "filter1 = np.array([[1,1,1] , [0,0,0] , [-1, -1, -1]])\n",
        "\n",
        "stride = 2\n",
        "\n",
        "new_image = np.zeros((int(im.shape[0] / stride) , int(im.shape[1] / stride)))\n",
        "\n",
        "im_pad = np.pad(im, 1, \"constant\")\n",
        "\n",
        "for i in range(0, im.shape[0], stride):\n",
        "  for j in range(0 , im.shape[1] , stride):\n",
        "    try:\n",
        "      new_image[int(i / stride) , int(j / stride)] = (\n",
        "           im_pad[i -1 , j - 1] * filter2[0,0]\n",
        "          + im_pad[i - 1, j] * filter2[0,1]\n",
        "          + im_pad[i -1 , j + 1] * filter2[0,2]\n",
        "          + im_pad[i , j - 1] * filter2[1,0]\n",
        "          + im_pad[i , j] * filter2[1, 1]\n",
        "          + im_pad[i , j + 1] * filter2[1,2]\n",
        "          + im_pad[i + 1, j - 1] * filter2[2,0]\n",
        "          + im_pad[i + 1, j] * filter2[2,1]\n",
        "          + im_pad[i + 1, j + 1] * filter2[2,2]\n",
        "      )\n",
        "    except:\n",
        "      pass\n",
        "\n",
        "plt.axis(\"off\")\n",
        "plt.imshow(new_image , cmap = \"Greys\")"
      ],
      "metadata": {
        "colab": {
          "base_uri": "https://localhost:8080/",
          "height": 423
        },
        "id": "JIZCNTh28zSP",
        "outputId": "6ef0acbc-0181-4e5f-fed6-f6d62fbad787"
      },
      "execution_count": 8,
      "outputs": [
        {
          "output_type": "execute_result",
          "data": {
            "text/plain": [
              "<matplotlib.image.AxesImage at 0x7fa97ffaa800>"
            ]
          },
          "metadata": {},
          "execution_count": 8
        },
        {
          "output_type": "display_data",
          "data": {
            "text/plain": [
              "<Figure size 640x480 with 1 Axes>"
            ],
            "image/png": "[encoded data removed]"
          },
          "metadata": {}
        }
      ]
    },
    {
      "cell_type": "markdown",
      "source": [
        "#Vertical Edge Filter with Stride 2"
      ],
      "metadata": {
        "id": "iWpPo0NY99KP"
      }
    },
    {
      "cell_type": "code",
      "source": [
        "filter2 = np.array([[-1 , 0 , 1], [ -1, 0 , 1] , [ -1, 0, 1]])\n",
        "\n",
        "stride = 2\n",
        "\n",
        "new_image = np.zeros((int(im.shape[0] / stride) , int(im.shape[1] / stride)))\n",
        "\n",
        "im_pad = np.pad(im, 1, \"constant\")\n",
        "\n",
        "for i in range(0 , im.shape[0] , stride):\n",
        "  for j in range(0, im.shape[1] , stride):\n",
        "    try:\n",
        "       new_image[int(i / stride) , int(j / stride)] = (\n",
        "           im_pad[i -1 , j - 1] * filter2[0,0]\n",
        "          + im_pad[i - 1, j] * filter2[0,1]\n",
        "          + im_pad[i -1 , j + 1] * filter2[0,2]\n",
        "          + im_pad[i , j - 1] * filter2[1,0]\\\n",
        "          + im_pad[i , j] * filter2[1, 1]\n",
        "          + im_pad[i , j + 1] * filter2[1,2]\n",
        "          + im_pad[i + 1, j - 1] * filter2[2,0]\n",
        "          + im_pad[i + 1, j] * filter2[2,1]\n",
        "          + im_pad[i + 1, j + 1] * filter2[2,2]\n",
        "\n",
        "      )\n",
        "    except:\n",
        "      pass\n",
        "\n",
        "plt.axis(\"off\")\n",
        "plt.imshow(new_image , cmap= \"Greys\")"
      ],
      "metadata": {
        "colab": {
          "base_uri": "https://localhost:8080/",
          "height": 423
        },
        "id": "HKifq6xH9wGU",
        "outputId": "2b55c4da-3c7f-4e4f-d7e7-58838830463d"
      },
      "execution_count": 9,
      "outputs": [
        {
          "output_type": "execute_result",
          "data": {
            "text/plain": [
              "<matplotlib.image.AxesImage at 0x7fa97ff07160>"
            ]
          },
          "metadata": {},
          "execution_count": 9
        },
        {
          "output_type": "display_data",
          "data": {
            "text/plain": [
              "<Figure size 640x480 with 1 Axes>"
            ],
            "image/png": "[encoded data removed]"
          },
          "metadata": {}
        }
      ]
    },
    {
      "cell_type": "code",
      "source": [],
      "metadata": {
        "id": "GpVcA1JI_SrG"
      },
      "execution_count": null,
      "outputs": []
    }
  ]
}