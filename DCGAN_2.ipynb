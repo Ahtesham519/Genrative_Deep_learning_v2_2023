{
  "nbformat": 4,
  "nbformat_minor": 0,
  "metadata": {
    "colab": {
      "provenance": [],
      "authorship_tag": "ABX9TyPm/qqAwavs4EdtYmH+Hd1V",
      "include_colab_link": true
    },
    "kernelspec": {
      "name": "python3",
      "display_name": "Python 3"
    },
    "language_info": {
      "name": "python"
    }
  },
  "cells": [
    {
      "cell_type": "markdown",
      "metadata": {
        "id": "view-in-github",
        "colab_type": "text"
      },
      "source": [
        "<a href=\"https://colab.research.google.com/github/Ahtesham519/Genrative_Deep_learning_v2_2023/blob/main/DCGAN_2.ipynb\" target=\"_parent\"><img src=\"https://colab.research.google.com/assets/colab-badge.svg\" alt=\"Open In Colab\"/></a>"
      ]
    },
    {
      "cell_type": "code",
      "execution_count": null,
      "metadata": {
        "id": "-6TuRLBMFqbv"
      },
      "outputs": [],
      "source": [
        "%load_ext autoreload\n",
        "%autoreload 2\n",
        "import numpy as np\n",
        "import matplotlib.pyplot as plt\n",
        "\n",
        "import tensorflow as tf\n",
        "from tensorflow.keras import (\n",
        "    layers,\n",
        "    models,\n",
        "    callbacks,\n",
        "    losses,\n",
        "    utils,\n",
        "    metrics,\n",
        "    optimizers,\n",
        ")\n"
      ]
    },
    {
      "cell_type": "markdown",
      "source": [
        "#0. Parameters"
      ],
      "metadata": {
        "id": "CygwNworGKWU"
      }
    },
    {
      "cell_type": "code",
      "source": [
        "IMAGE_SIZE = 64\n",
        "CHANNELS = 1\n",
        "BATCH_SIZE = 128\n",
        "Z_DIM = 100\n",
        "EPOCHS = 300\n",
        "LOAD_MODEL = False\n",
        "ADAM_BETA_1 = 0.5\n",
        "ADMA_BETA_2 = 0.999\n",
        "LEARNING_RATE = 0.0002\n",
        "NOISE_PARAM = 0.1\n"
      ],
      "metadata": {
        "id": "8Sl2T62lGJM3"
      },
      "execution_count": null,
      "outputs": []
    },
    {
      "cell_type": "markdown",
      "source": [
        "#1 Prepare the data"
      ],
      "metadata": {
        "id": "nnzChmURGjBB"
      }
    },
    {
      "cell_type": "code",
      "source": [
        "train_data = utils.image_dataset_from_directory(\n",
        "    \"/app/data/lego-brick-images/dataset/\",\n",
        "    labels = None,\n",
        "    color_mode = \"grayscale\",\n",
        "    image_size = (IMAGE_SIZE, IMAGE_SIZE),\n",
        "    batch_size = BATCH_SIZE,\n",
        "    shuffle = True,\n",
        "    seed = 42,\n",
        "    interpolation = \"bilinear\",\n",
        ")"
      ],
      "metadata": {
        "id": "yuZg5CIgGhCd"
      },
      "execution_count": null,
      "outputs": []
    },
    {
      "cell_type": "code",
      "source": [
        "def preprocess(img):\n",
        "  \"\"\"\n",
        "  Normalize and reshape the images\n",
        "  \"\"\"\n",
        "  img = (tf.cast(img, \"float32\")- 127.5)/ 127.5\n",
        "  return img\n",
        "\n",
        "train = train_data.map(lambda x: preprocess(x))"
      ],
      "metadata": {
        "id": "soYoOj3OHBtm"
      },
      "execution_count": null,
      "outputs": []
    },
    {
      "cell_type": "code",
      "source": [
        "train_sample = sample_batch(train)"
      ],
      "metadata": {
        "id": "O2S8b-qAHf-V"
      },
      "execution_count": null,
      "outputs": []
    },
    {
      "cell_type": "markdown",
      "source": [
        "#Build the GAN"
      ],
      "metadata": {
        "id": "DE6ggvKXHmFa"
      }
    },
    {
      "cell_type": "code",
      "source": [
        "discriminator_input = layers.Input(shape=(IMAGE_SIZE, IMAGE_SIZE , CHANNELS))\n",
        "x = layers.Conv2D(64, kernel_size = 4, strides =2 , padding = \"same\", use_bias = False)(\n",
        "    discriminator_input\n",
        ")\n",
        "x = layers.LeakyReLU(0.2)(x)\n",
        "x = layers.Dropout(0.3)(x)\n",
        "x = layers.Conv2D(\n",
        "    128, kernel_size = 4, strides = 2, padding=\"same\", use_bias = False\n",
        ")(x)\n",
        "x = layers.BatchNormalization(momentum = 0.9)(x)\n",
        "x = layers.LeakyReLU(0.2)(x)\n",
        "x = layers.Dropout(0.3)(x)\n",
        "x = layers.Conv2D(\n",
        "    256, kernel_size = 4 , strides = 2 , padding = \"same\" , use_bias = False\n",
        ")(x)\n",
        "x = layers.BatchNormalization(momentum = 0.9)(x)\n",
        "x = layers.LeakyReLU(0.2)(x)\n",
        "x = layers.Dropout(0.3)(x)\n",
        "x = layers.Conv2D(\n",
        "    512 , kernel_size = 4, strides = 2, padding = \"same\" , use_bias = False\n",
        ")(x)\n",
        "x = layers.BatchNormalization(momentum = 0.9)(x)\n",
        "x = layers.LeakyReLU(0.2)(x)\n",
        "x = layers.Dropout(0.3)(x)\n",
        "x = layers.Conv2D(\n",
        "    1,\n",
        "    kernel_size = 4,\n",
        "    strides = 1,\n",
        "    padding = \"valid\",\n",
        "    use_bias = False,\n",
        "    activation = \"sigmoid\",\n",
        ")(x)\n",
        "discriminator_output = layers.Flatten()(x)\n",
        "\n",
        "discriminator = models.Model(discriminator_input, discriminator_output)\n",
        "discriminator.summary()"
      ],
      "metadata": {
        "id": "dNdq-1gCHjMa"
      },
      "execution_count": null,
      "outputs": []
    },
    {
      "cell_type": "code",
      "source": [
        "generator_input = layers.Input(shape = (Z_DIM,))\n",
        "x = layers.Reshape((1,1, Z_DIM))(generator_input)\n",
        "x = layers.Conv2DTranspose(\n",
        "    512, kernel_size = 4 , strides = 1 , padding = \"valid\" , use_bias = False\n",
        ")(x)\n",
        "x = layers.BatchNormalization(momentum = 0.9)(x)\n",
        "x = layers.LeakyReLU(0.2)(x)\n",
        "x = layers.Conv2DTranspose(\n",
        "    256, kernel_size = 4, strides =2 , padding = \"same\", use_bias = False\n",
        ")(x)\n",
        "x = layers.BatchNormalization(momentum = 0.9)(x)\n",
        "x = layers.LeakyReLU(0.2)(x)\n",
        "x = layers.Conv2DTranspose(\n",
        "    128, kernel_size = 4 , strides = 2 , padding = \"same\", use_bias = False\n",
        ")(x)\n",
        "x = layers.BatchNormalization(momentum = 0.9)(x)\n",
        "x = layers.LeakyReLU(0.2)(x)\n",
        "x = layers.Conv2DTranspose(\n",
        "    64, kernel_size = 4, strides = 2, padding = \"same\", use_bias = False\n",
        ")(x)\n",
        "x = layers.BatchNormalization(momentum = 0.9)(x)\n",
        "x = layers.LeakyReLU(0.2)(x)\n",
        "generator_output = layers.Conv2DTranspose(\n",
        "    CHANNELS,\n",
        "    kernel_size = 4,\n",
        "    strides = 2,\n",
        "    padding = \"same\",\n",
        "    use_bias = False,\n",
        "    activation = \"tanh\",\n",
        ")(x)\n",
        "generator = models.Model(generator_input, generator_output)\n",
        "generator.summary()"
      ],
      "metadata": {
        "id": "lu7ivu9nJx5b"
      },
      "execution_count": null,
      "outputs": []
    },
    {
      "cell_type": "code",
      "source": [
        "class DCGAN(models.Model):\n",
        "  def __init__(self, discriminator, generator , latent_dim):\n",
        "    super(DCGAN, self) .__init__()\n",
        "    self.discriminator = discriminator\n",
        "    self.generator = generator\n",
        "    self.latent_dim = latent_dim\n",
        "\n",
        "  def compile(self, d_optimizer , g_optimzer):\n",
        "    super(DCGAN, self).compile()\n",
        "    self.loss_fn = losses.BinaryCrossentropy()\n",
        "    self.d_optimizer = d_optimizer\n",
        "    self.g_optimizer = g_optimizer\n",
        "    self.d_loss_metric = metrics.Mean(name = \"d_loss\")\n",
        "    self.d_real_acc_metric = metrics.BinaryCrossentropy(name = \"d_real_acc\")\n",
        "    self.d_fake_acc_metric = metrics.BinaryCrossentropy(name = \"d_fake_acc\")\n",
        "    self.d_acc_metric = metrics.BinaryAccuracy(name = \"d_acc\")\n",
        "    self.g_loss_metric = metrics.Mean(name = \"g_loss\")\n",
        "    self.g_acc_metric = metrics.BinaryAccuracy(name = \"g_acc\")\n",
        "\n",
        "  @property\n",
        "  def metrics(self):\n",
        "    return[\n",
        "        self.d_loss_metric,\n",
        "        self.d_real_acc_metric,\n",
        "        self.d_fake_acc_metric,\n",
        "        self.d_acc_metric,\n",
        "        self.g_loss_metric,\n",
        "        self.g_acc_metric,\n",
        "    ]\n",
        "\n",
        "  def train_step(self, real_images):\n",
        "    #Sample random points in the latent space\n",
        "    batch_size = tf.shape(real_images)[0]\n",
        "    random_latent_vectors = tf.random.normal(\n",
        "        shape=(batch_size, self.latent_dim)\n",
        "    )\n",
        "\n",
        "    #Train the discriminator on fake images\n",
        "    with tf.GradientTape() as gen_tape, tf.GradientTape() as disc_tape:\n",
        "      generated_images = self.generator(\n",
        "          random_latent_vectors, training = True\n",
        "      )\n",
        "      real_predictions = self.discriminator(real_images, training = True)\n",
        "      fake_predictions = self.discriminator(\n",
        "          generated_images , training = True\n",
        "      )\n",
        "      real_labels = tf.ones_like(real_predictions)\n",
        "      real_noisy_labels = real_labels + NOISE_PARAM * tf.random.uniform(\n",
        "          tf.shape(real_predictions)\n",
        "      )\n",
        "      fake_labels = tf.zeros_like(fake_predictions)\n",
        "      fake_noisy_labels = fake_labels - NOISE_PARAM * tf.random.uniform(\n",
        "          tf.shape(fake_predictions)\n",
        "      )\n",
        "\n",
        "      d_real_loss = self.loss_fn(real_noisy_labels, real_predictions)\n",
        "      d_fake_loss = self.loss_fn(fake_noisy_labels, fake_predictions)\n",
        "      d_loss = (d_real_loss + d_fake_loss) /2.0\n",
        "\n",
        "      g_loss = self.loss_fn(real_labels , fake_predictions)\n",
        "\n",
        "    gradients_of_discriminator = dics_tape.gradient(\n",
        "        d_loss , self.discriminator.trainable_varaibles\n",
        "    )\n",
        "    gradient_of_generator = gen_tape.gradient(\n",
        "        g_loss, self.generator.trainable_varaibles\n",
        "    )"
      ],
      "metadata": {
        "id": "vG_xpLPBqU3-"
      },
      "execution_count": null,
      "outputs": []
    }
  ]
}