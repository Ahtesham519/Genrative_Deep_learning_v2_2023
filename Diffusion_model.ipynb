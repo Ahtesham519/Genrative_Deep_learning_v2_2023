{
  "nbformat": 4,
  "nbformat_minor": 0,
  "metadata": {
    "colab": {
      "provenance": [],
      "authorship_tag": "ABX9TyN380CUFK4mSC+bViFqddyU",
      "include_colab_link": true
    },
    "kernelspec": {
      "name": "python3",
      "display_name": "Python 3"
    },
    "language_info": {
      "name": "python"
    }
  },
  "cells": [
    {
      "cell_type": "markdown",
      "metadata": {
        "id": "view-in-github",
        "colab_type": "text"
      },
      "source": [
        "<a href=\"https://colab.research.google.com/github/Ahtesham519/Genrative_Deep_learning_v2_2023/blob/main/Diffusion_model.ipynb\" target=\"_parent\"><img src=\"https://colab.research.google.com/assets/colab-badge.svg\" alt=\"Open In Colab\"/></a>"
      ]
    },
    {
      "cell_type": "markdown",
      "source": [
        "#Diffusion model"
      ],
      "metadata": {
        "id": "T-hrV4CVIR7X"
      }
    },
    {
      "cell_type": "code",
      "execution_count": null,
      "metadata": {
        "id": "x2E4c4-ZINxs"
      },
      "outputs": [],
      "source": [
        "%load_ext autoreload\n",
        "%autoreload 2\n",
        "import numpy as np\n",
        "import matplotlib.pyplot as plt\n",
        "\n",
        "plt.style.use(\"seaborn-v0_8-colorblind\")\n",
        "\n",
        "import math\n",
        "\n",
        "import tensorflow as tf\n",
        "from tensorflow.keras import(\n",
        "    layers,\n",
        "    models,\n",
        "    optimizers,\n",
        "    utils,\n",
        "    callbacks,\n",
        "    metrics,\n",
        "    losses,\n",
        "    activation,\n",
        ")\n",
        "\n"
      ]
    },
    {
      "cell_type": "markdown",
      "source": [
        "#0. Parameters"
      ],
      "metadata": {
        "id": "1hSu7GcII0TT"
      }
    },
    {
      "cell_type": "code",
      "source": [
        "IMAGE_SIZE = 64\n",
        "BATCH_SIZE = 64\n",
        "DATASET_REPETITIONS = 5\n",
        "LOAD_MODEL = False\n",
        "\n",
        "NOISE_EMBEDDING_SIZE = 32\n",
        "PLOT_DIFFUSION_STEPS = 20\n",
        "\n",
        "#optimization\n",
        "EMA = 0.999\n",
        "LEARNING_RATE = 1e-3\n",
        "WEIGHT_DECAY = 1e-4\n",
        "EPOCHS = 50"
      ],
      "metadata": {
        "id": "RJic91T1IyTe"
      },
      "execution_count": null,
      "outputs": []
    },
    {
      "cell_type": "markdown",
      "source": [
        "#1. Prepare the data"
      ],
      "metadata": {
        "id": "_N4O7uvaJPaN"
      }
    },
    {
      "cell_type": "code",
      "source": [
        "#load the data\n",
        "train_data = utils.image_dataset_from_directory(\n",
        "    \"/app/data/pytorch-challange-flower-dataset/dataset\",\n",
        "    labels = None,\n",
        "    image_size = (IMAGE_SIZE , IMAGE_SIZE),\n",
        "    batch_size = None,\n",
        "    shuffle = True,\n",
        "    seed = 42,\n",
        "    interpolation = \"bilibear\",\n",
        ")"
      ],
      "metadata": {
        "id": "W3hqD5ICJONq"
      },
      "execution_count": null,
      "outputs": []
    },
    {
      "cell_type": "code",
      "source": [
        "#prepare the data\n",
        "def preprocess(img):\n",
        "  img = tf.cast(img, \"float32\") / 255.0\n",
        "  return img\n",
        "\n",
        "train = train_data.map(lambda x: preprocess(x))\n",
        "train = train.repeat(DATASET_REPETITIONS)\n",
        "train = train.batch(BATCH_SIZE, drop_remainder = True)"
      ],
      "metadata": {
        "id": "8OUKX9sGJnSS"
      },
      "execution_count": null,
      "outputs": []
    },
    {
      "cell_type": "code",
      "source": [
        "#Show some items of clothing from the training set\n",
        "train_sample = sample_batch(train)\n",
        "display(train_sample)"
      ],
      "metadata": {
        "id": "iA8hts7OJ7DE"
      },
      "execution_count": null,
      "outputs": []
    }
  ]
}