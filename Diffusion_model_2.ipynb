{
  "nbformat": 4,
  "nbformat_minor": 0,
  "metadata": {
    "colab": {
      "provenance": [],
      "authorship_tag": "ABX9TyMSCTpoxhijyUf1ZAFqJPPM",
      "include_colab_link": true
    },
    "kernelspec": {
      "name": "python3",
      "display_name": "Python 3"
    },
    "language_info": {
      "name": "python"
    }
  },
  "cells": [
    {
      "cell_type": "markdown",
      "metadata": {
        "id": "view-in-github",
        "colab_type": "text"
      },
      "source": [
        "<a href=\"https://colab.research.google.com/github/Ahtesham519/Genrative_Deep_learning_v2_2023/blob/main/Diffusion_model_2.ipynb\" target=\"_parent\"><img src=\"https://colab.research.google.com/assets/colab-badge.svg\" alt=\"Open In Colab\"/></a>"
      ]
    },
    {
      "cell_type": "markdown",
      "source": [
        "#Diffusion model"
      ],
      "metadata": {
        "id": "T-hrV4CVIR7X"
      }
    },
    {
      "cell_type": "code",
      "execution_count": null,
      "metadata": {
        "id": "x2E4c4-ZINxs"
      },
      "outputs": [],
      "source": [
        "%load_ext autoreload\n",
        "%autoreload 2\n",
        "import numpy as np\n",
        "import matplotlib.pyplot as plt\n",
        "\n",
        "plt.style.use(\"seaborn-v0_8-colorblind\")\n",
        "\n",
        "import math\n",
        "\n",
        "import tensorflow as tf\n",
        "from tensorflow.keras import(\n",
        "    layers,\n",
        "    models,\n",
        "    optimizers,\n",
        "    utils,\n",
        "    callbacks,\n",
        "    metrics,\n",
        "    losses,\n",
        "    activation,\n",
        ")\n",
        "\n"
      ]
    },
    {
      "cell_type": "markdown",
      "source": [
        "#0. Parameters"
      ],
      "metadata": {
        "id": "1hSu7GcII0TT"
      }
    },
    {
      "cell_type": "code",
      "source": [
        "IMAGE_SIZE = 64\n",
        "BATCH_SIZE = 64\n",
        "DATASET_REPETITIONS = 5\n",
        "LOAD_MODEL = False\n",
        "\n",
        "NOISE_EMBEDDING_SIZE = 32\n",
        "PLOT_DIFFUSION_STEPS = 20\n",
        "\n",
        "#optimization\n",
        "EMA = 0.999\n",
        "LEARNING_RATE = 1e-3\n",
        "WEIGHT_DECAY = 1e-4\n",
        "EPOCHS = 50"
      ],
      "metadata": {
        "id": "RJic91T1IyTe"
      },
      "execution_count": null,
      "outputs": []
    },
    {
      "cell_type": "markdown",
      "source": [
        "#1. Prepare the data"
      ],
      "metadata": {
        "id": "_N4O7uvaJPaN"
      }
    },
    {
      "cell_type": "code",
      "source": [
        "#load the data\n",
        "train_data = utils.image_dataset_from_directory(\n",
        "    \"/app/data/pytorch-challange-flower-dataset/dataset\",\n",
        "    labels = None,\n",
        "    image_size = (IMAGE_SIZE , IMAGE_SIZE),\n",
        "    batch_size = None,\n",
        "    shuffle = True,\n",
        "    seed = 42,\n",
        "    interpolation = \"bilibear\",\n",
        ")"
      ],
      "metadata": {
        "id": "W3hqD5ICJONq"
      },
      "execution_count": null,
      "outputs": []
    },
    {
      "cell_type": "code",
      "source": [
        "#prepare the data\n",
        "def preprocess(img):\n",
        "  img = tf.cast(img, \"float32\") / 255.0\n",
        "  return img\n",
        "\n",
        "train = train_data.map(lambda x: preprocess(x))\n",
        "train = train.repeat(DATASET_REPETITIONS)\n",
        "train = train.batch(BATCH_SIZE, drop_remainder = True)"
      ],
      "metadata": {
        "id": "8OUKX9sGJnSS"
      },
      "execution_count": null,
      "outputs": []
    },
    {
      "cell_type": "code",
      "source": [
        "#Show some items of clothing from the training set\n",
        "train_sample = sample_batch(train)\n",
        "display(train_sample)"
      ],
      "metadata": {
        "colab": {
          "base_uri": "https://localhost:8080/",
          "height": 210
        },
        "id": "iA8hts7OJ7DE",
        "outputId": "e5fd9df6-6100-47cc-fbfb-74e38eec30f3"
      },
      "execution_count": 1,
      "outputs": [
        {
          "output_type": "error",
          "ename": "NameError",
          "evalue": "ignored",
          "traceback": [
            "\u001b[0;31m---------------------------------------------------------------------------\u001b[0m",
            "\u001b[0;31mNameError\u001b[0m                                 Traceback (most recent call last)",
            "\u001b[0;32m<ipython-input-1-f4e6ebb77264>\u001b[0m in \u001b[0;36m<cell line: 2>\u001b[0;34m()\u001b[0m\n\u001b[1;32m      1\u001b[0m \u001b[0;31m#Show some items of clothing from the training set\u001b[0m\u001b[0;34m\u001b[0m\u001b[0;34m\u001b[0m\u001b[0m\n\u001b[0;32m----> 2\u001b[0;31m \u001b[0mtrain_sample\u001b[0m \u001b[0;34m=\u001b[0m \u001b[0msample_batch\u001b[0m\u001b[0;34m(\u001b[0m\u001b[0mtrain\u001b[0m\u001b[0;34m)\u001b[0m\u001b[0;34m\u001b[0m\u001b[0;34m\u001b[0m\u001b[0m\n\u001b[0m\u001b[1;32m      3\u001b[0m \u001b[0mdisplay\u001b[0m\u001b[0;34m(\u001b[0m\u001b[0mtrain_sample\u001b[0m\u001b[0;34m)\u001b[0m\u001b[0;34m\u001b[0m\u001b[0;34m\u001b[0m\u001b[0m\n",
            "\u001b[0;31mNameError\u001b[0m: name 'sample_batch' is not defined"
          ]
        }
      ]
    },
    {
      "cell_type": "markdown",
      "source": [
        "#1.1 Diffusion schedules"
      ],
      "metadata": {
        "id": "huoa8C_XOHXn"
      }
    },
    {
      "cell_type": "code",
      "source": [
        "def linear_diffusion_schedule(diffusion_times):\n",
        "  min_rate = 0.0001\n",
        "  max_rate = 0.02\n",
        "  betas = min_rate + diffusion_times_ * (max_rate - min_rate)\n",
        "  alphas = 1 - betas\n",
        "  alpha_bars = tf.math.cumprod(alphas)\n",
        "  signal_rate = tf.sqrt(alpha_bars)\n",
        "  noise_rate = tf.sqrt(1 - alpha_bars)\n",
        "  return noise_rates  , signal_rates"
      ],
      "metadata": {
        "id": "CXoRKViiOGsZ"
      },
      "execution_count": 2,
      "outputs": []
    },
    {
      "cell_type": "code",
      "source": [
        "def cosine_diffusion_schedule(diffsuion_times):\n",
        "  signal_rate = tf.cos(diffusion_times * math.pi / 2)\n",
        "  noise_rates = tf.sin(diffusion_times * math.pi / 2)\n",
        "  return noise_rates , signal_rates\n",
        ""
      ],
      "metadata": {
        "id": "WdICNi5jPV_J"
      },
      "execution_count": 3,
      "outputs": []
    },
    {
      "cell_type": "code",
      "source": [
        "def offset_cosine_diffusion_schedule(diffusion_times):\n",
        "  min_signal_rate = 0.02\n",
        "  max_signal_rate = 0.95\n",
        "  start_angle = tf.acos(max_signal_rate)\n",
        "  end_angle = tf.acos(min_signal_rate)\n",
        "\n",
        "  diffusion_angles = start_angle + diffusion_times * (end_angle -start_angle)\n",
        "\n",
        "  signal_rates = tf.cos(diffusion_angles)\n",
        "  noise_rates = tf.sin(diffusion_angles)\n",
        "\n",
        "  return noise_rates , signal_rates"
      ],
      "metadata": {
        "id": "x5o9kTFWPnoS"
      },
      "execution_count": 4,
      "outputs": []
    },
    {
      "cell_type": "code",
      "source": [],
      "metadata": {
        "id": "-Rz6o93uQOyq"
      },
      "execution_count": null,
      "outputs": []
    },
    {
      "cell_type": "code",
      "source": [
        "T = 1000\n",
        "diffusion_times = tf.convert_to_tensor([x /T for x in range(T)])\n",
        "linear_noise_rates , linear_signal_rates = linear_diffusion_schedule(\n",
        "    diffusion_times\n",
        ")\n",
        "cosine_noise_rates , cosine_signal_rates = cosine_diffusion_schedule(\n",
        "    diffusion_times\n",
        ")\n",
        "(\n",
        "    offset_cosine_noise_rates ,\n",
        "    offset_cosine_signal_rates ,\n",
        ") = offset_cosine_diffusion_schedule(diffusion_times)"
      ],
      "metadata": {
        "colab": {
          "base_uri": "https://localhost:8080/",
          "height": 245
        },
        "id": "T0UByzsbQG8x",
        "outputId": "4f8a023d-d11d-46bd-f60f-8dbf21ca66a4"
      },
      "execution_count": 5,
      "outputs": [
        {
          "output_type": "error",
          "ename": "NameError",
          "evalue": "ignored",
          "traceback": [
            "\u001b[0;31m---------------------------------------------------------------------------\u001b[0m",
            "\u001b[0;31mNameError\u001b[0m                                 Traceback (most recent call last)",
            "\u001b[0;32m<ipython-input-5-eaf1aff639c3>\u001b[0m in \u001b[0;36m<cell line: 2>\u001b[0;34m()\u001b[0m\n\u001b[1;32m      1\u001b[0m \u001b[0mT\u001b[0m \u001b[0;34m=\u001b[0m \u001b[0;36m1000\u001b[0m\u001b[0;34m\u001b[0m\u001b[0;34m\u001b[0m\u001b[0m\n\u001b[0;32m----> 2\u001b[0;31m \u001b[0mdiffusion_times\u001b[0m \u001b[0;34m=\u001b[0m \u001b[0mtf\u001b[0m\u001b[0;34m.\u001b[0m\u001b[0mconvert_to_tensor\u001b[0m\u001b[0;34m(\u001b[0m\u001b[0;34m[\u001b[0m\u001b[0mx\u001b[0m \u001b[0;34m/\u001b[0m\u001b[0mT\u001b[0m \u001b[0;32mfor\u001b[0m \u001b[0mx\u001b[0m \u001b[0;32min\u001b[0m \u001b[0mrange\u001b[0m\u001b[0;34m(\u001b[0m\u001b[0mT\u001b[0m\u001b[0;34m)\u001b[0m\u001b[0;34m]\u001b[0m\u001b[0;34m)\u001b[0m\u001b[0;34m\u001b[0m\u001b[0;34m\u001b[0m\u001b[0m\n\u001b[0m\u001b[1;32m      3\u001b[0m linear_noise_rates , linear_signal_rates = linear_diffusion_schedule(\n\u001b[1;32m      4\u001b[0m     \u001b[0mdiffusion_times\u001b[0m\u001b[0;34m\u001b[0m\u001b[0;34m\u001b[0m\u001b[0m\n\u001b[1;32m      5\u001b[0m )\n",
            "\u001b[0;31mNameError\u001b[0m: name 'tf' is not defined"
          ]
        }
      ]
    },
    {
      "cell_type": "code",
      "source": [
        "plt.plot(\n",
        "    diffusion_times , linear_signal_rates ** 2 , linewidth = 1.5, label = \"linear\"\n",
        ")\n",
        "plt.plot(\n",
        "    diffusion_times , cosine_signal_rates ** 2 , linewidth = 1.5, label = \"cosine\"\n",
        ")\n",
        "plt.plot(\n",
        "    diffusion_times ,\n",
        "    offset_cosine_signal_rates ** 2,\n",
        "    linewidth = 1.5,\n",
        "    label = \"offset_cosine\",\n",
        ")\n",
        "\n",
        "plt.xlabel(\"t/T\" , fontsize = 12)\n",
        "plt.ylabel(r\"$\\bar{\\alpha_t}$ (signal)\", fontsize = 12)\n",
        "plt.legend()\n",
        "plt.show()"
      ],
      "metadata": {
        "colab": {
          "base_uri": "https://localhost:8080/",
          "height": 245
        },
        "id": "j1EhhuBmQrjf",
        "outputId": "80932e5f-7ce9-4b89-883c-c23cae8b6751"
      },
      "execution_count": 6,
      "outputs": [
        {
          "output_type": "error",
          "ename": "NameError",
          "evalue": "ignored",
          "traceback": [
            "\u001b[0;31m---------------------------------------------------------------------------\u001b[0m",
            "\u001b[0;31mNameError\u001b[0m                                 Traceback (most recent call last)",
            "\u001b[0;32m<ipython-input-6-efdbfae7cefb>\u001b[0m in \u001b[0;36m<cell line: 1>\u001b[0;34m()\u001b[0m\n\u001b[0;32m----> 1\u001b[0;31m plt.plot(\n\u001b[0m\u001b[1;32m      2\u001b[0m     \u001b[0mdiffusion_times\u001b[0m \u001b[0;34m,\u001b[0m \u001b[0mlinear_signal_rates\u001b[0m \u001b[0;34m**\u001b[0m \u001b[0;36m2\u001b[0m \u001b[0;34m,\u001b[0m \u001b[0mlinewidth\u001b[0m \u001b[0;34m=\u001b[0m \u001b[0;36m1.5\u001b[0m\u001b[0;34m,\u001b[0m \u001b[0mlabel\u001b[0m \u001b[0;34m=\u001b[0m \u001b[0;34m\"linear\"\u001b[0m\u001b[0;34m\u001b[0m\u001b[0;34m\u001b[0m\u001b[0m\n\u001b[1;32m      3\u001b[0m )\n\u001b[1;32m      4\u001b[0m plt.plot(\n\u001b[1;32m      5\u001b[0m     \u001b[0mdiffusion_times\u001b[0m \u001b[0;34m,\u001b[0m \u001b[0mcosine_signal_rates\u001b[0m \u001b[0;34m**\u001b[0m \u001b[0;36m2\u001b[0m \u001b[0;34m,\u001b[0m \u001b[0mlinewidth\u001b[0m \u001b[0;34m=\u001b[0m \u001b[0;36m1.5\u001b[0m\u001b[0;34m,\u001b[0m \u001b[0mlabel\u001b[0m \u001b[0;34m=\u001b[0m \u001b[0;34m\"cosine\"\u001b[0m\u001b[0;34m\u001b[0m\u001b[0;34m\u001b[0m\u001b[0m\n",
            "\u001b[0;31mNameError\u001b[0m: name 'plt' is not defined"
          ]
        }
      ]
    },
    {
      "cell_type": "code",
      "source": [
        "plt.plot(\n",
        "    difffusion_times , linear_noise_rates ** 2, linearwidth = 1.5, label = \"linear\"\n",
        ")\n",
        "plt.plot(\n",
        "    diffusion_times , cosine_noise_rates ** 2, linewidth = 1.5 , label = \"cosine\"\n",
        ")\n",
        "plt.plot(\n",
        "    diffusion_times ,\n",
        "    offset_cosine_noise_rates ** 2,\n",
        "    linewidth = 1.5,\n",
        "    label = \"offset_cosine\",\n",
        ")\n",
        "\n",
        "plt.xlabel(\"t/T\" , fontsize = 12)\n",
        "plt.ylabel(r\"$1 -\\bar{\\alpha_t}$ (noise)\" , fontsize = 12)\n",
        "plt.legend()\n",
        "plt.show()"
      ],
      "metadata": {
        "colab": {
          "base_uri": "https://localhost:8080/",
          "height": 245
        },
        "id": "4I8QOTyuRSND",
        "outputId": "b741f816-b68d-41d6-cb8c-3085cb400394"
      },
      "execution_count": 7,
      "outputs": [
        {
          "output_type": "error",
          "ename": "NameError",
          "evalue": "ignored",
          "traceback": [
            "\u001b[0;31m---------------------------------------------------------------------------\u001b[0m",
            "\u001b[0;31mNameError\u001b[0m                                 Traceback (most recent call last)",
            "\u001b[0;32m<ipython-input-7-5539bc09b50f>\u001b[0m in \u001b[0;36m<cell line: 1>\u001b[0;34m()\u001b[0m\n\u001b[0;32m----> 1\u001b[0;31m plt.plot(\n\u001b[0m\u001b[1;32m      2\u001b[0m     \u001b[0mdifffusion_times\u001b[0m \u001b[0;34m,\u001b[0m \u001b[0mlinear_noise_rates\u001b[0m \u001b[0;34m**\u001b[0m \u001b[0;36m2\u001b[0m\u001b[0;34m,\u001b[0m \u001b[0mlinearwidth\u001b[0m \u001b[0;34m=\u001b[0m \u001b[0;36m1.5\u001b[0m\u001b[0;34m,\u001b[0m \u001b[0mlabel\u001b[0m \u001b[0;34m=\u001b[0m \u001b[0;34m\"linear\"\u001b[0m\u001b[0;34m\u001b[0m\u001b[0;34m\u001b[0m\u001b[0m\n\u001b[1;32m      3\u001b[0m )\n\u001b[1;32m      4\u001b[0m plt.plot(\n\u001b[1;32m      5\u001b[0m     \u001b[0mdiffusion_times\u001b[0m \u001b[0;34m,\u001b[0m \u001b[0mcosine_noise_rates\u001b[0m \u001b[0;34m**\u001b[0m \u001b[0;36m2\u001b[0m\u001b[0;34m,\u001b[0m \u001b[0mlinewidth\u001b[0m \u001b[0;34m=\u001b[0m \u001b[0;36m1.5\u001b[0m \u001b[0;34m,\u001b[0m \u001b[0mlabel\u001b[0m \u001b[0;34m=\u001b[0m \u001b[0;34m\"cosine\"\u001b[0m\u001b[0;34m\u001b[0m\u001b[0;34m\u001b[0m\u001b[0m\n",
            "\u001b[0;31mNameError\u001b[0m: name 'plt' is not defined"
          ]
        }
      ]
    },
    {
      "cell_type": "markdown",
      "source": [
        "#2. Build the model"
      ],
      "metadata": {
        "id": "ADaiCPi4R-39"
      }
    },
    {
      "cell_type": "code",
      "source": [
        "def sinusoidal_embedding(x):\n",
        "  frequencies = tf.exp(\n",
        "      tf.linspace(\n",
        "          tf.math.log(1.0),\n",
        "          tf.math.log(1000, 0),\n",
        "          NOISE_EMBEDDING_SIZE // 2,\n",
        "      )\n",
        "  )\n",
        "  angular_speeds = 2.0 * math.pi * frequencies\n",
        "  embeddings = tf.concat(\n",
        "      [tf.sin(angular_speeds * x) , tf.cos(angular_speeds * x)], axis = 3\n",
        "  )\n",
        "  return embeddings\n",
        ""
      ],
      "metadata": {
        "id": "5AGCK93IR9fd"
      },
      "execution_count": 8,
      "outputs": []
    },
    {
      "cell_type": "code",
      "source": [
        "embedding_list = []\n",
        "for y in np.arange(0,1,0.01):\n",
        "  embedding_list.append(sinusoidal_embedding(np.array([[[[y]]]]))[0][0][0])\n",
        "embedding_array = np.array(np.transpose(embedding_list))\n",
        "fig, ax = plt.subplots()\n",
        "ax.set_xticks(\n",
        "    np.arange(0, 100 , 10), labels = np.round(np.arange(0.0, 1.0, 0.1), 1)\n",
        ")\n"
      ],
      "metadata": {
        "id": "fMqbkyHmSkZH"
      },
      "execution_count": null,
      "outputs": []
    }
  ]
}