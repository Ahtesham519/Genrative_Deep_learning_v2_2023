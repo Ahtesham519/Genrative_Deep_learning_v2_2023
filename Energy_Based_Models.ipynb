{
  "nbformat": 4,
  "nbformat_minor": 0,
  "metadata": {
    "colab": {
      "provenance": [],
      "authorship_tag": "ABX9TyOEUmixNBdflPMmZPeSMBi8",
      "include_colab_link": true
    },
    "kernelspec": {
      "name": "python3",
      "display_name": "Python 3"
    },
    "language_info": {
      "name": "python"
    }
  },
  "cells": [
    {
      "cell_type": "markdown",
      "metadata": {
        "id": "view-in-github",
        "colab_type": "text"
      },
      "source": [
        "<a href=\"https://colab.research.google.com/github/Ahtesham519/Genrative_Deep_learning_v2_2023/blob/main/Energy_Based_Models.ipynb\" target=\"_parent\"><img src=\"https://colab.research.google.com/assets/colab-badge.svg\" alt=\"Open In Colab\"/></a>"
      ]
    },
    {
      "cell_type": "code",
      "execution_count": 1,
      "metadata": {
        "id": "6wvvkXTjkwkF"
      },
      "outputs": [],
      "source": [
        "%load_ext autoreload\n",
        "%autoreload 2\n",
        "\n",
        "import numpy as np\n",
        "\n",
        "import tensorflow as tf\n",
        "from tensorflow.keras import (\n",
        "    datasets,\n",
        "    layers,\n",
        "    models,\n",
        "    optimizers,\n",
        "    activations,\n",
        "    metrics,\n",
        "    callbacks,\n",
        "\n",
        ")\n",
        "import random"
      ]
    },
    {
      "cell_type": "markdown",
      "source": [
        "#0.  Parameters"
      ],
      "metadata": {
        "id": "2rSLFZbbmK4Y"
      }
    },
    {
      "cell_type": "code",
      "source": [
        "IMAGE_SIZE = 32\n",
        "CHANNELS = 1\n",
        "STEP_SIZE = 10\n",
        "STEPS = 60\n",
        "NOISE = 0.005\n",
        "ALPHA = 0.1\n",
        "GRADIENT_CLIP = 0.03\n",
        "BATCH_SIZE = 128\n",
        "BUFFER_SIZE = 8192\n",
        "LEARNING_RATE = 0.0001\n",
        "EPOCHS = 60\n",
        "LOAD_MODEL = False\n"
      ],
      "metadata": {
        "id": "uCJxH1p2mJwT"
      },
      "execution_count": 2,
      "outputs": []
    },
    {
      "cell_type": "code",
      "source": [
        "#Load the data\n",
        "(x_train, _), (x_test, _) = datasets.mnist.load_data()"
      ],
      "metadata": {
        "id": "vVjj4aNxmncM",
        "colab": {
          "base_uri": "https://localhost:8080/"
        },
        "outputId": "8c8dc032-2408-461a-f752-f3bc1bd1d92c"
      },
      "execution_count": 3,
      "outputs": [
        {
          "output_type": "stream",
          "name": "stdout",
          "text": [
            "Downloading data from https://storage.googleapis.com/tensorflow/tf-keras-datasets/mnist.npz\n",
            "11490434/11490434 [==============================] - 0s 0us/step\n"
          ]
        }
      ]
    },
    {
      "cell_type": "code",
      "source": [
        "#Preprocess the data\n",
        "\n",
        "def preprocess(imgs):\n",
        "  \"\"\"\n",
        "  Normalize and reshape the images\n",
        "  \"\"\"\n",
        "  imgs = (imgs.astype(\"float32\") - 127.5)/ 127.5\n",
        "  imgs = np.pad(imgs, ((0,0) ,( 2,2) , (2,2)) , constant_values = -1.0)\n",
        "  imgs = np.expand_dims(imgs, -1)\n",
        "  return imgs\n",
        "\n",
        "  x_train = preprocess(x_train)\n",
        "  x_test = preprocess(x_test)\n",
        "\n"
      ],
      "metadata": {
        "id": "AD8oe9Eimu9V"
      },
      "execution_count": 4,
      "outputs": []
    },
    {
      "cell_type": "code",
      "source": [
        "x_train = tf.data.Dataset.from_tensor_slices(x_train).batch(BATCH_SIZE)\n",
        "x_test = tf.data.Dataset.from_tensor_slices(x_test).batch(BATCH_SIZE)"
      ],
      "metadata": {
        "id": "UVd09MdPnRuD"
      },
      "execution_count": 5,
      "outputs": []
    },
    {
      "cell_type": "code",
      "source": [
        "#Show some items of the clothing from the training set\n",
        "x_train"
      ],
      "metadata": {
        "colab": {
          "base_uri": "https://localhost:8080/"
        },
        "id": "K2gj76WWngOb",
        "outputId": "6eb50694-d559-43df-ac80-add534be290b"
      },
      "execution_count": 6,
      "outputs": [
        {
          "output_type": "execute_result",
          "data": {
            "text/plain": [
              "<_BatchDataset element_spec=TensorSpec(shape=(None, 28, 28), dtype=tf.uint8, name=None)>"
            ]
          },
          "metadata": {},
          "execution_count": 6
        }
      ]
    },
    {
      "cell_type": "markdown",
      "source": [
        "#2. Build the EBM network"
      ],
      "metadata": {
        "id": "flMC7UdHoDic"
      }
    },
    {
      "cell_type": "code",
      "source": [
        "ebm_input = layers.Input(shape=(IMAGE_SIZE, IMAGE_SIZE , CHANNELS))\n",
        "x = layers.Conv2D(\n",
        "    16,kernel_size = 5, strides=2, padding= \"same\", activation= activations.swish\n",
        ")(ebm_input)\n",
        "x = layers.Conv2D(\n",
        "    32, kernel_size = 3, strides= 2 , padding = \"same\", activation = activations.swish\n",
        ")(x)\n",
        "x = layers.Conv2D(\n",
        "    64, kernel_size = 3, strides=2, padding = \"same\" , activation = activations.swish\n",
        ")(x)\n",
        "x = layers.Conv2D(\n",
        "    64, kernel_size = 3, strides = 2, padding = \"same\", activation = activations.swish\n",
        ")(x)\n",
        "x = layers.Flatten()(x)\n",
        "x = layers.Dense(64, activation = activations.swish)(x)\n",
        "ebm_output = layers.Dense(1)(x)\n",
        "model = models.Model(ebm_input,ebm_output)\n",
        "model.summary()\n"
      ],
      "metadata": {
        "colab": {
          "base_uri": "https://localhost:8080/"
        },
        "id": "kw7g4KXEnq3v",
        "outputId": "bf37c2db-3653-4eaa-d043-94c826d32924"
      },
      "execution_count": 7,
      "outputs": [
        {
          "output_type": "stream",
          "name": "stdout",
          "text": [
            "Model: \"model\"\n",
            "_________________________________________________________________\n",
            " Layer (type)                Output Shape              Param #   \n",
            "=================================================================\n",
            " input_1 (InputLayer)        [(None, 32, 32, 1)]       0         \n",
            "                                                                 \n",
            " conv2d (Conv2D)             (None, 16, 16, 16)        416       \n",
            "                                                                 \n",
            " conv2d_1 (Conv2D)           (None, 8, 8, 32)          4640      \n",
            "                                                                 \n",
            " conv2d_2 (Conv2D)           (None, 4, 4, 64)          18496     \n",
            "                                                                 \n",
            " conv2d_3 (Conv2D)           (None, 2, 2, 64)          36928     \n",
            "                                                                 \n",
            " flatten (Flatten)           (None, 256)               0         \n",
            "                                                                 \n",
            " dense (Dense)               (None, 64)                16448     \n",
            "                                                                 \n",
            " dense_1 (Dense)             (None, 1)                 65        \n",
            "                                                                 \n",
            "=================================================================\n",
            "Total params: 76,993\n",
            "Trainable params: 76,993\n",
            "Non-trainable params: 0\n",
            "_________________________________________________________________\n"
          ]
        }
      ]
    },
    {
      "cell_type": "code",
      "source": [
        "if LOAD_MODEL:\n",
        "  model.load_weights(\"./models/model.h5\")"
      ],
      "metadata": {
        "id": "wf7OYw1bpnD4"
      },
      "execution_count": 8,
      "outputs": []
    },
    {
      "cell_type": "markdown",
      "source": [
        "#2. Set up a Langevin sampler function"
      ],
      "metadata": {
        "id": "mAMextZKp9pn"
      }
    },
    {
      "cell_type": "code",
      "source": [
        "#Function to generate samples using Langevin Dynamics\n",
        "def generate_samples(\n",
        "    model, inps_imgs, steps, step_size, noise, return_img_per_step = False\n",
        "):\n",
        "    imgs_per_step = []\n",
        "    for _ in range(steps):\n",
        "      inp_imgs += tf.random.normal(inp_imgs.shape, mean = 0 , stddev = noise)\n",
        "      inp_imgs = tf.clip_by_value(inp_imgs, -1.0 , 1.0)\n",
        "      with tf.GradientTape() as tape:\n",
        "        tape.watch(inp_imgs)\n",
        "        out_score = model(inp_imgs)\n",
        "      grads = tape.gradient(out_score, inp_imgs)\n",
        "      grads = tf.clip_by_value(grads, -GRADIENT_CLIP , GRADIENT_CLIP)\n",
        "      inp_imgs += step_size * grads\n",
        "      inp_imgs = tf.clip_by_value(inp_imgs, -1.0 , 1.0)\n",
        "      if return_img_per_step:\n",
        "        imgs_per_step.append(inp_imgs)\n",
        "    if return_img_per_step:\n",
        "      return tf.stack(imgs_per_step, axis = 0)\n",
        "    else:\n",
        "      return inp_imgs"
      ],
      "metadata": {
        "id": "oo_7dEAsp9DT"
      },
      "execution_count": 9,
      "outputs": []
    },
    {
      "cell_type": "markdown",
      "source": [
        "#3. Set up a buffer to store examples"
      ],
      "metadata": {
        "id": "bJCq4_28Rx9J"
      }
    },
    {
      "cell_type": "code",
      "source": [
        "class Buffer:\n",
        "  def __init__(self, model):\n",
        "    super().__init__()\n",
        "    self.model = model\n",
        "    self.examples = [\n",
        "        tf.random.uniform(shape =(1, IMAGE_SIZE , IMAGE_SIZE , CHANNELS)) * 2\n",
        "        -1\n",
        "        for _ in range(BATCH_SIZE)\n",
        "    ]\n",
        "\n",
        "  def sample_new_exmps(self, steps,step_size , noise):\n",
        "    n_new = np.random.bionomial(BATCH_SIZE , 0.05)\n",
        "    rand_imgs = (\n",
        "        tf.random.uniform((n_new , IMAGE_SIZE, IMAGE_SIZE, CHANNELS))* 2-1\n",
        "    )\n",
        "    old_imgs = tf.concat(\n",
        "          random.choices(self.examples, k = BATCH_SIZE - n_new), axis = 0\n",
        "    )\n",
        "    inp_imgs = tf.concat([rand_imgs, old_imgs] , axis = 0)\n",
        "    inp_imgs = generate_samples(\n",
        "        self.model, inp_imgs, steps = steps , step_size = step_size, noise = noise\n",
        "    )\n",
        "    self.examples = tf.split(inp_imgs, BATCH_SIZE, axis = 0) + self.examples\n",
        "    self.examples = self.examples[:BUFFER_SIZE]\n",
        "    return inp_imgs"
      ],
      "metadata": {
        "id": "7VyKlmSirhnI"
      },
      "execution_count": 10,
      "outputs": []
    },
    {
      "cell_type": "code",
      "source": [
        "class EBM(models.Model):\n",
        "  def __init__ (self):\n",
        "    super(EBM, self).__init__()\n",
        "    self.model = model\n",
        "    self.buffer = Buffer(self.model)\n",
        "    self.alpha = ALPHA\n",
        "    self.loss_metric = metrics.Mean(name = \"loss\")\n",
        "    self.reg_loss_metric = metrics.Mean(name= \"reg\")\n",
        "    self.cdiv_loss_metric = metrics.Mean(name= 'cdiv')\n",
        "    self.real_out_metric = metrics.Mean(name = \"real\")\n",
        "    self.fake_out_metric = metrics.Mean(name = \"fake\")\n",
        "\n",
        "  @property\n",
        "  def metrics(self):\n",
        "    return [\n",
        "        self.loss_metric,\n",
        "        self.reg_loss_metric,\n",
        "        self.cdiv_loss_metric,\n",
        "        self.real_out_metric,\n",
        "        self.fake_out_metric,\n",
        "\n",
        "    ]\n",
        "\n",
        "  def train_step(self, real_imgs):\n",
        "    real_imgs += tf.random.normal(\n",
        "        shape= tf.shape(real_imgs), mean = 0, stddev = NOISE\n",
        "    )\n",
        "    real_imgs = tf.clip_by_value(real_imgs, -1.0, 1.0)\n",
        "    fake_imgs = self.buffer.sample_new_exmps(\n",
        "        steps = STEPS, step_size = STEP_SIZE , noise = NOISE\n",
        "    )\n",
        "    inp_imgs = tf.concat([real_imgs, fake_imgs], axis = 0)\n",
        "    with tf.GradientTape() as training_tape:\n",
        "      real_out , fake_out = tf.split(self.model(inp_imgs) , 2, axis = 0)\n",
        "      cdiv_loss = tf.reduce_mean(fake_out, axis = 0) - tf.reduce_mean(\n",
        "          real_out, axis = 0\n",
        "      )\n",
        "      reg_loss = self.alpha * tf.reduce_mean(\n",
        "          real_out **2 + fake_out **2 , axis = 0\n",
        "      )\n",
        "      loss = cdiv_loss +reg_loss\n",
        "      grads = training_tape.gradient(loss, self.model.trainable_variables)\n",
        "      self.optimizer.apply_gradients(\n",
        "          zip(grads, self.model.trainable_variables)\n",
        "      )\n",
        "      self.loss_metric.update_state(loss)\n",
        "      self.reg_loss_metric.update_state(reg_loss)\n",
        "      self.cdiv_loss_metric.update_state(cdiv_loss)\n",
        "      self.real_out_metric.update_state(tf.reduce_mean(real_out, axis =0))\n",
        "      self.fake_out_metric.update_state(tf.reduce_mean(fake_out, axis = 0))\n",
        "      return {m.name: m.result() for m in self.metrics}\n",
        "\n",
        "    def test_step(self, real_imgs):\n",
        "      batch_size = real_imgs.shape[0]\n",
        "      fake_imgs = (\n",
        "          tf.random.uniform((batch_size, IMAGE_SIZE , IMAGE_SIZE , CHANNELS))\n",
        "          * 2\n",
        "          - 1\n",
        "      )\n",
        "      inp_imgs = tf.concat([real_imgs, fake_imgs] , axis = 0)\n",
        "      real_out, fake_out = tf.split(self.model(inp_imgs) , 2, axis = 0)\n",
        "      cdiv = tf.reduce_mean(fake_out, axis = 0) - tf.reduce_mean(\n",
        "          real_out , axis = 0\n",
        "      )\n",
        "      self.cdiv_loss_metric.update_state(cdiv)\n",
        "      self.real_out_metric.update_state(tf.reduce_mean(real_out, axis = 0))\n",
        "      self.fake_out_metric.update_state(tf.reduce_mean(fake_out, axis = 0))\n",
        "      return {m.name : m.result() for m in self.metrics[2:]}\n",
        "\n",
        "\n",
        "\n",
        "\n",
        "\n",
        "\n",
        "\n",
        "\n",
        "\n"
      ],
      "metadata": {
        "id": "mAyzEESnTYWH"
      },
      "execution_count": 11,
      "outputs": []
    },
    {
      "cell_type": "code",
      "source": [
        "ebm = EBM()"
      ],
      "metadata": {
        "id": "UFvDYBuoTdzW"
      },
      "execution_count": 12,
      "outputs": []
    },
    {
      "cell_type": "markdown",
      "source": [
        "#3. Train the EBM network"
      ],
      "metadata": {
        "id": "MXt6Jq0hYDUn"
      }
    },
    {
      "cell_type": "code",
      "source": [
        "#Complie and train the model\n",
        "ebm.compile(\n",
        "    optimizer = optimizers.Adam(learning_rate = LEARNING_RATE) , run_eagerly = True\n",
        ")\n"
      ],
      "metadata": {
        "id": "73zQphlVYCEt"
      },
      "execution_count": 14,
      "outputs": []
    },
    {
      "cell_type": "code",
      "source": [
        "tensorboard_callback = callbacks.TensorBoard(log_dir = \"./logs\")\n",
        "\n",
        "class ImageGenerator(callbacks.Callback):\n",
        "  def __init__(self, num_img):\n",
        "    self.num_img = num_img\n",
        "\n",
        "  def on_epoch_end(self , epoch, logs = None):\n",
        "    start_imgs = (\n",
        "        np.random.uniform(\n",
        "            size = (self.num_img , IMAGE_SIZE , IMAGE_SIZE , CHANNELS)\n",
        "        )\n",
        "        * 2\n",
        "        - 1\n",
        "    )\n",
        "\n",
        "  generated_images = generate_samples(\n",
        "      ebm.model,\n",
        "      start_imgs,\n",
        "      steps = 1000,\n",
        "      step_size = STEP_SIZE,\n",
        "      noise = NOISE,\n",
        "      return_img_per_step  = False,\n",
        "  )\n",
        "  generated_images = generated_images.numpy()\n",
        "  display(\n",
        "      generated_images,\n",
        "      save_to = \"./output/generated_img_%03d.png\" % (epoch),\n",
        "  )\n",
        "\n",
        "  example_images = tf.concat(\n",
        "      random.choices(ebm.buffer.examples,  k = 10) , axis = 0\n",
        "  )\n",
        "  example_images = example_images.numpy()\n",
        "  display(\n",
        "      example_images , save_to = \"./output/example_img_%03d.png\" % (epoch)\n",
        "  )\n",
        "\n",
        "image_generator_callback = ImageGenerator(num_img = 10)"
      ],
      "metadata": {
        "colab": {
          "base_uri": "https://localhost:8080/",
          "height": 366
        },
        "id": "HCsu0ZYfJDnz",
        "outputId": "48187ceb-4d67-4c20-b6e6-02451d125aba"
      },
      "execution_count": 20,
      "outputs": [
        {
          "output_type": "error",
          "ename": "NameError",
          "evalue": "ignored",
          "traceback": [
            "\u001b[0;31m---------------------------------------------------------------------------\u001b[0m",
            "\u001b[0;31mNameError\u001b[0m                                 Traceback (most recent call last)",
            "\u001b[0;32m<ipython-input-20-e09b2588ed2d>\u001b[0m in \u001b[0;36m<cell line: 3>\u001b[0;34m()\u001b[0m\n\u001b[1;32m      1\u001b[0m \u001b[0mtensorboard_callback\u001b[0m \u001b[0;34m=\u001b[0m \u001b[0mcallbacks\u001b[0m\u001b[0;34m.\u001b[0m\u001b[0mTensorBoard\u001b[0m\u001b[0;34m(\u001b[0m\u001b[0mlog_dir\u001b[0m \u001b[0;34m=\u001b[0m \u001b[0;34m\"./logs\"\u001b[0m\u001b[0;34m)\u001b[0m\u001b[0;34m\u001b[0m\u001b[0;34m\u001b[0m\u001b[0m\n\u001b[1;32m      2\u001b[0m \u001b[0;34m\u001b[0m\u001b[0m\n\u001b[0;32m----> 3\u001b[0;31m \u001b[0;32mclass\u001b[0m \u001b[0mImageGenerator\u001b[0m\u001b[0;34m(\u001b[0m\u001b[0mcallbacks\u001b[0m\u001b[0;34m.\u001b[0m\u001b[0mCallback\u001b[0m\u001b[0;34m)\u001b[0m\u001b[0;34m:\u001b[0m\u001b[0;34m\u001b[0m\u001b[0;34m\u001b[0m\u001b[0m\n\u001b[0m\u001b[1;32m      4\u001b[0m   \u001b[0;32mdef\u001b[0m \u001b[0m__init__\u001b[0m\u001b[0;34m(\u001b[0m\u001b[0mself\u001b[0m\u001b[0;34m,\u001b[0m \u001b[0mnum_img\u001b[0m\u001b[0;34m)\u001b[0m\u001b[0;34m:\u001b[0m\u001b[0;34m\u001b[0m\u001b[0;34m\u001b[0m\u001b[0m\n\u001b[1;32m      5\u001b[0m     \u001b[0mself\u001b[0m\u001b[0;34m.\u001b[0m\u001b[0mnum_img\u001b[0m \u001b[0;34m=\u001b[0m \u001b[0mnum_img\u001b[0m\u001b[0;34m\u001b[0m\u001b[0;34m\u001b[0m\u001b[0m\n",
            "\u001b[0;32m<ipython-input-20-e09b2588ed2d>\u001b[0m in \u001b[0;36mImageGenerator\u001b[0;34m()\u001b[0m\n\u001b[1;32m     16\u001b[0m   generated_images = generate_samples(\n\u001b[1;32m     17\u001b[0m       \u001b[0mebm\u001b[0m\u001b[0;34m.\u001b[0m\u001b[0mmodel\u001b[0m\u001b[0;34m,\u001b[0m\u001b[0;34m\u001b[0m\u001b[0;34m\u001b[0m\u001b[0m\n\u001b[0;32m---> 18\u001b[0;31m       \u001b[0mstart_imgs\u001b[0m\u001b[0;34m,\u001b[0m\u001b[0;34m\u001b[0m\u001b[0;34m\u001b[0m\u001b[0m\n\u001b[0m\u001b[1;32m     19\u001b[0m       \u001b[0msteps\u001b[0m \u001b[0;34m=\u001b[0m \u001b[0;36m1000\u001b[0m\u001b[0;34m,\u001b[0m\u001b[0;34m\u001b[0m\u001b[0;34m\u001b[0m\u001b[0m\n\u001b[1;32m     20\u001b[0m       \u001b[0mstep_size\u001b[0m \u001b[0;34m=\u001b[0m \u001b[0mSTEP_SIZE\u001b[0m\u001b[0;34m,\u001b[0m\u001b[0;34m\u001b[0m\u001b[0;34m\u001b[0m\u001b[0m\n",
            "\u001b[0;31mNameError\u001b[0m: name 'start_imgs' is not defined"
          ]
        }
      ]
    },
    {
      "cell_type": "code",
      "source": [
        "class SaveModel(callbacks.Callback):\n",
        "  def on_epoch_end(self, epoch, logs = None):\n",
        "    model.save_weights(\"./models/model.h5\")\n",
        "\n",
        "save_model_callback = SaveModel()"
      ],
      "metadata": {
        "id": "-8nDNFRfK1o7"
      },
      "execution_count": 21,
      "outputs": []
    },
    {
      "cell_type": "code",
      "source": [
        "ebm.fit(\n",
        "    x_train ,\n",
        "    shuffle = True,\n",
        "    epochs = 100,\n",
        "    validation_data = x_test,\n",
        "    callbacks = [\n",
        "        save_model_callback,\n",
        "        tensorboard_callback,\n",
        "        image_generator_callback,\n",
        "    ],\n",
        ")"
      ],
      "metadata": {
        "colab": {
          "base_uri": "https://localhost:8080/",
          "height": 245
        },
        "id": "ChN5q2BjMDOq",
        "outputId": "c99ef746-0ca3-4d61-cd08-6d701abb8c88"
      },
      "execution_count": 23,
      "outputs": [
        {
          "output_type": "error",
          "ename": "NameError",
          "evalue": "ignored",
          "traceback": [
            "\u001b[0;31m---------------------------------------------------------------------------\u001b[0m",
            "\u001b[0;31mNameError\u001b[0m                                 Traceback (most recent call last)",
            "\u001b[0;32m<ipython-input-23-18924081b45f>\u001b[0m in \u001b[0;36m<cell line: 1>\u001b[0;34m()\u001b[0m\n\u001b[1;32m      7\u001b[0m         \u001b[0msave_model_callback\u001b[0m\u001b[0;34m,\u001b[0m\u001b[0;34m\u001b[0m\u001b[0;34m\u001b[0m\u001b[0m\n\u001b[1;32m      8\u001b[0m         \u001b[0mtensorboard_callback\u001b[0m\u001b[0;34m,\u001b[0m\u001b[0;34m\u001b[0m\u001b[0;34m\u001b[0m\u001b[0m\n\u001b[0;32m----> 9\u001b[0;31m         \u001b[0mimage_generator_callback\u001b[0m\u001b[0;34m,\u001b[0m\u001b[0;34m\u001b[0m\u001b[0;34m\u001b[0m\u001b[0m\n\u001b[0m\u001b[1;32m     10\u001b[0m     ],\n\u001b[1;32m     11\u001b[0m )\n",
            "\u001b[0;31mNameError\u001b[0m: name 'image_generator_callback' is not defined"
          ]
        }
      ]
    },
    {
      "cell_type": "markdown",
      "source": [
        "#4.Generate images"
      ],
      "metadata": {
        "id": "GIMCggctMYfY"
      }
    },
    {
      "cell_type": "code",
      "source": [
        "start_imgs = (\n",
        "    np.random.uniform(size = (10, IMAGE_SIZE , IMAGE_SIZE, CHANNELS)) * 2 - 1\n",
        ")\n"
      ],
      "metadata": {
        "id": "Cl2m1Yb0MUzl"
      },
      "execution_count": 24,
      "outputs": []
    },
    {
      "cell_type": "code",
      "source": [
        "display(start_imgs)"
      ],
      "metadata": {
        "colab": {
          "base_uri": "https://localhost:8080/",
          "height": 1000
        },
        "id": "VxCCjIwYMlCS",
        "outputId": "4489f94c-f886-41c8-e72e-69388fa7b9c2"
      },
      "execution_count": 25,
      "outputs": [
        {
          "output_type": "display_data",
          "data": {
            "text/plain": [
              "array([[[[ 0.83732381],\n",
              "         [ 0.3737495 ],\n",
              "         [-0.11933625],\n",
              "         ...,\n",
              "         [-0.57825668],\n",
              "         [-0.41312759],\n",
              "         [ 0.46839276]],\n",
              "\n",
              "        [[ 0.5722275 ],\n",
              "         [ 0.93028982],\n",
              "         [-0.17024478],\n",
              "         ...,\n",
              "         [-0.62707503],\n",
              "         [ 0.83550533],\n",
              "         [ 0.38436224]],\n",
              "\n",
              "        [[ 0.18299103],\n",
              "         [ 0.87825563],\n",
              "         [-0.99534927],\n",
              "         ...,\n",
              "         [ 0.59391654],\n",
              "         [-0.44058657],\n",
              "         [-0.74476622]],\n",
              "\n",
              "        ...,\n",
              "\n",
              "        [[-0.21839132],\n",
              "         [ 0.42918345],\n",
              "         [-0.7580999 ],\n",
              "         ...,\n",
              "         [ 0.49919613],\n",
              "         [ 0.88049272],\n",
              "         [ 0.38628012]],\n",
              "\n",
              "        [[-0.68591252],\n",
              "         [-0.71297563],\n",
              "         [-0.73405106],\n",
              "         ...,\n",
              "         [-0.55957493],\n",
              "         [ 0.45142679],\n",
              "         [-0.93623097]],\n",
              "\n",
              "        [[ 0.90130655],\n",
              "         [ 0.09698918],\n",
              "         [ 0.37438227],\n",
              "         ...,\n",
              "         [-0.75137011],\n",
              "         [ 0.33839723],\n",
              "         [ 0.45093259]]],\n",
              "\n",
              "\n",
              "       [[[ 0.520629  ],\n",
              "         [-0.2309278 ],\n",
              "         [ 0.94081544],\n",
              "         ...,\n",
              "         [ 0.09472977],\n",
              "         [-0.79052929],\n",
              "         [ 0.06093609]],\n",
              "\n",
              "        [[ 0.18318826],\n",
              "         [-0.18244701],\n",
              "         [-0.59787798],\n",
              "         ...,\n",
              "         [ 0.41389371],\n",
              "         [-0.82021776],\n",
              "         [-0.3303635 ]],\n",
              "\n",
              "        [[-0.86102514],\n",
              "         [-0.55512796],\n",
              "         [-0.15290557],\n",
              "         ...,\n",
              "         [ 0.98585561],\n",
              "         [-0.87735603],\n",
              "         [-0.79172314]],\n",
              "\n",
              "        ...,\n",
              "\n",
              "        [[ 0.71348836],\n",
              "         [-0.39053489],\n",
              "         [ 0.23544673],\n",
              "         ...,\n",
              "         [ 0.21032462],\n",
              "         [-0.58552568],\n",
              "         [-0.31787073]],\n",
              "\n",
              "        [[-0.05443088],\n",
              "         [-0.47808329],\n",
              "         [-0.03505542],\n",
              "         ...,\n",
              "         [-0.18708499],\n",
              "         [-0.99261011],\n",
              "         [ 0.96319146]],\n",
              "\n",
              "        [[ 0.96771444],\n",
              "         [-0.5762506 ],\n",
              "         [ 0.61482933],\n",
              "         ...,\n",
              "         [ 0.19192339],\n",
              "         [-0.6685557 ],\n",
              "         [-0.75861363]]],\n",
              "\n",
              "\n",
              "       [[[ 0.03456412],\n",
              "         [ 0.87144123],\n",
              "         [-0.39787379],\n",
              "         ...,\n",
              "         [ 0.42742499],\n",
              "         [ 0.72762923],\n",
              "         [ 0.05535316]],\n",
              "\n",
              "        [[ 0.60861734],\n",
              "         [ 0.46630621],\n",
              "         [-0.64403495],\n",
              "         ...,\n",
              "         [-0.92608179],\n",
              "         [ 0.60036197],\n",
              "         [ 0.30312233]],\n",
              "\n",
              "        [[ 0.27648011],\n",
              "         [ 0.37596439],\n",
              "         [ 0.31983964],\n",
              "         ...,\n",
              "         [ 0.41773533],\n",
              "         [ 0.55900137],\n",
              "         [ 0.96398713]],\n",
              "\n",
              "        ...,\n",
              "\n",
              "        [[-0.39847734],\n",
              "         [-0.36176404],\n",
              "         [-0.15323083],\n",
              "         ...,\n",
              "         [-0.09244728],\n",
              "         [-0.61601794],\n",
              "         [ 0.24622802]],\n",
              "\n",
              "        [[-0.77623443],\n",
              "         [ 0.53637334],\n",
              "         [-0.56623631],\n",
              "         ...,\n",
              "         [-0.7303852 ],\n",
              "         [-0.52606264],\n",
              "         [-0.67090539]],\n",
              "\n",
              "        [[-0.74616107],\n",
              "         [-0.2678845 ],\n",
              "         [-0.72866648],\n",
              "         ...,\n",
              "         [-0.54948004],\n",
              "         [ 0.56451181],\n",
              "         [-0.73943037]]],\n",
              "\n",
              "\n",
              "       ...,\n",
              "\n",
              "\n",
              "       [[[-0.61264274],\n",
              "         [ 0.64577783],\n",
              "         [ 0.48343214],\n",
              "         ...,\n",
              "         [ 0.2331091 ],\n",
              "         [ 0.45228384],\n",
              "         [ 0.36211661]],\n",
              "\n",
              "        [[-0.4522285 ],\n",
              "         [-0.58110744],\n",
              "         [ 0.73575013],\n",
              "         ...,\n",
              "         [ 0.42641304],\n",
              "         [-0.00257232],\n",
              "         [ 0.66629296]],\n",
              "\n",
              "        [[ 0.65993042],\n",
              "         [ 0.77742748],\n",
              "         [-0.54406141],\n",
              "         ...,\n",
              "         [-0.33532784],\n",
              "         [-0.80922172],\n",
              "         [ 0.60438414]],\n",
              "\n",
              "        ...,\n",
              "\n",
              "        [[ 0.45175924],\n",
              "         [ 0.70199682],\n",
              "         [ 0.251212  ],\n",
              "         ...,\n",
              "         [ 0.04332935],\n",
              "         [-0.65407288],\n",
              "         [-0.92584984]],\n",
              "\n",
              "        [[ 0.66606041],\n",
              "         [-0.11281017],\n",
              "         [-0.73553077],\n",
              "         ...,\n",
              "         [ 0.19797678],\n",
              "         [ 0.48947128],\n",
              "         [-0.49384258]],\n",
              "\n",
              "        [[ 0.94359362],\n",
              "         [-0.08428478],\n",
              "         [ 0.34965879],\n",
              "         ...,\n",
              "         [-0.07740028],\n",
              "         [ 0.41230389],\n",
              "         [-0.98906089]]],\n",
              "\n",
              "\n",
              "       [[[-0.67839255],\n",
              "         [-0.12578744],\n",
              "         [-0.59403666],\n",
              "         ...,\n",
              "         [-0.34676965],\n",
              "         [ 0.35304476],\n",
              "         [ 0.37962134]],\n",
              "\n",
              "        [[ 0.46384724],\n",
              "         [ 0.4586357 ],\n",
              "         [ 0.6632528 ],\n",
              "         ...,\n",
              "         [ 0.22979288],\n",
              "         [-0.46185628],\n",
              "         [-0.44556768]],\n",
              "\n",
              "        [[-0.13126727],\n",
              "         [ 0.29563741],\n",
              "         [ 0.51072664],\n",
              "         ...,\n",
              "         [ 0.3459294 ],\n",
              "         [-0.9861148 ],\n",
              "         [-0.30210521]],\n",
              "\n",
              "        ...,\n",
              "\n",
              "        [[-0.33197808],\n",
              "         [ 0.96218687],\n",
              "         [-0.92118081],\n",
              "         ...,\n",
              "         [ 0.77786145],\n",
              "         [-0.06564506],\n",
              "         [-0.65290997]],\n",
              "\n",
              "        [[ 0.1778086 ],\n",
              "         [-0.32510241],\n",
              "         [ 0.09913748],\n",
              "         ...,\n",
              "         [ 0.23155493],\n",
              "         [ 0.12813856],\n",
              "         [-0.99296068]],\n",
              "\n",
              "        [[ 0.46197388],\n",
              "         [ 0.77020337],\n",
              "         [-0.45694507],\n",
              "         ...,\n",
              "         [-0.10269329],\n",
              "         [-0.89545583],\n",
              "         [ 0.94176428]]],\n",
              "\n",
              "\n",
              "       [[[-0.93003964],\n",
              "         [-0.6535445 ],\n",
              "         [ 0.05306134],\n",
              "         ...,\n",
              "         [ 0.97927972],\n",
              "         [-0.25155328],\n",
              "         [ 0.52270992]],\n",
              "\n",
              "        [[ 0.26168864],\n",
              "         [-0.22560215],\n",
              "         [-0.22426454],\n",
              "         ...,\n",
              "         [-0.00117753],\n",
              "         [ 0.26905341],\n",
              "         [-0.23645525]],\n",
              "\n",
              "        [[ 0.53826964],\n",
              "         [-0.38409775],\n",
              "         [ 0.55699149],\n",
              "         ...,\n",
              "         [ 0.02454905],\n",
              "         [ 0.73938816],\n",
              "         [-0.7546467 ]],\n",
              "\n",
              "        ...,\n",
              "\n",
              "        [[ 0.98958877],\n",
              "         [-0.59668202],\n",
              "         [ 0.6490905 ],\n",
              "         ...,\n",
              "         [-0.80322816],\n",
              "         [-0.84381702],\n",
              "         [ 0.65069984]],\n",
              "\n",
              "        [[-0.03535539],\n",
              "         [-0.06129377],\n",
              "         [-0.7687767 ],\n",
              "         ...,\n",
              "         [-0.42659141],\n",
              "         [ 0.19594558],\n",
              "         [-0.45650106]],\n",
              "\n",
              "        [[-0.82244734],\n",
              "         [-0.43543328],\n",
              "         [-0.1525182 ],\n",
              "         ...,\n",
              "         [-0.73957517],\n",
              "         [ 0.41537549],\n",
              "         [ 0.17661051]]]])"
            ]
          },
          "metadata": {}
        }
      ]
    },
    {
      "cell_type": "code",
      "source": [
        "gen_img = generate_samples(\n",
        "    ebm.model,\n",
        "    start_imgs,\n",
        "    steps = 1000,\n",
        "    step_size = STEP_SIZE ,\n",
        "    noise = NOISE,\n",
        "    return_img_per_step = True,\n",
        ")"
      ],
      "metadata": {
        "colab": {
          "base_uri": "https://localhost:8080/",
          "height": 366
        },
        "id": "96JdKi34Mmlm",
        "outputId": "5e440415-2097-41b4-9970-bfa1c34c7a80"
      },
      "execution_count": 26,
      "outputs": [
        {
          "output_type": "error",
          "ename": "UnboundLocalError",
          "evalue": "ignored",
          "traceback": [
            "\u001b[0;31m---------------------------------------------------------------------------\u001b[0m",
            "\u001b[0;31mUnboundLocalError\u001b[0m                         Traceback (most recent call last)",
            "\u001b[0;32m<ipython-input-26-d723f36b3ecb>\u001b[0m in \u001b[0;36m<cell line: 1>\u001b[0;34m()\u001b[0m\n\u001b[0;32m----> 1\u001b[0;31m gen_img = generate_samples(\n\u001b[0m\u001b[1;32m      2\u001b[0m     \u001b[0mebm\u001b[0m\u001b[0;34m.\u001b[0m\u001b[0mmodel\u001b[0m\u001b[0;34m,\u001b[0m\u001b[0;34m\u001b[0m\u001b[0;34m\u001b[0m\u001b[0m\n\u001b[1;32m      3\u001b[0m     \u001b[0mstart_imgs\u001b[0m\u001b[0;34m,\u001b[0m\u001b[0;34m\u001b[0m\u001b[0;34m\u001b[0m\u001b[0m\n\u001b[1;32m      4\u001b[0m     \u001b[0msteps\u001b[0m \u001b[0;34m=\u001b[0m \u001b[0;36m1000\u001b[0m\u001b[0;34m,\u001b[0m\u001b[0;34m\u001b[0m\u001b[0;34m\u001b[0m\u001b[0m\n\u001b[1;32m      5\u001b[0m     \u001b[0mstep_size\u001b[0m \u001b[0;34m=\u001b[0m \u001b[0mSTEP_SIZE\u001b[0m \u001b[0;34m,\u001b[0m\u001b[0;34m\u001b[0m\u001b[0;34m\u001b[0m\u001b[0m\n",
            "\u001b[0;32m<ipython-input-9-a8d9498e4674>\u001b[0m in \u001b[0;36mgenerate_samples\u001b[0;34m(model, inps_imgs, steps, step_size, noise, return_img_per_step)\u001b[0m\n\u001b[1;32m      5\u001b[0m     \u001b[0mimgs_per_step\u001b[0m \u001b[0;34m=\u001b[0m \u001b[0;34m[\u001b[0m\u001b[0;34m]\u001b[0m\u001b[0;34m\u001b[0m\u001b[0;34m\u001b[0m\u001b[0m\n\u001b[1;32m      6\u001b[0m     \u001b[0;32mfor\u001b[0m \u001b[0m_\u001b[0m \u001b[0;32min\u001b[0m \u001b[0mrange\u001b[0m\u001b[0;34m(\u001b[0m\u001b[0msteps\u001b[0m\u001b[0;34m)\u001b[0m\u001b[0;34m:\u001b[0m\u001b[0;34m\u001b[0m\u001b[0;34m\u001b[0m\u001b[0m\n\u001b[0;32m----> 7\u001b[0;31m       \u001b[0minp_imgs\u001b[0m \u001b[0;34m+=\u001b[0m \u001b[0mtf\u001b[0m\u001b[0;34m.\u001b[0m\u001b[0mrandom\u001b[0m\u001b[0;34m.\u001b[0m\u001b[0mnormal\u001b[0m\u001b[0;34m(\u001b[0m\u001b[0minp_imgs\u001b[0m\u001b[0;34m.\u001b[0m\u001b[0mshape\u001b[0m\u001b[0;34m,\u001b[0m \u001b[0mmean\u001b[0m \u001b[0;34m=\u001b[0m \u001b[0;36m0\u001b[0m \u001b[0;34m,\u001b[0m \u001b[0mstddev\u001b[0m \u001b[0;34m=\u001b[0m \u001b[0mnoise\u001b[0m\u001b[0;34m)\u001b[0m\u001b[0;34m\u001b[0m\u001b[0;34m\u001b[0m\u001b[0m\n\u001b[0m\u001b[1;32m      8\u001b[0m       \u001b[0minp_imgs\u001b[0m \u001b[0;34m=\u001b[0m \u001b[0mtf\u001b[0m\u001b[0;34m.\u001b[0m\u001b[0mclip_by_value\u001b[0m\u001b[0;34m(\u001b[0m\u001b[0minp_imgs\u001b[0m\u001b[0;34m,\u001b[0m \u001b[0;34m-\u001b[0m\u001b[0;36m1.0\u001b[0m \u001b[0;34m,\u001b[0m \u001b[0;36m1.0\u001b[0m\u001b[0;34m)\u001b[0m\u001b[0;34m\u001b[0m\u001b[0;34m\u001b[0m\u001b[0m\n\u001b[1;32m      9\u001b[0m       \u001b[0;32mwith\u001b[0m \u001b[0mtf\u001b[0m\u001b[0;34m.\u001b[0m\u001b[0mGradientTape\u001b[0m\u001b[0;34m(\u001b[0m\u001b[0;34m)\u001b[0m \u001b[0;32mas\u001b[0m \u001b[0mtape\u001b[0m\u001b[0;34m:\u001b[0m\u001b[0;34m\u001b[0m\u001b[0;34m\u001b[0m\u001b[0m\n",
            "\u001b[0;31mUnboundLocalError\u001b[0m: local variable 'inp_imgs' referenced before assignment"
          ]
        }
      ]
    },
    {
      "cell_type": "code",
      "source": [
        "display(gen_img[-1].numpy())"
      ],
      "metadata": {
        "colab": {
          "base_uri": "https://localhost:8080/",
          "height": 175
        },
        "id": "EjSxRtjIM2Cc",
        "outputId": "6ae238df-9488-4788-9f9f-b2ca497aa0d1"
      },
      "execution_count": 27,
      "outputs": [
        {
          "output_type": "error",
          "ename": "NameError",
          "evalue": "ignored",
          "traceback": [
            "\u001b[0;31m---------------------------------------------------------------------------\u001b[0m",
            "\u001b[0;31mNameError\u001b[0m                                 Traceback (most recent call last)",
            "\u001b[0;32m<ipython-input-27-9a4b4a91bcef>\u001b[0m in \u001b[0;36m<cell line: 1>\u001b[0;34m()\u001b[0m\n\u001b[0;32m----> 1\u001b[0;31m \u001b[0mdisplay\u001b[0m\u001b[0;34m(\u001b[0m\u001b[0mgen_img\u001b[0m\u001b[0;34m[\u001b[0m\u001b[0;34m-\u001b[0m\u001b[0;36m1\u001b[0m\u001b[0;34m]\u001b[0m\u001b[0;34m.\u001b[0m\u001b[0mnumpy\u001b[0m\u001b[0;34m(\u001b[0m\u001b[0;34m)\u001b[0m\u001b[0;34m)\u001b[0m\u001b[0;34m\u001b[0m\u001b[0;34m\u001b[0m\u001b[0m\n\u001b[0m",
            "\u001b[0;31mNameError\u001b[0m: name 'gen_img' is not defined"
          ]
        }
      ]
    },
    {
      "cell_type": "code",
      "source": [
        "imgs = []\n",
        "for i in [0,1,3,5, 10,30,50,100,300,999]:\n",
        "  imgs.append(gen_img[i].numpy()[6])\n",
        "\n",
        "display(np.array(imgs))"
      ],
      "metadata": {
        "colab": {
          "base_uri": "https://localhost:8080/",
          "height": 245
        },
        "id": "vfQDR7xGM72r",
        "outputId": "10d0b55d-32b8-4a09-dc65-652919bd86db"
      },
      "execution_count": 28,
      "outputs": [
        {
          "output_type": "error",
          "ename": "NameError",
          "evalue": "ignored",
          "traceback": [
            "\u001b[0;31m---------------------------------------------------------------------------\u001b[0m",
            "\u001b[0;31mNameError\u001b[0m                                 Traceback (most recent call last)",
            "\u001b[0;32m<ipython-input-28-2fb3cafaaef7>\u001b[0m in \u001b[0;36m<cell line: 2>\u001b[0;34m()\u001b[0m\n\u001b[1;32m      1\u001b[0m \u001b[0mimgs\u001b[0m \u001b[0;34m=\u001b[0m \u001b[0;34m[\u001b[0m\u001b[0;34m]\u001b[0m\u001b[0;34m\u001b[0m\u001b[0;34m\u001b[0m\u001b[0m\n\u001b[1;32m      2\u001b[0m \u001b[0;32mfor\u001b[0m \u001b[0mi\u001b[0m \u001b[0;32min\u001b[0m \u001b[0;34m[\u001b[0m\u001b[0;36m0\u001b[0m\u001b[0;34m,\u001b[0m\u001b[0;36m1\u001b[0m\u001b[0;34m,\u001b[0m\u001b[0;36m3\u001b[0m\u001b[0;34m,\u001b[0m\u001b[0;36m5\u001b[0m\u001b[0;34m,\u001b[0m \u001b[0;36m10\u001b[0m\u001b[0;34m,\u001b[0m\u001b[0;36m30\u001b[0m\u001b[0;34m,\u001b[0m\u001b[0;36m50\u001b[0m\u001b[0;34m,\u001b[0m\u001b[0;36m100\u001b[0m\u001b[0;34m,\u001b[0m\u001b[0;36m300\u001b[0m\u001b[0;34m,\u001b[0m\u001b[0;36m999\u001b[0m\u001b[0;34m]\u001b[0m\u001b[0;34m:\u001b[0m\u001b[0;34m\u001b[0m\u001b[0;34m\u001b[0m\u001b[0m\n\u001b[0;32m----> 3\u001b[0;31m   \u001b[0mimgs\u001b[0m\u001b[0;34m.\u001b[0m\u001b[0mappend\u001b[0m\u001b[0;34m(\u001b[0m\u001b[0mgen_img\u001b[0m\u001b[0;34m[\u001b[0m\u001b[0mi\u001b[0m\u001b[0;34m]\u001b[0m\u001b[0;34m.\u001b[0m\u001b[0mnumpy\u001b[0m\u001b[0;34m(\u001b[0m\u001b[0;34m)\u001b[0m\u001b[0;34m[\u001b[0m\u001b[0;36m6\u001b[0m\u001b[0;34m]\u001b[0m\u001b[0;34m)\u001b[0m\u001b[0;34m\u001b[0m\u001b[0;34m\u001b[0m\u001b[0m\n\u001b[0m\u001b[1;32m      4\u001b[0m \u001b[0;34m\u001b[0m\u001b[0m\n\u001b[1;32m      5\u001b[0m \u001b[0mdisplay\u001b[0m\u001b[0;34m(\u001b[0m\u001b[0mnp\u001b[0m\u001b[0;34m.\u001b[0m\u001b[0marray\u001b[0m\u001b[0;34m(\u001b[0m\u001b[0mimgs\u001b[0m\u001b[0;34m)\u001b[0m\u001b[0;34m)\u001b[0m\u001b[0;34m\u001b[0m\u001b[0;34m\u001b[0m\u001b[0m\n",
            "\u001b[0;31mNameError\u001b[0m: name 'gen_img' is not defined"
          ]
        }
      ]
    },
    {
      "cell_type": "code",
      "source": [],
      "metadata": {
        "id": "NSMiF-15NKGh"
      },
      "execution_count": null,
      "outputs": []
    }
  ]
}