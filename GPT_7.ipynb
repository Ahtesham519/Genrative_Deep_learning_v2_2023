{
  "nbformat": 4,
  "nbformat_minor": 0,
  "metadata": {
    "colab": {
      "provenance": [],
      "authorship_tag": "ABX9TyOeJJS9WgirjjyWrmvRr8ps",
      "include_colab_link": true
    },
    "kernelspec": {
      "name": "python3",
      "display_name": "Python 3"
    },
    "language_info": {
      "name": "python"
    }
  },
  "cells": [
    {
      "cell_type": "markdown",
      "metadata": {
        "id": "view-in-github",
        "colab_type": "text"
      },
      "source": [
        "<a href=\"https://colab.research.google.com/github/Ahtesham519/Genrative_Deep_learning_v2_2023/blob/main/GPT_7.ipynb\" target=\"_parent\"><img src=\"https://colab.research.google.com/assets/colab-badge.svg\" alt=\"Open In Colab\"/></a>"
      ]
    },
    {
      "cell_type": "code",
      "execution_count": null,
      "metadata": {
        "id": "WR3RAD1Eiwk-"
      },
      "outputs": [],
      "source": [
        "%load_ext autoreload\n",
        "%autoreload 2\n",
        "import numpy as np\n",
        "import json\n",
        "import re\n",
        "import string\n",
        "from IPython.display import display , HTML\n",
        "\n",
        "import tensorflow as tf\n",
        "from tensorflow.keras import layers, models, losses, callbacks"
      ]
    },
    {
      "cell_type": "markdown",
      "source": [
        "#0. Parameters"
      ],
      "metadata": {
        "id": "AB6TRTU1jJlV"
      }
    },
    {
      "cell_type": "code",
      "source": [
        "VOCAB_SIZE = 10000\n",
        "MAX_LEN = 80\n",
        "EMBEDDING_DIM = 256\n",
        "KEY_DIM = 256\n",
        "N_HEADS = 2\n",
        "FEED_FORWARD_DIM = 256\n",
        "VALIDATION_SPLIT = 0.2\n",
        "SEED = 42\n",
        "LOAD_MODEL = False\n",
        "BATCH_SIZE = 32\n",
        "EPOCHS = 5\n"
      ],
      "metadata": {
        "id": "QaWOQfrDjIeY"
      },
      "execution_count": null,
      "outputs": []
    },
    {
      "cell_type": "markdown",
      "source": [
        "#1. Load the data\n"
      ],
      "metadata": {
        "id": "InJ4y_o_jd7l"
      }
    },
    {
      "cell_type": "code",
      "source": [
        "with open(\"/app/data/wine-reviews/winemag-data-130k-v2.json\") as json_data:\n",
        "  wine_data = json.load(json_data)"
      ],
      "metadata": {
        "id": "1c0hcbgSjb4t"
      },
      "execution_count": null,
      "outputs": []
    },
    {
      "cell_type": "code",
      "source": [
        "wine_data[10]"
      ],
      "metadata": {
        "id": "zVp3N-Isj2VW"
      },
      "execution_count": null,
      "outputs": []
    },
    {
      "cell_type": "code",
      "source": [
        "filtered_data = [\n",
        "    \"wine review :\"\n",
        "    + x[\"country\"]\n",
        "    + \" : \"\n",
        "    + x[\"province\"]\n",
        "    + \" : \"\n",
        "    + x[\"variety\"]\n",
        "    + \" : \"\n",
        "    + x[\"description\"]\n",
        "    for x in wine_data\n",
        "    if x[\"country\"] is not None\n",
        "    and x[\"province\"] is not None\n",
        "    and x[\"variety\"] is not None\n",
        "    and x[\"description\"] is not None\n",
        "]\n"
      ],
      "metadata": {
        "id": "suYQkvQCj4J3"
      },
      "execution_count": null,
      "outputs": []
    },
    {
      "cell_type": "code",
      "source": [
        "#Count the recipes\n",
        "n_wines = len(filtered_data)\n",
        "print(f\"{n_wines} recipes loaded\")"
      ],
      "metadata": {
        "id": "r3Cq_780kb6J"
      },
      "execution_count": null,
      "outputs": []
    },
    {
      "cell_type": "code",
      "source": [
        "example = filtered_data[25]\n",
        "print(example)"
      ],
      "metadata": {
        "id": "TAaLrNTJkiq-"
      },
      "execution_count": null,
      "outputs": []
    },
    {
      "cell_type": "markdown",
      "source": [
        "#2. Tokenize the data"
      ],
      "metadata": {
        "id": "pc8c13eGknmc"
      }
    },
    {
      "cell_type": "code",
      "source": [
        "#Pad the punctuation , to treat them as seperate 'words'\n",
        "def pad_punctuation(s):\n",
        "  s = re.sub(f\"([{string.punctuation}, '\\n'])\", r\"\\1\", s)\n",
        "  s = re.sub(\" + \", \" \", s)\n",
        "  return s\n",
        "\n",
        "text_data = [pad_punctuation(x) for x in filtered_data]"
      ],
      "metadata": {
        "id": "G5FYndZykmFj"
      },
      "execution_count": null,
      "outputs": []
    },
    {
      "cell_type": "code",
      "source": [
        "#Display some examples\n",
        "example_data = text_data[25]\n",
        "example_data"
      ],
      "metadata": {
        "id": "ASKJgla-lAMC"
      },
      "execution_count": null,
      "outputs": []
    },
    {
      "cell_type": "code",
      "source": [
        "#convert to a Tensorflow Dataset\n",
        "test_ds = (\n",
        "    tf.data.Dataset.from_tensor_slices(text_data)\n",
        "    .batch(BATCH_SIZE)\n",
        "    .shuffle(1000)\n",
        ")"
      ],
      "metadata": {
        "id": "TURiVNpBlFGN"
      },
      "execution_count": null,
      "outputs": []
    },
    {
      "cell_type": "code",
      "source": [
        "#Create a vectorization layer\n",
        "vectorize_layer = layers.TextVectorization(\n",
        "    standrardize = \"lower\",\n",
        "    max_tokens = VOCAB_SIZE ,\n",
        "    output_mode = \"int\",\n",
        "    output_sequence_length = MAX_LEN + 1,\n",
        ")"
      ],
      "metadata": {
        "id": "o-qekkFMlRBY"
      },
      "execution_count": null,
      "outputs": []
    },
    {
      "cell_type": "code",
      "source": [
        "#Adapt the layer to the following set\n",
        "vectorize_layer.adapt(text_ds)\n",
        "vocab = vectorize_layer.get_vocabulary()\n"
      ],
      "metadata": {
        "id": "iFpzOi9olgGE"
      },
      "execution_count": null,
      "outputs": []
    },
    {
      "cell_type": "code",
      "source": [
        "#Display some token:word mappings\n",
        "for i , word in enumerate(vocab[:10]):\n",
        "  print(f\"{i} : {word}\")"
      ],
      "metadata": {
        "id": "lOwtSmX4loL4"
      },
      "execution_count": null,
      "outputs": []
    },
    {
      "cell_type": "code",
      "source": [
        "#Display the same example converted to ints\n",
        "example_tokenised = vectorize_layer(example_data)\n",
        "print(example_tokenised.numpy())"
      ],
      "metadata": {
        "id": "TIsxGxEQlyin"
      },
      "execution_count": null,
      "outputs": []
    },
    {
      "cell_type": "markdown",
      "source": [
        "#3. Create the training Set"
      ],
      "metadata": {
        "id": "OcDcRbrTl98z"
      }
    },
    {
      "cell_type": "code",
      "source": [
        "#Set the training set of recipes and the same text shifted by one word\n",
        "\n",
        "def prepare_inputs(texts):\n",
        "  text = tf.expand_dims(text, -1)\n",
        "  tokenized_sentences = vectorize_layer(text)\n",
        "  x = tokenized_sentences[:, :-1]\n",
        "  y = tokenized_sentences[:, 1:]\n",
        "  return x, y\n",
        "\n",
        "train_ds = text_ds.map(prepare_inputs)"
      ],
      "metadata": {
        "id": "GNX2nrDal9D-"
      },
      "execution_count": null,
      "outputs": []
    },
    {
      "cell_type": "code",
      "source": [
        "example_input_output = train_ds.take(1).get_single_element()"
      ],
      "metadata": {
        "id": "RJup4KtjmX4P"
      },
      "execution_count": null,
      "outputs": []
    },
    {
      "cell_type": "code",
      "source": [
        "#Example Input\n",
        "example_input_output[0][0]"
      ],
      "metadata": {
        "id": "11cz35Mwme-5"
      },
      "execution_count": null,
      "outputs": []
    },
    {
      "cell_type": "code",
      "source": [
        "#Example Output (Shifted by one token)\n",
        "example_input_output[1][0]"
      ],
      "metadata": {
        "id": "k9cKJsAkmiTw"
      },
      "execution_count": null,
      "outputs": []
    },
    {
      "cell_type": "markdown",
      "source": [
        "#5. Create the Casual attention mask function"
      ],
      "metadata": {
        "id": "fpJw6TPKmpLR"
      }
    },
    {
      "cell_type": "code",
      "source": [
        "def casual_attention_mask(batch_size , n_dest, n_src, dtype):\n",
        "  i = tf.range(n_dest)[:, None]\n",
        "  j = tf.range(n_src)\n",
        "  m = i >= j - n_src + n_dest\n",
        "  mask = tf.cast(m, dtype)\n",
        "  mask = tf.reshape(mask , [1, n_dest, n_src])\n",
        "  mult = tf.concat(\n",
        "      [tf.expand_dims(batch_size , -1) , tf.constant([1,1], dtype = tf.int32)], 0\n",
        "  )\n",
        "  return tf.title(mask , mult)\n",
        "\n",
        "np.transpose(casual_attention_mask(1,10,10 , dtype = tf.int32)[0])"
      ],
      "metadata": {
        "id": "NthlcOMRmoG-"
      },
      "execution_count": null,
      "outputs": []
    },
    {
      "cell_type": "markdown",
      "source": [
        "#6. Create a Transformer Block layer\n"
      ],
      "metadata": {
        "id": "LOJQsrxjnhID"
      }
    },
    {
      "cell_type": "code",
      "source": [
        "class TransformerBlock(layers.Layer):\n",
        "  def __init__(self, num_heads , key_dim , embed_dim , ff_dim, dropout_rate = 0.1):\n",
        "    super(TransformerBlock, self).__init__()\n",
        "    self.num_heads = num_heads\n",
        "    self.key_dim = key_dim\n",
        "    self.embed_dim = embed_dim\n",
        "    self.ff_dim = ff_dim\n",
        "    self.dropout_rate = dropout_rate\n",
        "    self.attn = layers.MultiHeadAttention(\n",
        "        num_heads , key_dim , output_shape = embed_dim\n",
        "    )\n",
        "    self.dropout_1 = layers.Dropout(self.dropout_rate)\n",
        "    self.ln_1 = layers.LayerNormalization(epsilon = 1e - 6)\n",
        "    self.ffn_1 = layers.Dense(self.ffn_dim  , activation = \"relu\")\n",
        "    self.ffn_2 = layers.Dense(self.embed_dim)\n",
        "    self.dropout_2 = layers.Dropout(self.dropout_rate)\n",
        "    self.ln_2 = layers.LayerNormalization(epsilon = 1e - 6)\n",
        "\n",
        "  def call(self, inputs):\n",
        "    input_shape = tf.shape(inputs)\n",
        "    batch_size = input_shape[0]\n",
        "    seq_len = input_shape[1]\n",
        "    casual_mask = casual_attention_mask(\n",
        "        batch_size , seq_len , seq_len , tf.nool\n",
        "    )\n",
        "    attention_output , attention_scores = self.attn(\n",
        "        inputs,\n",
        "        inputs,\n",
        "        attention_mask = casual_mask ,\n",
        "        return_attention_scores = True ,\n",
        "    )\n",
        "    attention_output = self.dropout_1(attention_output)\n",
        "    out1 = self.ln_1(inputs + attention_output)\n",
        "    ffn_1 = self.ffn_1(out1)\n",
        "    ffn_2 = self.ffn_2(ffn_1)\n",
        "    ffn_output = self.dropout_2(ffn_2)\n",
        "    return (self.ln_2(out1 + ffn_output) , attention_scores)\n",
        "\n",
        "  def get_config(self):\n",
        "    config = super().get_config()\n",
        "    config.update(\n",
        "        {\n",
        "            \"key_dim\": self.key_dim,\n",
        "            \"embed_dim\": self.embed_dim,\n",
        "            \"num_heads\": self.num_heads,\n",
        "            \"ff_dim\": self.ff_dim,\n",
        "            \"dropout_rate\" : self.dropout_rate,\n",
        "\n",
        "        }\n",
        "    )\n",
        "    return config"
      ],
      "metadata": {
        "id": "LNljj55Rnf1n"
      },
      "execution_count": null,
      "outputs": []
    },
    {
      "cell_type": "markdown",
      "source": [
        "#7. Create the Token and Position Embedding"
      ],
      "metadata": {
        "id": "QT43vOOXqEno"
      }
    },
    {
      "cell_type": "code",
      "source": [
        "class TokenAndPositionEmbedding(layers.Layer):\n",
        "  def __init__(self, max_len , vocab_size , embed_dim):\n",
        "    super(TokenAndPositionEmbedding, self).__init__()\n",
        "    self.max_len = max_len\n",
        "    self.vocab_size = vocab_size\n",
        "    self.embed_dim = embed_dim\n",
        "    self.token_emb = layers.Embedding(\n",
        "        input_dim = vocab_size, output_dim = embed_dim\n",
        "    )\n",
        "    self.pos_emb = layers.Embedding(input_dim = max_len , output_dim = embed_dim)\n",
        "\n",
        "  def call(self, x):\n",
        "    maxlen = tf.shape(x)[-1]\n",
        "    positions = tf.range(start = 0, limit = maxlen, delta = 1)\n",
        "    positions = self.pos_emb(positions)\n",
        "    x = self.token_emb(x)\n",
        "    return x + positions\n",
        "\n",
        "  def get_config(self):\n",
        "    config = super().get_config()\n",
        "    config.update(\n",
        "        {\n",
        "            \"max_len\":self.max_len,\n",
        "            \"vocab_size\":self.vocab_size,\n",
        "            \"embed_dim\": self.embed_dim,\n",
        "        }\n",
        "    )\n",
        "    return config"
      ],
      "metadata": {
        "id": "TbvzwCgrqDuE"
      },
      "execution_count": null,
      "outputs": []
    },
    {
      "cell_type": "markdown",
      "source": [
        "#Bulid the Transformer model"
      ],
      "metadata": {
        "id": "6vs37Qa8rapH"
      }
    },
    {
      "cell_type": "code",
      "source": [
        "inputs = layers.Input(shape = (None, ), dtype = tf.int32)\n",
        "x = TokenAndPositionEmbedding(MAX_LEN, VOCAB_SIZE, EMBEDDING_DIM)(inputs)\n",
        "x, attention_scores = TransformerBlock(\n",
        "    N_HEADS, KEY_DIM , EMBEDDING_DIM , FEED_FORWARD_DIM\n",
        ")(x)\n",
        "outputs = layers.Dense(VOCAB_SIZE , activation = \"softmax\")(x)\n",
        "gpt = models.Model(inputs = inputs, outputs = [outputs, attention_scores])\n",
        "gpt.compile(\"adam\", loss = [losses.SparseCategoricalCrossentropy(), None])"
      ],
      "metadata": {
        "id": "t2fUVm44rZZB"
      },
      "execution_count": null,
      "outputs": []
    },
    {
      "cell_type": "code",
      "source": [
        "gpt.summary()"
      ],
      "metadata": {
        "id": "omRsNC_dunni"
      },
      "execution_count": null,
      "outputs": []
    },
    {
      "cell_type": "code",
      "source": [
        "if LOAD_MODEL:\n",
        "  #model.load_weights(\"./models/model\")\n",
        "  gpt = models.load_model(\"./models/gpt\", compile= True)"
      ],
      "metadata": {
        "id": "ulfmUXkruo81"
      },
      "execution_count": null,
      "outputs": []
    },
    {
      "cell_type": "markdown",
      "source": [
        "#9. Train the Transformer"
      ],
      "metadata": {
        "id": "ScOcSHD1uziu"
      }
    },
    {
      "cell_type": "code",
      "source": [
        "#create a TextGenerate checkpoint\n",
        "class TextGenerator(callbacks.Callback):\n",
        "  def __init__(self, index_to_word, top_k = 10):\n",
        "    self.index_to_word = index_to_word\n",
        "    self.word_to_index = {\n",
        "        word: index for index , word in enumerate(index_to_word)\n",
        "    }\n",
        "\n",
        "  def sample_from(self, probs , temperature):\n",
        "    probs = probs ** (1/ temperature)\n",
        "    probs = probs / np.sum(probs)\n",
        "    return np.random.choice(len(probs), p = probs), probs\n",
        "\n",
        "  def generate(self, start_prompt, max_tokens , temperature):\n",
        "    start_toekns =[\n",
        "        self.word_to_index.get(x, 1) for x in start_prompt.split()\n",
        "    ]\n",
        "    sample_token= None\n",
        "    info = []\n",
        "    while len(start_tokens) < max_tokens and sample_token != 0:\n",
        "      x = np.array([start_tokens])\n",
        "      y , att = self.model.predict(x, verbose = 0)\n",
        "      sample_token , probs = self.sample_from(y[0][-1], temperature)\n",
        "      info.append(\n",
        "          {\n",
        "              \"prompt\" : start_prompt,\n",
        "              \"word_probs\": probs,\n",
        "              \"atts\": att[0, :, -1 ,:],\n",
        "          }\n",
        "      )\n",
        "      start_tokens.append(sample_token)\n",
        "      start_prompt = start_prompt + \" \" + self.index_to_word[sample_token]\n",
        "    print(f\"\\ngenerated text:\\n{start_prmopt}\\n\")\n",
        "    return info\n",
        "\n",
        "  def on_epoch_end(self, epoch , logs = None):\n",
        "    self.generate(\"wine review\" , max_tokens = 80 , temperature = 1.0)"
      ],
      "metadata": {
        "id": "F0meWoQmuymf"
      },
      "execution_count": null,
      "outputs": []
    },
    {
      "cell_type": "code",
      "source": [
        "#Create a model save a checkpoint\n",
        "model_checkpoint_callback = callbacks.ModelCheckpoint(\n",
        "    filepath = \"./checkpoint.checkpoint.ckpt\",\n",
        "    save_weights_only = True,\n",
        "    save_freq = \"epoch\",\n",
        "    verbose = 0,\n",
        "\n",
        ")\n",
        "\n",
        "tensorboard_callback = callbacks.TensorBoard(log_dir = \"./logs\")\n",
        "\n",
        "#Tokensize starting prompt\n",
        "text_generator = TextGenerator(vocab)\n"
      ],
      "metadata": {
        "id": "B8IxqB_RwvbH"
      },
      "execution_count": null,
      "outputs": []
    },
    {
      "cell_type": "code",
      "source": [
        "gpt.fit(\n",
        "    train_ds,\n",
        "    epochs = EPOCHS,\n",
        "    callbacks = [model_checkpoint_callback, tensorboard_callback, text_generator],\n",
        ")"
      ],
      "metadata": {
        "id": "mClikq2UxG6q"
      },
      "execution_count": null,
      "outputs": []
    },
    {
      "cell_type": "code",
      "source": [
        "gpt.save(\"./models/gpt\")"
      ],
      "metadata": {
        "id": "hvPXY2pvxT2t"
      },
      "execution_count": null,
      "outputs": []
    },
    {
      "cell_type": "markdown",
      "source": [
        "#3. Generate text using the Transformer"
      ],
      "metadata": {
        "id": "8UBhslOYxYTp"
      }
    },
    {
      "cell_type": "code",
      "source": [
        "def print_probs(info, vocab , top_k = 5):\n",
        "  for i in info:\n",
        "    highlighted_text = []\n",
        "    for word, att_score in zip (\n",
        "        i[\"prompt\"].split(), np.mean(i[\"atts\"], axis = 0)\n",
        "    ):\n",
        "      highlited_text.append(\n",
        "          '<span style = \"background-color:rgba(135, 206, 250,)'\n",
        "          + str(att_score / max(np.mean(i[\"atts\"], axis = 0)))\n",
        "          + ');\">'\n",
        "          +word\n",
        "          + \"</span>\"\n",
        "      )\n",
        "    highlighted_text = \" \".join(highlighted_text)\n",
        "    display(HTML(highlighted_text))\n",
        "\n",
        "\n",
        "    word_probs = i[\"word_probs\"]\n",
        "    p_sorted = np.sort(word_probs)[:: -1][:top_k]\n",
        "    i_sorted = np.argsort(word_probs)[::-1][:top_k]\n",
        "    for p,i in zip(p_sorted , i_sorted):\n",
        "      print(f\"{vocab[i]}:  \\t{np.round(100* p, 2)}%\")\n",
        "    print(\"-------\\n\")\n",
        ""
      ],
      "metadata": {
        "id": "APYQU27IxWi_"
      },
      "execution_count": null,
      "outputs": []
    },
    {
      "cell_type": "code",
      "source": [
        "info = text_generator.generate(\n",
        "    \"wine review : us\", max_tokens = 80 , temperature = 1.0\n",
        ")"
      ],
      "metadata": {
        "id": "2AkENuUEzab7"
      },
      "execution_count": null,
      "outputs": []
    },
    {
      "cell_type": "code",
      "source": [
        "info = text_generator.generate(\n",
        "    \"wine review :italy\", max_tokens = 80, temperature = 0.5\n",
        ")"
      ],
      "metadata": {
        "id": "lFtw4gafzhrH"
      },
      "execution_count": null,
      "outputs": []
    },
    {
      "cell_type": "code",
      "source": [
        "info = text_generator.generate(\n",
        "    \"wine review :germany\" , max_tokens = 80, temperature = 0.5\n",
        ")\n",
        "print_probs(info, vocab)"
      ],
      "metadata": {
        "id": "cKmF2NrXzpgh"
      },
      "execution_count": null,
      "outputs": []
    },
    {
      "cell_type": "code",
      "source": [],
      "metadata": {
        "id": "mdBQ2payzzCY"
      },
      "execution_count": null,
      "outputs": []
    }
  ]
}