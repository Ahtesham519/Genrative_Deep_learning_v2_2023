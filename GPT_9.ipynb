{
  "nbformat": 4,
  "nbformat_minor": 0,
  "metadata": {
    "colab": {
      "provenance": [],
      "authorship_tag": "ABX9TyNbRfyKLqflWgwKSfehLfH2",
      "include_colab_link": true
    },
    "kernelspec": {
      "name": "python3",
      "display_name": "Python 3"
    },
    "language_info": {
      "name": "python"
    }
  },
  "cells": [
    {
      "cell_type": "markdown",
      "metadata": {
        "id": "view-in-github",
        "colab_type": "text"
      },
      "source": [
        "<a href=\"https://colab.research.google.com/github/Ahtesham519/Genrative_Deep_learning_v2_2023/blob/main/GPT_9.ipynb\" target=\"_parent\"><img src=\"https://colab.research.google.com/assets/colab-badge.svg\" alt=\"Open In Colab\"/></a>"
      ]
    },
    {
      "cell_type": "code",
      "execution_count": null,
      "metadata": {
        "id": "FpiHNYC3MOaN"
      },
      "outputs": [],
      "source": [
        "%load_ext autoreload\n",
        "%autoreload 2\n",
        "import numpy as np\n",
        "import json\n",
        "import re\n",
        "import string\n",
        "from IPythin.display import display, HTML\n",
        "\n",
        "import tensorflow as tf\n",
        "from tensorflow.keras import layers, models, losses, callbacks"
      ]
    },
    {
      "cell_type": "markdown",
      "source": [
        "#0. Parameters"
      ],
      "metadata": {
        "id": "H93JOyxoMkLk"
      }
    },
    {
      "cell_type": "code",
      "source": [
        "VOCAB_SIZE = 10000\n",
        "MAX_LEN = 80\n",
        "EMBEDDING_DIM = 256\n",
        "KEY_DIM = 256\n",
        "N_HEADS = 2\n",
        "FEED_FORWARD_DIM = 256\n",
        "VALIDATION_SPLIT = 0.2\n",
        "SEED = 42\n",
        "LOAD_MODEL = False\n",
        "BATCH_SIZE = 32\n",
        "EPOCHS = 5\n"
      ],
      "metadata": {
        "id": "vv0HjQCzMi3v"
      },
      "execution_count": null,
      "outputs": []
    },
    {
      "cell_type": "markdown",
      "source": [
        "#1. Load the data"
      ],
      "metadata": {
        "id": "6relyfN_M2P_"
      }
    },
    {
      "cell_type": "code",
      "source": [
        "#Load the full dataset\n",
        "with open(\"/app/data/wine-reviews/winemag-data-130k-v2.json\") as json_data:\n",
        "  wine_data = json.load(json_data)"
      ],
      "metadata": {
        "id": "mYTMWVk9M1Yt"
      },
      "execution_count": null,
      "outputs": []
    },
    {
      "cell_type": "code",
      "source": [
        "wine_data[10]"
      ],
      "metadata": {
        "id": "IYaXzfTjNEVR"
      },
      "execution_count": null,
      "outputs": []
    },
    {
      "cell_type": "code",
      "source": [
        "#filter the data\n",
        "filtered_data = [\n",
        "    \"wine review:\"\n",
        "    + x[\"country\"]\n",
        "    + \" : \"\n",
        "    + x[\"province\"]\n",
        "    + \" : \"\n",
        "    + x[\"variety\"]\n",
        "    + \" : \"\n",
        "    + x[\"description\"]\n",
        "    for x in wine_data\n",
        "    if x[\"country\"] is not None\n",
        "    and x[\"province\"] is not None\n",
        "    and x[\"variety\"] is not None\n",
        "    and x[\"description\"] is not None\n",
        "]"
      ],
      "metadata": {
        "id": "5U4O68qKNF0t"
      },
      "execution_count": null,
      "outputs": []
    },
    {
      "cell_type": "code",
      "source": [
        "#count the recipes\n",
        "n_wines = len(filtered_data)\n",
        "print(f\"{n_wines} recipes loaded\")"
      ],
      "metadata": {
        "id": "a9wWRlwdNqSr"
      },
      "execution_count": null,
      "outputs": []
    },
    {
      "cell_type": "code",
      "source": [
        "example = filtered_data[25]\n",
        "print(example)"
      ],
      "metadata": {
        "id": "PeR9RIi2NwSI"
      },
      "execution_count": null,
      "outputs": []
    },
    {
      "cell_type": "markdown",
      "source": [
        "#Tokenize the data"
      ],
      "metadata": {
        "id": "MxwPNCr9N1if"
      }
    },
    {
      "cell_type": "code",
      "source": [
        "#pad the punctuation to treat them as seperate 'words'\n",
        "def pad_punctuation(s):\n",
        "  s = re.sub(f\"([{string.punctuation} , '\\n'])\" , r\"\\1\" , s)\n",
        "  s = re.sub(\" + \", \" \" , s)\n",
        "  return s\n",
        "\n",
        "  text_data = [pad_punctuation(x) for x in filtered_data]\n",
        ""
      ],
      "metadata": {
        "id": "NgP-lj4mN0Zs"
      },
      "execution_count": null,
      "outputs": []
    },
    {
      "cell_type": "code",
      "source": [
        "#Display an example of a recipe\n",
        "example_data = text_data[25]\n",
        "example_data"
      ],
      "metadata": {
        "id": "juyZ1rcFOPzf"
      },
      "execution_count": null,
      "outputs": []
    },
    {
      "cell_type": "code",
      "source": [
        "#convert to a tensorflow Dataset\n",
        "text_ds = (\n",
        "    tf.data.Dataset.from_tensor_slices(text_data)\n",
        "    .batch(BATCH_SIZE)\n",
        "    .shuffle(10000)\n",
        ")"
      ],
      "metadata": {
        "id": "GdfD2HMcOVcK"
      },
      "execution_count": null,
      "outputs": []
    },
    {
      "cell_type": "code",
      "source": [
        "#Create a vectorization layer\n",
        "vectorize_layer = layers.TextVectorization(\n",
        "    standardize = \"lower\",\n",
        "    max_tokens = VOCAB_SIZE ,\n",
        "    output_mode = \"int\",\n",
        "    output_sequence_length = MAX_LEN + 1,\n",
        ")"
      ],
      "metadata": {
        "id": "DP4ZldhdOfwr"
      },
      "execution_count": null,
      "outputs": []
    },
    {
      "cell_type": "code",
      "source": [
        "#Adapt the layer to the training set\n",
        "vectorize_layer.adapt(text_ds)\n",
        "vocab = vectorize_layer.get_vocabulary()"
      ],
      "metadata": {
        "id": "NtJ4wfn6Oudd"
      },
      "execution_count": null,
      "outputs": []
    },
    {
      "cell_type": "code",
      "source": [
        "#Display some token: word mappings\n",
        "for i , word in enumerate(vocab[:10]):\n",
        "  print(f\"{1} : {word}\")"
      ],
      "metadata": {
        "id": "6wDGd0Q9O2yh"
      },
      "execution_count": null,
      "outputs": []
    },
    {
      "cell_type": "code",
      "source": [
        "#Display the same example converted to ints\n",
        "example_tokenised = vectorize_layer(example_data)\n",
        "print(example_tokenised.numpy())\n"
      ],
      "metadata": {
        "id": "NWSouuSaO-Oz"
      },
      "execution_count": null,
      "outputs": []
    },
    {
      "cell_type": "markdown",
      "source": [
        "#Create the Training set"
      ],
      "metadata": {
        "id": "hrnUToCOPHVi"
      }
    },
    {
      "cell_type": "code",
      "source": [
        "#create the training set of recipes and the same text shifted by one word\n",
        "def prepare_inputs(text):\n",
        "  text = tf.expand_dims(text, -1)\n",
        "  tokenized_sentences = vectorize_layer(text)\n",
        "  x = tokenized_sentences[:,:-1]\n",
        "  y = tokenized_sentences[:, 1:]\n",
        "  return x, y\n",
        "\n",
        "train_ds = text_ds.map(prepare_inputs)"
      ],
      "metadata": {
        "id": "SaW_d60OPGPO"
      },
      "execution_count": null,
      "outputs": []
    },
    {
      "cell_type": "code",
      "source": [
        "example_input_output = train_ds.take(1).get_single_element()"
      ],
      "metadata": {
        "id": "JA8DAMi2PlOD"
      },
      "execution_count": null,
      "outputs": []
    },
    {
      "cell_type": "code",
      "source": [
        "#Example input\n",
        "example_input_output[0][0]"
      ],
      "metadata": {
        "id": "mIJvWPPePqGs"
      },
      "execution_count": null,
      "outputs": []
    },
    {
      "cell_type": "code",
      "source": [
        "#Example Output (shifted by one token)\n",
        "example_input_output[1][0]"
      ],
      "metadata": {
        "id": "PO2BZTonPtnF"
      },
      "execution_count": null,
      "outputs": []
    },
    {
      "cell_type": "markdown",
      "source": [
        "#5. Create the casual attention mask function"
      ],
      "metadata": {
        "id": "iXwFKJajPy7C"
      }
    },
    {
      "cell_type": "code",
      "source": [
        "def casual_attention_mask(batch_size , n_dest, n_src, dtype):\n",
        "  i = tf.range(n_dest)[:, None]\n",
        "  j = tf.range(n_src)\n",
        "  m = i >= j - n_src + n_dest\n",
        "  mask = tf.cast(m, dtype)\n",
        "  mask = tf.reshape(mask, [1, n_dest, n_src])\n",
        "  mult = tf.concat(\n",
        "      [tf.expand_dims(batch_size , -1) , tf.constant([1,1] , dtype = tf.int32)], 0\n",
        "  )\n",
        "  return tf.title(mask, mult)\n",
        "\n",
        "np.transpose(casual_attention_mask(1, 10 ,10 , dtype = tf.int32)[0])"
      ],
      "metadata": {
        "id": "Cx-YNwM-Pxzc"
      },
      "execution_count": null,
      "outputs": []
    },
    {
      "cell_type": "markdown",
      "source": [
        "#6. Create a Transformer Block layer"
      ],
      "metadata": {
        "id": "XdSQDvINQbJo"
      }
    },
    {
      "cell_type": "code",
      "source": [
        "class TransformerBlock(layers.Layer):\n",
        "  def __init__(self, num_heads , key_dim , embed_dim , ff_dim , dropout_rate = 0.1):\n",
        "    super(TransformerBlock, self).__init__()\n",
        "    self.num_heads = num_heads\n",
        "    self.key_dim = key_dim\n",
        "    self.embed_dim =  embed_dim\n",
        "    self.ff_dim = ff_dim\n",
        "    self.dropout_rate = dropout_rate\n",
        "    self.attn = layers.MultiHeadAttention(\n",
        "        num_heads , key_dim , output_shape = embed_dim\n",
        "    )\n",
        "    self.dropout_1 = layers.Dropout(self.dropout_rate)\n",
        "    self.ln_1 = layers.LayerNormalization(epsilon = 1e- 6)\n",
        "    self.ffn_1 = layers.Dense(self.ffn_dim , activation  = \"relu\")\n",
        "    self.ffn_2 = layers.Desne(self.embed_dim)\n",
        "    self.dropout_2 = layers.Dropout(self.dropout_rate)\n",
        "    self.ln_2 = layers.LayerNormalization(epsilon = 1e-6)\n",
        "\n",
        "  def call(self, inputs):\n",
        "    input_shape = tf.shape(inputs)\n",
        "    batch_size = input_shape[0]\n",
        "    seq_len = input_shape[1]\n",
        "    casual_mask = casual_attention_mask(\n",
        "        batch_size = seq_len , seq_len, tf.bool\n",
        "    )\n",
        "    attention_output, attention_scores = self.attn(\n",
        "        inputs,\n",
        "        inputs,\n",
        "        attention_mask = casual_mask,\n",
        "        return_attention_scores = True,\n",
        "    )\n",
        "    attention_output = self.dropout_1(attention_output)\n",
        "    out1 = self.ln_1 (inputs + attention_output)\n",
        "    ffn_1 = self.ffn_1(out1)\n",
        "    ffn_2 = self.ffn_2(ffn_1)\n",
        "    ffn_output = self.dropout_2(ffn_2)\n",
        "    return (self.ln_2(out1 + ffn_output) , attention_scores)\n",
        "\n",
        "  def get_config(self):\n",
        "    config = super().get_config()\n",
        "    config.update(\n",
        "        {\n",
        "            \"key_dim\": self.key_dim,\n",
        "            \"embed_dim\": self.embed_dim,\n",
        "            \"num_heads\":self.num_heads,\n",
        "            \"ff_dim\": self.ff_dim,\n",
        "            \"dropout_rate\": self.dropout_rate,\n",
        "        }\n",
        "    )\n",
        "    return config\n",
        ""
      ],
      "metadata": {
        "id": "iIOrA-ywQaHh"
      },
      "execution_count": null,
      "outputs": []
    },
    {
      "cell_type": "markdown",
      "source": [
        "#7 Create the token and position Embedding"
      ],
      "metadata": {
        "id": "QRAXXtceSe1c"
      }
    },
    {
      "cell_type": "code",
      "source": [
        "class TokenAndPostionEmbedding(layers.Layer):\n",
        "  def __init__(self, max_len, vocab_size , embed_dim):\n",
        "    super(TokenAndPositionEmbedding , self).__init__()\n",
        "    self.max_len = max_len\n",
        "    self.vocab_size = vocab_size\n",
        "    self.embed_dim = embed_dim\n",
        "    self.token_emb = layers.Embedding(\n",
        "        input_dim = vocab_size , output_dim = embed_dim\n",
        "    )\n",
        "    self.pos_emb = layers.Embedding(input_dim = max_len , output_dim = embed_dim)\n",
        "\n",
        "  def call(self, x):\n",
        "    maxlen = tf.shape(x)[-1]\n",
        "    positions = tf.range(start = 0, limit = maxlen , delta = 1)\n",
        "    positions = self.pos_emb(positions)\n",
        "    x = self.token_emb(x)\n",
        "    return x + positions\n",
        "\n",
        "  def get_config(self):\n",
        "    config = super().get_config()\n",
        "    config.update(\n",
        "        {\n",
        "            \"max_len\": self.max_len,\n",
        "            \"vocab_size\": self.vocab_size,\n",
        "            \"embed_dim\": self.embed_dim,\n",
        "        }\n",
        "    )\n",
        "    return config"
      ],
      "metadata": {
        "id": "PckKunFTSdzk"
      },
      "execution_count": null,
      "outputs": []
    },
    {
      "cell_type": "markdown",
      "source": [
        "#Bulid the Transformer model"
      ],
      "metadata": {
        "id": "N9pYi5RDT4tQ"
      }
    },
    {
      "cell_type": "code",
      "source": [
        "inputs = layers.Input(shape = (None,), dtype = tf.int32)\n",
        "x = TokenAndPositionEmbedding(MAX_LEN, VOCAB_SIZE, EMBEDDING_DIM)(inputs)\n",
        "x, attention_scores = TransformerBlock(\n",
        "    N_HEADS, KEY_DIM , EMBEDDING_DIM , FEED_FORWARD_DIM\n",
        ")(x)\n",
        "outputs = layers.Dense(VOCAB_SIZE , activation = \"softmax\")(x)\n",
        "gpt = models.Model(inputs = inputs , outputs = [outputs, attention_scores])\n",
        "gpt.compile(\"adam\", loss = [losses.SparseCategoricalCrossentropy() , None])"
      ],
      "metadata": {
        "id": "oh58VgovT3ce"
      },
      "execution_count": null,
      "outputs": []
    },
    {
      "cell_type": "code",
      "source": [
        "gpt.summary()"
      ],
      "metadata": {
        "id": "-d6oIdBfUmmQ"
      },
      "execution_count": null,
      "outputs": []
    },
    {
      "cell_type": "code",
      "source": [
        "if LOAD_MODEL:\n",
        "  #model.load_weights('./models/model')\n",
        "  gpt = models.load_model(\"./models/gpt\" , compile = True)"
      ],
      "metadata": {
        "id": "j4eY0WOnUnkx"
      },
      "execution_count": null,
      "outputs": []
    },
    {
      "cell_type": "markdown",
      "source": [
        "# 9. Train the Transformer"
      ],
      "metadata": {
        "id": "CoesiFbiUyuC"
      }
    },
    {
      "cell_type": "code",
      "source": [
        "#Create a TextGenerator checkpoint\n",
        "class TextGenerator(callbacks.Callback):\n",
        "  def __init__(self, index_to_word , top_k = 10):\n",
        "    self.index_to_word = index_to_word\n",
        "    self.word_to_index = {\n",
        "        word: index for index , word in enumerate(index_word)\n",
        "    }\n",
        "\n",
        "  def sample_from(self, probs , temperature):\n",
        "    probs = probs ** (1/temperature)\n",
        "    probs = probs /np.sum(probs)\n",
        "    return np.random.choice(len(probs) , p = probs) , probs\n",
        "\n",
        "  def generate(self, start_prompt , max_tokens , temperature):\n",
        "    start_tokens = [\n",
        "        self.word_to_index.get(x, 1) for x in start_prompt.split()\n",
        "    ]\n",
        "    sample_token = None\n",
        "    info = []\n",
        "    while len(start_tokens) < max_tokens and sample_token != 0:\n",
        "      x = np.array([start_tokens])\n",
        "      y, att = self.model.predict(x, verbose = 0)\n",
        "      sample_token, probs = self.sample_from(y[0][-1] . temperature)\n",
        "      info.append(\n",
        "          {\n",
        "              \"prompt\": start_prompt,\n",
        "              \"word_probs\": probs,\n",
        "              \"atts\":att[0, : , -1 , :],\n",
        "          }\n",
        "      )\n",
        "      start_tokens.append(sample_token)\n",
        "      start_prompt = start_prompt + \" \" + self.index_to_word[sample_token]\n",
        "    print(f\"\\ngenerated text:\\n{start_prompt}\\n\")\n",
        "    return info\n",
        "\n",
        "  def on_epoch_end(self, epoch , logs = None):\n",
        "    self.generate(\"wine review\" , max_tokens = 80 , temperature = 1.0)\n",
        ""
      ],
      "metadata": {
        "id": "koiffboqUxVJ"
      },
      "execution_count": null,
      "outputs": []
    },
    {
      "cell_type": "code",
      "source": [
        "#Create a model save checkpoint\n",
        "model_checkpoint_callback = callbacks.ModelCheckpoint(\n",
        "    filepath = \"./checkpoint/checkpoint.ckpt\",\n",
        "    save_weights_only = True,\n",
        "    save_freq = \"epoch\",\n",
        "    verbose = 0,\n",
        ")"
      ],
      "metadata": {
        "id": "ychnoJKWWPI0"
      },
      "execution_count": null,
      "outputs": []
    },
    {
      "cell_type": "code",
      "source": [
        "tensorboard_callback = callbacks.TensorBoard(log_dir = \"./logs\")\n",
        "\n",
        "text_generator = TextGenerator(vocab)"
      ],
      "metadata": {
        "id": "zpkazF94WelC"
      },
      "execution_count": null,
      "outputs": []
    },
    {
      "cell_type": "code",
      "source": [
        "gpt.fit(\n",
        "    train_ds,\n",
        "    epochs = EPOCHS,\n",
        "    callbacks = [model_checkpoint_callback, tensorboard_callback , text_generator],\n",
        ")"
      ],
      "metadata": {
        "id": "8TACidqSWnY4"
      },
      "execution_count": null,
      "outputs": []
    },
    {
      "cell_type": "code",
      "source": [
        "gpt.save(\"./models/gpt\")"
      ],
      "metadata": {
        "id": "UOR24iX3WwmJ"
      },
      "execution_count": null,
      "outputs": []
    },
    {
      "cell_type": "markdown",
      "source": [
        "#3. Generate text using the Trasformer"
      ],
      "metadata": {
        "id": "LcLTUo5_XZ6Q"
      }
    },
    {
      "cell_type": "code",
      "source": [
        "def print_probs(info, vocab, top_k = 5):\n",
        "  for i in info:\n",
        "    highlighted_text = []\n",
        "    for word , att_score in zip(\n",
        "        i[\"prompt\"].split(), np.mean(i[\"atts\"] , axis = 0)\n",
        "\n",
        "    ):\n",
        "      highlighted_text.append(\n",
        "        '<span style = \"background-color:rgba(135, 206, 250),'\n",
        "        + str(att_score /max(np.mean(i[\"atts\"], axis = 0)))\n",
        "        + ');\">'\n",
        "        + word\n",
        "        + \"</span>\"\n",
        "    )\n",
        "    highlighted_text = \" \" .join(highlighted_text)\n",
        "    diaply(HTML(highlighted_text))\n",
        "\n",
        "    word_probs = i[\"word_probs\"]\n",
        "    p_sorted = np.sort(word_probs)[::-1][:top_k]\n",
        "    i_sorted = np.argsort(word_probs)[::-1][:top_k]\n",
        "    for p , i in zip(p_sorted , i_sorted):\n",
        "      print(f\"{vocab[i]}:    \\t{np.round(100*p, 2)}%\")\n",
        "    print(\"-------\\n\")"
      ],
      "metadata": {
        "id": "gp3G5YFkXYhK"
      },
      "execution_count": null,
      "outputs": []
    },
    {
      "cell_type": "code",
      "source": [
        "info = text_generator.generate(\n",
        "    \"wine review :us\", max_tokens = 80 , temperature = 1.0\n",
        ")"
      ],
      "metadata": {
        "id": "wSz2gNsdYr6x"
      },
      "execution_count": null,
      "outputs": []
    },
    {
      "cell_type": "code",
      "source": [
        "info = text_generator.generate(\n",
        "    \"wine review : italy\" , max_tokens = 80, temperature = 0.5\n",
        ")"
      ],
      "metadata": {
        "id": "xSjTy1NVYyc_"
      },
      "execution_count": null,
      "outputs": []
    },
    {
      "cell_type": "code",
      "source": [
        "info = text_generator.generate(\n",
        "    \"wine review : germany\", max_tokens = 80, temperature = 0.5\n",
        ")\n",
        "print_probs(info , vocab)"
      ],
      "metadata": {
        "id": "s5fBM5KnY7Rv"
      },
      "execution_count": null,
      "outputs": []
    }
  ]
}