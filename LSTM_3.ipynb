{
  "nbformat": 4,
  "nbformat_minor": 0,
  "metadata": {
    "colab": {
      "provenance": [],
      "authorship_tag": "ABX9TyOZ9vkYKe+U8Pu/fIt5e17+",
      "include_colab_link": true
    },
    "kernelspec": {
      "name": "python3",
      "display_name": "Python 3"
    },
    "language_info": {
      "name": "python"
    }
  },
  "cells": [
    {
      "cell_type": "markdown",
      "metadata": {
        "id": "view-in-github",
        "colab_type": "text"
      },
      "source": [
        "<a href=\"https://colab.research.google.com/github/Ahtesham519/Genrative_Deep_learning_v2_2023/blob/main/LSTM_3.ipynb\" target=\"_parent\"><img src=\"https://colab.research.google.com/assets/colab-badge.svg\" alt=\"Open In Colab\"/></a>"
      ]
    },
    {
      "cell_type": "code",
      "execution_count": null,
      "metadata": {
        "id": "PUaWWZtN0byh"
      },
      "outputs": [],
      "source": [
        "%loadext autoreload\n",
        "autoreload 2\n",
        "import numpy as np\n",
        "import json\n",
        "import re\n",
        "import string\n",
        "\n",
        "import tensorflow as tf\n",
        "from tensorflow.keras import layers, models, callbacks, losses\n",
        "\n"
      ]
    },
    {
      "cell_type": "markdown",
      "source": [
        "#0. Parameters"
      ],
      "metadata": {
        "id": "l4C0UZBi00aD"
      }
    },
    {
      "cell_type": "code",
      "source": [
        "VOCAB_SIZE = 10000\n",
        "MAX_LEN = 200\n",
        "EMBEDDINGS_DIM = 100\n",
        "N_UNITS = 128\n",
        "VALIDATION_SPLIT = 0.2\n",
        "SEED = 42\n",
        "LOAD_MODEL = False\n",
        "BATCH_SIZE  = 32\n",
        "EPOCHS = 25\n"
      ],
      "metadata": {
        "id": "upJD_AjT0y7B"
      },
      "execution_count": null,
      "outputs": []
    },
    {
      "cell_type": "markdown",
      "source": [
        "#Load the data"
      ],
      "metadata": {
        "id": "lqpGJlRj1Hyh"
      }
    },
    {
      "cell_type": "code",
      "source": [
        "#Load the full dataset\n",
        "with open(\"/app/data/epirecipes/full_format_recipes.json\") as json_data:\n",
        "  recipe_data = json.load(json_data)\n",
        ""
      ],
      "metadata": {
        "id": "NKuG7XHi1GMq"
      },
      "execution_count": null,
      "outputs": []
    },
    {
      "cell_type": "code",
      "source": [
        "filtered_data = [\n",
        "    \"Recipe for \" + x[\"title\"] + \" | \" + \" \".join(x[\"direction\"])\n",
        "    for x in recipe_data\n",
        "    if \"title\" in x\n",
        "    and x[\"title\"] is note None\n",
        "    and \"direction\" in x\n",
        "    and x[\"directions\"] is not None\n",
        "]"
      ],
      "metadata": {
        "id": "0CCC4Qji1YCo"
      },
      "execution_count": null,
      "outputs": []
    },
    {
      "cell_type": "code",
      "source": [
        "#count the recipes\n",
        "n_recipes = len(filtered_data)\n",
        "print(f\"{n_recipes} recipes loaded\")"
      ],
      "metadata": {
        "id": "Br51mqZ21x_D"
      },
      "execution_count": null,
      "outputs": []
    },
    {
      "cell_type": "code",
      "source": [
        "example = filtered_data[9]\n",
        "print(example)"
      ],
      "metadata": {
        "id": "WFv2ISS515Yb"
      },
      "execution_count": null,
      "outputs": []
    },
    {
      "cell_type": "markdown",
      "source": [
        "#2. Tokenise the data"
      ],
      "metadata": {
        "id": "sB5pTKP119y4"
      }
    },
    {
      "cell_type": "code",
      "source": [
        "#Pad the punctuation to treat them as seperate 'words\n",
        "\n",
        "def pad_punctuation(s):\n",
        "  s = re.sub(f\"([{string.punctuation}])\" , r \"\\1\" , s)\n",
        "  s = re.sub(\" + \", \" \", s)\n",
        "  return s\n",
        "\n",
        "text_data = [pad_punctuation(x) for x in filtered_data]"
      ],
      "metadata": {
        "id": "0GPVYF6J183i"
      },
      "execution_count": null,
      "outputs": []
    },
    {
      "cell_type": "code",
      "source": [
        "#Dispaly an example of a recipe\n",
        "example_data = text_data[9]\n",
        "example_data"
      ],
      "metadata": {
        "id": "GGo3hSLq2Y_M"
      },
      "execution_count": null,
      "outputs": []
    },
    {
      "cell_type": "code",
      "source": [
        "#convert to a tensorflow Dataset\n",
        "text_ds = (\n",
        "    tf.data.Dataset.from_tensor_slices(text_data)\n",
        "    .batch(BATCH_SIZE)\n",
        "    .shuffle(1000)\n",
        ")"
      ],
      "metadata": {
        "id": "bt6tBxSm2e2Z"
      },
      "execution_count": null,
      "outputs": []
    },
    {
      "cell_type": "code",
      "source": [
        "#Create a vectorization layer\n",
        "vectorize_layer = layers.TextVectorization(\n",
        "    standardize = \"lower\",\n",
        "    max_tokens = VOCAB_SIZE,\n",
        "    output_mode = \"int\",\n",
        "    output_sequence_length = MAX_LEN + 1\n",
        ")"
      ],
      "metadata": {
        "id": "goh7uBro2q2S"
      },
      "execution_count": null,
      "outputs": []
    },
    {
      "cell_type": "code",
      "source": [
        "#Adapt the payer to the training set\n",
        "vectorize_layer.adapt(text_ds)\n",
        "vocab = vectorize_layer.get_vocabulary()\n"
      ],
      "metadata": {
        "id": "0HQhVNhC2-6o"
      },
      "execution_count": null,
      "outputs": []
    },
    {
      "cell_type": "code",
      "source": [
        "#Display the same example converted to ints\n",
        "example_tokenised - vectorize_layer(example_data)\n",
        "print(example_tokenised.numpy())\n"
      ],
      "metadata": {
        "id": "7jmS-E7W3IFi"
      },
      "execution_count": null,
      "outputs": []
    },
    {
      "cell_type": "markdown",
      "source": [
        "#3. Create the training set"
      ],
      "metadata": {
        "id": "Q_Y02Yvn3TtX"
      }
    },
    {
      "cell_type": "code",
      "source": [
        "#Create the training set of recipes and the same text shifted by one word\n",
        "def prepare_inputs(text):\n",
        "  text = tf.expand_dims(text, -1)\n",
        "  tokenized_sentences = vectorize_layer(text)\n",
        "  x = tokenized_sentences[:, : , -1]\n",
        "  y = tokenized_sentences[:,1 :]\n",
        "  return x, y\n",
        "\n",
        "train_ds = text_ds.map(prepare_inputs)\n"
      ],
      "metadata": {
        "id": "c8FHLIQV3Su6"
      },
      "execution_count": null,
      "outputs": []
    },
    {
      "cell_type": "markdown",
      "source": [
        "#Build the LSTM"
      ],
      "metadata": {
        "id": "_1ieUo7130yV"
      }
    },
    {
      "cell_type": "code",
      "source": [
        "inputs = layers.Input(shape = (None,), dtype = \"int32\")\n",
        "x = layers.Embedding(VOCAB_SIZE , EMBEDDINGS_DIM)(inputs)\n",
        "x = layers.LSTM(N_UNITS, return_sequences = True)(x)\n",
        "outputs = layers.Dense(VOCAB_SIZE, activation = \"softmax\")(x)\n",
        "lstm = models.Model(inputs, outputs)\n",
        "lstm.summary()\n"
      ],
      "metadata": {
        "id": "Cj2uixT33zmj"
      },
      "execution_count": null,
      "outputs": []
    },
    {
      "cell_type": "code",
      "source": [
        "if LOAD_MODEL:\n",
        "  lstm = models.load_model(\"./models/lstm\" , compile = False)\n",
        ""
      ],
      "metadata": {
        "id": "IIKtTQxP4R2G"
      },
      "execution_count": null,
      "outputs": []
    },
    {
      "cell_type": "markdown",
      "source": [
        "#5. Train the LSTM"
      ],
      "metadata": {
        "id": "EEDHCRor4b7h"
      }
    },
    {
      "cell_type": "code",
      "source": [
        "loss_fn = losses.SparseCategoricalCrossentropy()\n",
        "lstm.compile(\"adam\" , loss_fn)"
      ],
      "metadata": {
        "id": "t3P3gfp74a_h"
      },
      "execution_count": null,
      "outputs": []
    },
    {
      "cell_type": "code",
      "source": [
        "#Create a TextGenerator checkpoint\n",
        "class TextGenerator(callbacks.Callback):\n",
        "  def __init__(self, index_to_word , top_k = 10):\n",
        "    self.index_to_word = index_to_word\n",
        "    self.word_to_index = {\n",
        "        word: index for index, word in enumerate(index_to_word)\n",
        "    }\n",
        "\n",
        "  def sample_from(self, probs , temperature):\n",
        "    probs = probs ** (1 / temperature)\n",
        "    probs = probs / np.sum(probs)\n",
        "    return np.random.choice(len(probs) , p = probs), probs\n",
        "\n",
        "  def generate(self, start_prompt , max_tokens , temperature):\n",
        "    start_tokens = [\n",
        "        self.word_to_index.get(x , 1) for x in start_prompt.split()\n",
        "    ]\n",
        "    sample_token = None\n",
        "    info = []\n",
        "    while len(start_tokens) < max_tokens and sample_token != 0 :\n",
        "      x = np.array([start_tokens])\n",
        "      y = self.model.predict(x, verbose = 0)\n",
        "      sample_token, probs = self.sample_from(y[0][-1] , temperature)\n",
        "      info.append({\"prompt\": start_prompt , \"word_probs\": probs})\n",
        "      start_tokens.append(sample_token)\n",
        "      start_prompt = start_prompt + \" \" + self.index_to_word[sample_token]\n",
        "    print(f\"\\ngenerated text: \\n{start_prompt}\\n\")\n",
        "    return info\n",
        "\n",
        "  def on_epoch_end(self, epoch , logs = None):\n",
        "    self.generate(\"recipe for \" , max_tokens = 100 , temperature = 1.0)\n",
        ""
      ],
      "metadata": {
        "id": "5I4hjvRt4onj"
      },
      "execution_count": null,
      "outputs": []
    },
    {
      "cell_type": "code",
      "source": [
        "#Create a model save checkpoint\n",
        "model_checkpoint_callback = callbacks.ModelCheckpoint(\n",
        "    filepath = \"./checkpoint/checkpoint.ckpt\",\n",
        "    save_weights_only = True,\n",
        "    save_freq = \"epoch\",\n",
        "    verbose = 0,\n",
        ")\n",
        "\n",
        "tensorboard_callback = callbacks.TensorBoard(log_dir = \"./logs\")\n",
        "\n",
        "text_generator = TextGenerator(vocab)"
      ],
      "metadata": {
        "id": "Tm5d7JY06Ye9"
      },
      "execution_count": null,
      "outputs": []
    },
    {
      "cell_type": "code",
      "source": [
        "lstm.fit(\n",
        "    train_ds,\n",
        "    epochs = EPOCHS,\n",
        "    callbacks = [model_checkpoint_callback, tensorboard_callback , text_generator]\n",
        "\n",
        ")"
      ],
      "metadata": {
        "id": "pqkORAtX6z5J"
      },
      "execution_count": null,
      "outputs": []
    },
    {
      "cell_type": "code",
      "source": [
        "#save the final model\n",
        "lstm.save(\"./models/lstm\")"
      ],
      "metadata": {
        "id": "AsYdRUhi7AtZ"
      },
      "execution_count": null,
      "outputs": []
    },
    {
      "cell_type": "markdown",
      "source": [
        "#6. Generate text using the LSTM"
      ],
      "metadata": {
        "id": "w0Cwvj_Q7HUm"
      }
    },
    {
      "cell_type": "code",
      "source": [
        "def print_probs(info, vocab , top_k = 5):\n",
        "  for i in info:\n",
        "    print(f\"\\nPROMPT: {i['prompt']}\")\n",
        "    word_probs = i[\"word_probs\"]\n",
        "    p_sorted = np.sort(word_probs)[::-1][:top_k]\n",
        "    i_sorted = np.argsort(word_probs)[::-1][:top_k]\n",
        "    for p , i in zip(p_sorted, i_sorted):\n",
        "      print(f\"{vocab[i]}:  \\t{np.round(100 * p , 2)}%\")\n",
        "    print(\"---------\"\\n)"
      ],
      "metadata": {
        "id": "6n9MysJZ7Fv3"
      },
      "execution_count": null,
      "outputs": []
    },
    {
      "cell_type": "code",
      "source": [
        "info = text_generator.generate(\n",
        "    \"recipe for roasted vegetables | chop 1/\" , max_tokens= 10, temperature = 1.0\n",
        ")"
      ],
      "metadata": {
        "id": "ceKTB9_772AH"
      },
      "execution_count": null,
      "outputs": []
    },
    {
      "cell_type": "code",
      "source": [
        "print_probs(info , vocab)"
      ],
      "metadata": {
        "id": "GTzmOSeR8B-K"
      },
      "execution_count": null,
      "outputs": []
    },
    {
      "cell_type": "code",
      "source": [
        "info = text_generator.generate(\n",
        "    \"recipe for rosted vegitables | chop /\" , max_tokens = 10,  temperature = 0.2\n",
        ")"
      ],
      "metadata": {
        "id": "27fAErha8EYS"
      },
      "execution_count": null,
      "outputs": []
    },
    {
      "cell_type": "code",
      "source": [
        "print_probs(info , vocab)"
      ],
      "metadata": {
        "id": "CmzZExiL8OYb"
      },
      "execution_count": null,
      "outputs": []
    },
    {
      "cell_type": "code",
      "source": [
        "info = text_generator.generate(\n",
        "    \"rec\"\n",
        ")"
      ],
      "metadata": {
        "id": "V0hxC_IW8R3a"
      },
      "execution_count": null,
      "outputs": []
    }
  ]
}