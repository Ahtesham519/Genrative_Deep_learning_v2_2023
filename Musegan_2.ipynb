{
  "nbformat": 4,
  "nbformat_minor": 0,
  "metadata": {
    "colab": {
      "provenance": [],
      "authorship_tag": "ABX9TyO3NBRHnob8na/hdbpZ7uLA",
      "include_colab_link": true
    },
    "kernelspec": {
      "name": "python3",
      "display_name": "Python 3"
    },
    "language_info": {
      "name": "python"
    }
  },
  "cells": [
    {
      "cell_type": "markdown",
      "metadata": {
        "id": "view-in-github",
        "colab_type": "text"
      },
      "source": [
        "<a href=\"https://colab.research.google.com/github/Ahtesham519/Genrative_Deep_learning_v2_2023/blob/main/Musegan_2.ipynb\" target=\"_parent\"><img src=\"https://colab.research.google.com/assets/colab-badge.svg\" alt=\"Open In Colab\"/></a>"
      ]
    },
    {
      "cell_type": "code",
      "execution_count": null,
      "metadata": {
        "id": "ySOiFnVbAp0E"
      },
      "outputs": [],
      "source": [
        "%load_ext autoreload\n",
        "%autoreload 2\n",
        "\n",
        "import numpy as np\n",
        "import matplotlib.pyplot as plt\n",
        "\n",
        "plt.style.use(\"seaborn-v0_8-colorblind\")\n",
        "\n",
        "import os\n",
        "import tensorflow as tf\n",
        "from tensorflow.keras import (\n",
        "    layers,\n",
        "    models,\n",
        "    optimizers,\n",
        "    callbacks,\n",
        "    initializers,\n",
        "    metrics,\n",
        ")\n"
      ]
    },
    {
      "cell_type": "markdown",
      "source": [
        "#0.Parameters"
      ],
      "metadata": {
        "id": "t02oP9AgBJ9R"
      }
    },
    {
      "cell_type": "code",
      "source": [
        "BATCH_SIZE = 64\n",
        "\n",
        "N_BARS = 2\n",
        "N_STEPS_PER_BAR = 16\n",
        "MAX_PITCH = 83\n",
        "N_PITCHES = MAX_PITCH + 1\n",
        "Z_DIM = 32\n",
        "\n",
        "CRITIC_STEPS = 5\n",
        "GP_WEIGHT = 10\n",
        "CRITIC_LEARNING_RATE = 0.001\n",
        "GENERATOR_LEARNING_RATE = 0.001\n",
        "ADAM_BETA_1 = 0.5\n",
        "ADAM_BETA_2 = 0.9\n",
        "EPOCHS = 6000\n",
        "LOAD_MODEL = False\n"
      ],
      "metadata": {
        "id": "PbCK1dQaBIr1"
      },
      "execution_count": null,
      "outputs": []
    },
    {
      "cell_type": "markdown",
      "source": [
        "#1. Prepare the Data"
      ],
      "metadata": {
        "id": "L-ohNtTOBsLB"
      }
    },
    {
      "cell_type": "code",
      "source": [
        "#Load the data\n",
        "file = os.path.join(\"/app/data/bach-chorales/Jsb16thSeparated.npz\")\n",
        "with np.load(file, encoding = \"bytes\" , allow_pickle = True) as f:\n",
        "  data = f[\"train\"]"
      ],
      "metadata": {
        "id": "9JFPopLtBqz0"
      },
      "execution_count": null,
      "outputs": []
    },
    {
      "cell_type": "code",
      "source": [
        "N_SONGS = len(data)\n",
        "print(f\"{N_SONGS} chorales in the dataset\")\n",
        "chorale = data[0]\n",
        "N_BEATS , N_TRACKS = chorale.shape\n",
        "print(f\"{N_BEATS, N_TRACKS} shape of chorale 0\")\n",
        "print(\"\\nChorale 0\")\n",
        "print(chorale[:8])"
      ],
      "metadata": {
        "id": "le5AJ9DKCEjh"
      },
      "execution_count": null,
      "outputs": []
    },
    {
      "cell_type": "code",
      "source": [
        "two_bars = np.array([x[:(N_STEPS_PER_BAR * N_BARS)] for x in data])\n",
        "two_bars = np.array(np.nan_to_num(two_bars, nan = MAX_PITCH) , dtype = int)\n",
        "two_bars = two_bars.reshape([N_SONGS , N_BARS, N_STEPS_PER_BAR, N_TRACKS])\n",
        "print(f\"Two bars shape {two_bars.shape}\")"
      ],
      "metadata": {
        "id": "nTeXb5CFCeX8"
      },
      "execution_count": null,
      "outputs": []
    },
    {
      "cell_type": "code",
      "source": [
        "data_binary = np.eye(N_PITCHES)[two_bars]\n",
        "data_binary[data_binary == 0] = -1\n",
        "data_binary = data_binary.transpose([0,1,2,4,3])\n",
        "print(f\"Data binary shape{data_binary.shape}\")"
      ],
      "metadata": {
        "id": "ReJ84IEJComX"
      },
      "execution_count": null,
      "outputs": []
    },
    {
      "cell_type": "markdown",
      "source": [
        "#2. Build the GAN"
      ],
      "metadata": {
        "id": "5-wcTRGFDVaX"
      }
    },
    {
      "cell_type": "code",
      "source": [
        "#Some helper function\n",
        "\n",
        "initializer = initializers.RandomNormal(mean = 0.0 , stddev = 0.02)\n",
        "\n",
        "def conv(x, f , k , s, p):\n",
        "  x = layers.Conv3D(\n",
        "      filters = f,\n",
        "      kernel_size = k,\n",
        "      padding = p ,\n",
        "      strides = s,\n",
        "      kernel_initializer = initializer,\n",
        "  )(x)\n",
        "  x = layers.LeakyReLU()(x)\n",
        "  return x\n",
        "\n",
        "def conv_t(x, f, k, s, a, p , bn):\n",
        "  x = layers.Conv2DTranspose(\n",
        "      filters = f,\n",
        "      kernel_size = k,\n",
        "      padding = p,\n",
        "      strides = s,\n",
        "      kernel_initializer = initializer,\n",
        "  )(x)\n",
        "  if bn:\n",
        "    x = layers.BatchNormalization(momentum = 0.9)(x)\n",
        "\n",
        "  x = layers.Activation(a)(x)\n",
        "  return x\n",
        "\n"
      ],
      "metadata": {
        "id": "afwNI5IuDUj9"
      },
      "execution_count": null,
      "outputs": []
    },
    {
      "cell_type": "code",
      "source": [
        "def TemporalNetwork():\n",
        "  input_layer = layers.Input(shape = (Z_DIM,) , name = \"temporal_input\")\n",
        "  x = layers.Reshape([1,1,Z_DIM])(input_layer)\n",
        "  x = conv_t(x, f = 1024 , k=(2,1), s = (1,1) , a = \"relu\" , p = \"valid\" , bn = True)\n",
        "  x = conv_t(\n",
        "      x ,f = Z_DIM, k = (N_BARS - 1, 1), s = (1,1) , a = \"relu\" , p = \"valid\" , bn = True\n",
        "  )\n",
        "  output_layer = layers.Reshape([N_BARS, Z_DIM])(x)\n",
        "  return models.Model(input_layer, output_layer)\n",
        "\n",
        "TemporalNetwork().summary()"
      ],
      "metadata": {
        "id": "nvQDDcAIFJvK"
      },
      "execution_count": null,
      "outputs": []
    },
    {
      "cell_type": "code",
      "source": [
        "def BarGenerator():\n",
        "  input_layer = layers.Input(shape=(Z_DIM * 4, ), name = \"bar_generator_input\")\n",
        "\n",
        "  x = layers.Dense(1024)(input_layer)\n",
        "  x = layers.BatchNormalization(momentum = 0.9)(x)\n",
        "  x = layers.Activation(\"relu\")(x)\n",
        "  x = layers.Reshape([2, 1 , 512])(x)\n",
        "\n",
        "  x = conv_t(x , f = 512, k=(2,1) , s = (2,1) , a = \"relu\" , p = \"same\" , bn = True)\n",
        "  x = conv_t(x , f = 256 , k=(2,1), s = (2,1), a = \"relu\", p = \"same\", bn = True)\n",
        "  x = conv_t(x, f = 256 , k = (2,1) , s = (2,1) , a = \"relu\" , p = \"same\" , bn = True)\n",
        "  x = conv_t(x , f = 256 , k = (1,7), s= (1,7), a = \"relu\" , p =\"same\" , bn = True)\n",
        "  x = conv_t(x , f= 1 , k=(1,12) , s = (1,12) , a = \"tanh\" , p = \"same\" , bn = False)\n",
        "\n",
        "  output_layer = layers.Reshape([1, N_STEPS_PER_BAR, N_PITCHES, 1])(x)\n",
        "\n",
        "  return models.Model(input_layer, output_layer)\n",
        "\n",
        "BarGenerator().summary()"
      ],
      "metadata": {
        "id": "stFPmksfGJ5t"
      },
      "execution_count": null,
      "outputs": []
    },
    {
      "cell_type": "code",
      "source": [
        "def Generator():\n",
        "  chords_input = layers.Input(shape = (Z_DIM , ), name=\"chords_input\")\n",
        "  style_input = layers.Input(shape = (Z_DIM , ), name = \"style_input\")\n",
        "  melody_input = layers.Input(shape = (N_TRACKS , Z_DIM ), name = \"melody_input\" )\n",
        "  groove_input = layers.Input(shape = (N_TRACKS, Z_DIM ), name = \"groove_input\")\n",
        "\n",
        "  #CHORDS -> TEMPORAL NETWORK\n",
        "  chords_tempNetwork = TemporalNetwork()\n",
        "  chords_over_time = chords_tempNetwork(chords_input) #\n",
        "\n",
        "  #MELODY -> TEMPORAL NETWORK\n",
        "  melody_over_time = [\n",
        "      None\n",
        "  ] * N_TRACKS\n",
        "  melody_tempNetwork = [None] * N_TRACKS\n",
        "  for track in range(N_TRACKS):\n",
        "    melody_tempNetwork[track] = TemporalNetwork()\n",
        "    melody_track = layers.Lambda(lambda x, track = track : x[:, track, :])(\n",
        "        melody_input\n",
        "    )\n",
        "    melody_over_time[track] = melody_tempNetwork[track](melody_track)"
      ],
      "metadata": {
        "id": "LaTaUfLXHsNj"
      },
      "execution_count": null,
      "outputs": []
    }
  ]
}