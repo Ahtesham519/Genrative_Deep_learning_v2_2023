{
  "nbformat": 4,
  "nbformat_minor": 0,
  "metadata": {
    "colab": {
      "provenance": [],
      "authorship_tag": "ABX9TyMYCKIo3NLrt6joAaXfwNHE",
      "include_colab_link": true
    },
    "kernelspec": {
      "name": "python3",
      "display_name": "Python 3"
    },
    "language_info": {
      "name": "python"
    }
  },
  "cells": [
    {
      "cell_type": "markdown",
      "metadata": {
        "id": "view-in-github",
        "colab_type": "text"
      },
      "source": [
        "<a href=\"https://colab.research.google.com/github/Ahtesham519/Genrative_Deep_learning_v2_2023/blob/main/Musegan_2.ipynb\" target=\"_parent\"><img src=\"https://colab.research.google.com/assets/colab-badge.svg\" alt=\"Open In Colab\"/></a>"
      ]
    },
    {
      "cell_type": "code",
      "execution_count": null,
      "metadata": {
        "id": "ySOiFnVbAp0E"
      },
      "outputs": [],
      "source": [
        "%load_ext autoreload\n",
        "%autoreload 2\n",
        "\n",
        "import numpy as np\n",
        "import matplotlib.pyplot as plt\n",
        "\n",
        "plt.style.use(\"seaborn-v0_8-colorblind\")\n",
        "\n",
        "import os\n",
        "import tensorflow as tf\n",
        "from tensorflow.keras import (\n",
        "    layers,\n",
        "    models,\n",
        "    optimizers,\n",
        "    callbacks,\n",
        "    initializers,\n",
        "    metrics,\n",
        ")\n"
      ]
    },
    {
      "cell_type": "markdown",
      "source": [
        "#0.Parameters"
      ],
      "metadata": {
        "id": "t02oP9AgBJ9R"
      }
    },
    {
      "cell_type": "code",
      "source": [
        "BATCH_SIZE = 64\n",
        "\n",
        "N_BARS = 2\n",
        "N_STEPS_PER_BAR = 16\n",
        "MAX_PITCH = 83\n",
        "N_PITCHES = MAX_PITCH + 1\n",
        "Z_DIM = 32\n",
        "\n",
        "CRITIC_STEPS = 5\n",
        "GP_WEIGHT = 10\n",
        "CRITIC_LEARNING_RATE = 0.001\n",
        "GENERATOR_LEARNING_RATE = 0.001\n",
        "ADAM_BETA_1 = 0.5\n",
        "ADAM_BETA_2 = 0.9\n",
        "EPOCHS = 6000\n",
        "LOAD_MODEL = False\n"
      ],
      "metadata": {
        "id": "PbCK1dQaBIr1"
      },
      "execution_count": null,
      "outputs": []
    },
    {
      "cell_type": "markdown",
      "source": [
        "#1. Prepare the Data"
      ],
      "metadata": {
        "id": "L-ohNtTOBsLB"
      }
    },
    {
      "cell_type": "code",
      "source": [
        "#Load the data\n",
        "file = os.path.join(\"/app/data/bach-chorales/Jsb16thSeparated.npz\")\n",
        "with np.load(file, encoding = \"bytes\" , allow_pickle = True) as f:\n",
        "  data = f[\"train\"]"
      ],
      "metadata": {
        "id": "9JFPopLtBqz0"
      },
      "execution_count": null,
      "outputs": []
    },
    {
      "cell_type": "code",
      "source": [
        "N_SONGS = len(data)\n",
        "print(f\"{N_SONGS} chorales in the dataset\")\n",
        "chorale = data[0]\n",
        "N_BEATS , N_TRACKS = chorale.shape\n",
        "print(f\"{N_BEATS, N_TRACKS} shape of chorale 0\")\n",
        "print(\"\\nChorale 0\")\n",
        "print(chorale[:8])"
      ],
      "metadata": {
        "id": "le5AJ9DKCEjh"
      },
      "execution_count": null,
      "outputs": []
    },
    {
      "cell_type": "code",
      "source": [
        "two_bars = np.array([x[:(N_STEPS_PER_BAR * N_BARS)] for x in data])\n",
        "two_bars = np.array(np.nan_to_num(two_bars, nan = MAX_PITCH) , dtype = int)\n",
        "two_bars = two_bars.reshape([N_SONGS , N_BARS, N_STEPS_PER_BAR, N_TRACKS])\n",
        "print(f\"Two bars shape {two_bars.shape}\")"
      ],
      "metadata": {
        "id": "nTeXb5CFCeX8"
      },
      "execution_count": null,
      "outputs": []
    },
    {
      "cell_type": "code",
      "source": [
        "data_binary = np.eye(N_PITCHES)[two_bars]\n",
        "data_binary[data_binary == 0] = -1\n",
        "data_binary = data_binary.transpose([0,1,2,4,3])\n",
        "print(f\"Data binary shape{data_binary.shape}\")"
      ],
      "metadata": {
        "id": "ReJ84IEJComX"
      },
      "execution_count": null,
      "outputs": []
    },
    {
      "cell_type": "markdown",
      "source": [
        "#2. Build the GAN"
      ],
      "metadata": {
        "id": "5-wcTRGFDVaX"
      }
    },
    {
      "cell_type": "code",
      "source": [
        "#Some helper function\n",
        "\n",
        "initializer = initializers.RandomNormal(mean = 0.0 , stddev = 0.02)\n",
        "\n",
        "def conv(x, f , k , s, p):\n",
        "  x = layers.Conv3D(\n",
        "      filters = f,\n",
        "      kernel_size = k,\n",
        "      padding = p ,\n",
        "      strides = s,\n",
        "      kernel_initializer = initializer,\n",
        "  )(x)\n",
        "  x = layers.LeakyReLU()(x)\n",
        "  return x\n",
        "\n",
        "def conv_t(x, f, k, s, a, p , bn):\n",
        "  x = layers.Conv2DTranspose(\n",
        "      filters = f,\n",
        "      kernel_size = k,\n",
        "      padding = p,\n",
        "      strides = s,\n",
        "      kernel_initializer = initializer,\n",
        "  )(x)\n",
        "  if bn:\n",
        "    x = layers.BatchNormalization(momentum = 0.9)(x)\n",
        "\n",
        "  x = layers.Activation(a)(x)\n",
        "  return x\n",
        "\n"
      ],
      "metadata": {
        "id": "afwNI5IuDUj9"
      },
      "execution_count": null,
      "outputs": []
    },
    {
      "cell_type": "code",
      "source": [
        "def TemporalNetwork():\n",
        "  input_layer = layers.Input(shape = (Z_DIM,) , name = \"temporal_input\")\n",
        "  x = layers.Reshape([1,1,Z_DIM])(input_layer)\n",
        "  x = conv_t(x, f = 1024 , k=(2,1), s = (1,1) , a = \"relu\" , p = \"valid\" , bn = True)\n",
        "  x = conv_t(\n",
        "      x ,f = Z_DIM, k = (N_BARS - 1, 1), s = (1,1) , a = \"relu\" , p = \"valid\" , bn = True\n",
        "  )\n",
        "  output_layer = layers.Reshape([N_BARS, Z_DIM])(x)\n",
        "  return models.Model(input_layer, output_layer)\n",
        "\n",
        "TemporalNetwork().summary()"
      ],
      "metadata": {
        "id": "nvQDDcAIFJvK"
      },
      "execution_count": null,
      "outputs": []
    },
    {
      "cell_type": "code",
      "source": [
        "def BarGenerator():\n",
        "  input_layer = layers.Input(shape=(Z_DIM * 4, ), name = \"bar_generator_input\")\n",
        "\n",
        "  x = layers.Dense(1024)(input_layer)\n",
        "  x = layers.BatchNormalization(momentum = 0.9)(x)\n",
        "  x = layers.Activation(\"relu\")(x)\n",
        "  x = layers.Reshape([2, 1 , 512])(x)\n",
        "\n",
        "  x = conv_t(x , f = 512, k=(2,1) , s = (2,1) , a = \"relu\" , p = \"same\" , bn = True)\n",
        "  x = conv_t(x , f = 256 , k=(2,1), s = (2,1), a = \"relu\", p = \"same\", bn = True)\n",
        "  x = conv_t(x, f = 256 , k = (2,1) , s = (2,1) , a = \"relu\" , p = \"same\" , bn = True)\n",
        "  x = conv_t(x , f = 256 , k = (1,7), s= (1,7), a = \"relu\" , p =\"same\" , bn = True)\n",
        "  x = conv_t(x , f= 1 , k=(1,12) , s = (1,12) , a = \"tanh\" , p = \"same\" , bn = False)\n",
        "\n",
        "  output_layer = layers.Reshape([1, N_STEPS_PER_BAR, N_PITCHES, 1])(x)\n",
        "\n",
        "  return models.Model(input_layer, output_layer)\n",
        "\n",
        "BarGenerator().summary()"
      ],
      "metadata": {
        "id": "stFPmksfGJ5t"
      },
      "execution_count": null,
      "outputs": []
    },
    {
      "cell_type": "code",
      "source": [
        "def Generator():\n",
        "  chords_input = layers.Input(shape = (Z_DIM , ), name=\"chords_input\")\n",
        "  style_input = layers.Input(shape = (Z_DIM , ), name = \"style_input\")\n",
        "  melody_input = layers.Input(shape = (N_TRACKS , Z_DIM ), name = \"melody_input\" )\n",
        "  groove_input = layers.Input(shape = (N_TRACKS, Z_DIM ), name = \"groove_input\")\n",
        "\n",
        "  #CHORDS -> TEMPORAL NETWORK\n",
        "  chords_tempNetwork = TemporalNetwork()\n",
        "  chords_over_time = chords_tempNetwork(chords_input) #\n",
        "\n",
        "  #MELODY -> TEMPORAL NETWORK\n",
        "  melody_over_time = [\n",
        "      None\n",
        "  ] * N_TRACKS\n",
        "  melody_tempNetwork = [None] * N_TRACKS\n",
        "  for track in range(N_TRACKS):\n",
        "    melody_tempNetwork[track] = TemporalNetwork()\n",
        "    melody_track = layers.Lambda(lambda x, track = track : x[:, track, :])(\n",
        "        melody_input\n",
        "    )\n",
        "    melody_over_time[track] = melody_tempNetwork[track](melody_track)\n",
        "\n",
        "  #create BAR Genrator for each Track\n",
        "  barGen = [None] * N_TRACKS\n",
        "  for track in range(N_TRACKS):\n",
        "    barGen[track] = BarGenerator()\n",
        "\n",
        "  #Create output for every track and bar\n",
        "  bars_output = [None] * N_BARS\n",
        "  c = [None] * N_BARS\n",
        "  for bar in range(N_BARS):\n",
        "    track_output = [None] * N_TRACKS\n",
        "\n",
        "    c[bar] = layers.Lambda(lambda x, bar = bar: x[:, bar , :])(\n",
        "        chords_over_time\n",
        "    )\n",
        "    s = style_input\n",
        "\n",
        "    for track in range(N_TRACKS):\n",
        "      m = layers.Lambda(lambda x, bar = bar: x[:, bar , :])(\n",
        "          melody_over_time[track]\n",
        "      )\n",
        "      g = layers.Lambda(lambda x, track = track: x[:, track , :])(\n",
        "          groove_input\n",
        "      )\n",
        "\n",
        "      z_input = layers.Concatenate(\n",
        "          axis = 1, name =\"total_input_bar_{}_track_{}\".format(bar, track)\n",
        "   )([c[bar], s, m, g])\n",
        "\n",
        "   track_output[track] = barGen[track](z_input)\n",
        "\n",
        "  bars_output[bar] = layers.Concatenate(axis = -1)(track_output)\n",
        "\n",
        "  generator_output = layers.Concatenate(axis = 1, name = \"concat_bars\")(\n",
        "      bars_output\n",
        "  )\n",
        "  return models.Model(\n",
        "     [chords_input, style_input, melody_input, groove_input],\n",
        "     generator_output,\n",
        "  )\n",
        "\n",
        "  generator = Generator()\n"
      ],
      "metadata": {
        "id": "LaTaUfLXHsNj"
      },
      "execution_count": null,
      "outputs": []
    },
    {
      "cell_type": "code",
      "source": [
        "def Critic():\n",
        "  critic_input = layers.Input(\n",
        "      shape = (N_BARS, N_STEPS_PER_BAR , N_PITCHES, N_TRACKS),\n",
        "      name = \"critic_input\",\n",
        "  )\n",
        "\n",
        "  x = critic_input\n",
        "\n",
        "  x = conv(x, f = 128, k = (2,1,1), s = (1,1,1) , p = \"valid\")\n",
        "  x = conv(x, f = 128, k = (N_BARS - 1,1,1), s = (1,1,1) , p = \"valid\")\n",
        "  x = conv(x, f = 128, k = (1,1,12), s = (1,1,12) , p = \"same\")\n",
        "  x = conv(x, f = 128, k = (1,1,7) , s = (1,1,7) , p = \"same\")\n",
        "  x = conv(x, f = 128, k = (1,2,1) , s = (1,2,1) , p = \"same\")\n",
        "  x = conv(x, f = 128, k = (1,2,1) , s = (1,2,1) , p = \"same\")\n",
        "  x = conv(x, f = 256, k = (1,4,1) , s = (1,2,1) , p = \"same\")\n",
        "  x = conv(x, f= 512 , k = (1,3,1),  s = (1,2,1), p = \"same\")\n",
        "\n",
        "  x = layers.Flatten()(x)\n",
        "\n",
        "  x = layers.Dense(1024, kernel_initializer = initializer)(x)\n",
        "  x = layers.LeakyReLU()(x)\n",
        "\n",
        "  critic_output = layers.Dense(\n",
        "      1, activation = None, kernel_initializer = initializer\n",
        "  )(x)\n",
        "\n",
        "  return models.Model(critic_input, critic_output)\n",
        "\n",
        "critic = Critic()\n",
        "\n"
      ],
      "metadata": {
        "id": "ugm2oBLaARwJ"
      },
      "execution_count": null,
      "outputs": []
    },
    {
      "cell_type": "code",
      "source": [
        "class MuseGAN(models.Model):\n",
        "  def __init__(self.critic, generator, latent_dim  , critic_steps, gp_weight):\n",
        "    super(MuseGAN, self).__init__()\n",
        "    self.critic = critic\n",
        "    self.generator = generator\n",
        "    self.latent_dim = latent_dim\n",
        "    self.critic_steps = critic_steps\n",
        "    self.gp_weight = gp_weight\n",
        "\n",
        "  def compile(self, c_optimizer, g_optimizer):\n",
        "    super(MuseGAN, self).compile()\n",
        "    self.c_optimizer = c_optimizer\n",
        "    self.g_optimizer = g_optimizer\n",
        "    self.c_wass_loss_metric = metrics.Mean(name = \"c_wass_loss\")\n",
        "    self.c_gp_metric = metrics.Mean(name = \"c_gp\")\n",
        "    self.c_loss_metric = metrics_Mean(name = \"c_loss\")\n",
        "    self.g_loss_metric = metrics.Mean(name = \"g_loss\")\n",
        "\n",
        "  @property\n",
        "  def metrics(self):\n",
        "    return[\n",
        "        self.c_loss_metric,\n",
        "        self.c_wass_loss_metric,\n",
        "        self.c_gp_metric,\n",
        "        self.g_loss_metric,\n",
        "    ]\n",
        "\n",
        "  def gradient_penalty(self, batch_size , real_images, fake_images):\n",
        "    alpha = tf.random.normal([batch_size, 1, 1,1,1], 0.0 , 1.0)\n",
        "    diff = fake_images - real_images\n",
        "    interpolated = real_images + alpha * diff\n",
        "\n",
        "    with tf.GradientTape() as gp_tape:\n",
        "      gp_tape.watch(interpolated)\n",
        "      pred = self.critic(interpolated, training = True)\n",
        "\n",
        "    grads = gp_tape.gradient(pred, [interpolated])[0]\n",
        "    norm = tf.sqrt(tf.reduce_sum(tf.square(grads) , axis = [1,2,3]))\n",
        "    gp = tf.reduce_mean((norm - 1.0) ** 2)\n",
        "    return gp\n",
        "\n",
        "  def train_step(self, real_images):\n",
        "    batch_size = tf.shape(real_images)[0]\n",
        "\n",
        "    for i in range(self.critic_steps):\n",
        "      chords_random_latent_vectors = tf.random.normal(\n",
        "          shape = (batch_size , self.latent_dim)\n",
        "      )\n",
        "      style_random_latent_vectors = tf.random.normal(\n",
        "          shape = (batch_size , self.latent_dim)\n",
        "      )\n",
        "      melody_random_latent_vectors = tf.random.normal(\n",
        "          shape = (batch_size , N_TRACKS, self.latent_dim)\n",
        "      )\n",
        "      groove_random_latent_vectors = tf.random.noraml(\n",
        "          shape = (batch_size , N_TRACKS , self.latent_dim)\n",
        "      )\n",
        "\n",
        "      random_latent_vectors = [\n",
        "          chords_random_latent_vectors,\n",
        "          style_random_latent_vectors,\n",
        "          melody_random_latent_vectors,\n",
        "          groove_random_latent_vectors,\n",
        "      ]\n",
        "\n",
        "      with tf.GradientTape() as tape:\n",
        "        fake_images = self.generator(\n",
        "            random_latent_vectors, training = True\n",
        "        )\n",
        "        fake_predictions = self.critic(fake_images , training = True)\n",
        "        real_predictions = self.critic(real_images , training = True)\n",
        "\n",
        "        c_wass_loss = tf.reduce_mean(fake_predictions) - tf.reduce_mean(\n",
        "            real_predictions\n",
        "        )\n",
        "        c_gp = self.gradient_penalty(\n",
        "            batch_size , real_images, fake_images\n",
        "        )\n",
        "        c_loss = c_wass_loss + c_gp * self.gp_weight\n",
        "\n",
        "      c_gradient = tape.gradient(c_loss , self.critic.trainable_variables)\n",
        "      self.c_optimizer.apply_gradients(\n",
        "          zip(c_gradient, self.critic.trainable_variables)\n",
        "      )\n",
        "    chords_random_latent_vectors = tf.random.noraml(\n",
        "        shape = (batch_size , self.latent_dim)\n",
        "    )\n",
        "    style_random_latent_vectors = tf.random.normal(\n",
        "        shape = (batch_size , self.latent_dim)\n",
        "    )\n",
        "    melody_random_latent_vectors = tf.random.normal(\n",
        "        shape = (batch_size , N_TRACKS , self.latent_dim)\n",
        "    )\n",
        "    groove_random_latent_vectors = tf.random.normal(\n",
        "        shape = (batch_size , N_TRACKS , self.latent_dim)\n",
        "    )\n",
        "\n",
        "    random_latent_vectors = [\n",
        "        chords_random_latent_vectors,\n",
        "        style_random_latent_vectors,\n",
        "        melody_random_latent_vectors,\n",
        "        groove_random_latent_vectors,\n",
        "    ]\n",
        "\n",
        "    with tf.GradientTape() as tape:\n",
        "      fake_images = self.generator(random_latent_vectors, training = True)\n",
        "      fake_predictions = self.critic(fake_images , training = True)\n",
        "      g_loss = -tf.reduce_mean(fake_predictions)\n",
        "\n",
        "    ge_gradient = tape.gradient(g_loss, self.generator.trainable_variables)\n",
        "    self.g_optimizer.apply_gradients(\n",
        "        zip(gen_gradient, self.generator.trainable_variables)\n",
        "    )\n",
        "\n",
        "    self.c_loss_metric.update_state(c_loss)\n",
        "    self.c_wass_loss_metric.update_state(c_wass_loss)\n",
        "    self.c_gp_metric.update_state(c_gp)\n",
        "    self.g_loss_metric.update_state(g_loss)\n",
        "\n",
        "    return {m.name : m.result() for m in self.metrics}\n",
        "\n",
        "  def generate_piane_roll(self. num_scores):\n",
        "    chords_random_latent_vectors = tf.random.noraml(\n",
        "        shape = (num_scores, Z_DIM)\n",
        "    )\n",
        "    style_random_latent_vectors = tf.random.normal(\n",
        "        shape = (num_scores, Z_DIM)\n",
        "    )\n",
        "    melody_random_latent_vectors = tf.random.normal(\n",
        "        shape = (num_scores, N_TRACKS , Z_DIM)\n",
        "    )\n",
        "    groove_random_latent_vectors = tf.random.normal(\n",
        "        shape = (num_scores, N_TRACKS , Z_DIM)\n",
        "    )"
      ],
      "metadata": {
        "id": "TMx24Ss1CETi"
      },
      "execution_count": null,
      "outputs": []
    }
  ]
}