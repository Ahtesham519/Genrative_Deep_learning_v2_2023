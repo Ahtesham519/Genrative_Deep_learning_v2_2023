{
  "nbformat": 4,
  "nbformat_minor": 0,
  "metadata": {
    "colab": {
      "provenance": [],
      "authorship_tag": "ABX9TyM/J1hQuzclDJbsokczC7tv",
      "include_colab_link": true
    },
    "kernelspec": {
      "name": "python3",
      "display_name": "Python 3"
    },
    "language_info": {
      "name": "python"
    }
  },
  "cells": [
    {
      "cell_type": "markdown",
      "metadata": {
        "id": "view-in-github",
        "colab_type": "text"
      },
      "source": [
        "<a href=\"https://colab.research.google.com/github/Ahtesham519/Genrative_Deep_learning_v2_2023/blob/main/Music21_2.ipynb\" target=\"_parent\"><img src=\"https://colab.research.google.com/assets/colab-badge.svg\" alt=\"Open In Colab\"/></a>"
      ]
    },
    {
      "cell_type": "code",
      "execution_count": null,
      "metadata": {
        "id": "DYyhOgTbyi5T"
      },
      "outputs": [],
      "source": [
        "import music21\n",
        "import numpy as np\n",
        "from matplotlib import pyplot as plt\n",
        "\n"
      ]
    },
    {
      "cell_type": "code",
      "source": [
        "def binarise_output(output):\n",
        "  max_pitched = np.argmax(output, axis = 3)\n",
        "  return max_pitches"
      ],
      "metadata": {
        "id": "sveFQaX7yrwN"
      },
      "execution_count": null,
      "outputs": []
    },
    {
      "cell_type": "code",
      "source": [
        "def notes_to_midi(output , n_bars, n_tracks , n_steps_per_bar , filename):\n",
        "  for score_num in range(len(output)):\n",
        "    max_pitches = binarise_output(output)\n",
        "    midi_note_score = max_pitches[score_num].reshape(\n",
        "        [n_bars * n_steps_per_bar , n_tracks]\n",
        "    )\n",
        "    parts = music21.stream.Score()\n",
        "    parts.append(music21.tempo.MetronomeMark(number = 66))\n",
        "    for i in range(n_tracks):\n",
        "      last_x = int(midi_note_score[:, i][0])\n",
        "      s = music21.stream.Part()\n",
        "      dur = 0\n",
        "      for idx, x in enumerate(midi_note_score[:, i]):\n",
        "        x = int(x)\n",
        "        if (x != last_x or idx % 4==0) and idx > 0:\n",
        "          n = music21.note.Note(last_x)\n",
        "          n.duration = music21.duration.Duration(dur)\n",
        "          s.append(n)\n",
        "          dur = 0\n",
        "        last_x = x\n",
        "        dur = dur + 0.25\n",
        "\n",
        "      n = music21.note.Note(last_x)\n",
        "      n.duration = music21.duration.Duration(dur)\n",
        "      s.append(n)\n",
        "      parts.append(s)\n",
        "    parts.write(\n",
        "        \"midi\" , fp=\"./output/{}_{}.midi\".format(filename,score_num)\n",
        "    )\n",
        "\n",
        "def draw_bar(data, score_num , bar , part):\n",
        "  plt.imshow(\n",
        "      data[score_num, bar , : , : part].transpose([1,0]),\n",
        "      origin = \"lower\",\n",
        "      cmap = \"Greys\",\n",
        "      vmin = -1,\n",
        "      vmax = 1,\n",
        "  )\n",
        "\n",
        "def draw_score(data , score_num):\n",
        "  n_bars = data.shape[1]\n",
        "  n_tracks = data.shape[-1]\n",
        "\n",
        "  fig , axes = plt.subplots(\n",
        "      ncols = n_bars, nrows = n_tracks, figsize = (12,8) , sharey = True, sharex = True\n",
        "  )\n",
        "  fig.subplots_adjust(0,0,0.2, 1.5, 0, 0)\n",
        "\n",
        "  for bar in range(n_bars):\n",
        "    for track in range(n_tracks):\n",
        "      if n_bars > 1:\n",
        "        axes[track, bar].imshow(\n",
        "            data[score_num, bar, : , : ,track].transpose([1,0]),\n",
        "            origin = \"lower\",\n",
        "            cmap =\"Greys\",\n",
        "        )\n",
        "        else:\n",
        "          axes[track].imshow(\n",
        "              data[score_num, bar ,: ,: ,track].transpose([1,0]),\n",
        "              origin = \"lower\",\n",
        "              cmap = \"Greys\",\n",
        "          )"
      ],
      "metadata": {
        "id": "eeqanXZjy7MF"
      },
      "execution_count": null,
      "outputs": []
    }
  ]
}