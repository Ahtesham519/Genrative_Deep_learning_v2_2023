{
  "nbformat": 4,
  "nbformat_minor": 0,
  "metadata": {
    "colab": {
      "provenance": [],
      "authorship_tag": "ABX9TyP5Nm8N5jVkBRbZQRTC5aRt",
      "include_colab_link": true
    },
    "kernelspec": {
      "name": "python3",
      "display_name": "Python 3"
    },
    "language_info": {
      "name": "python"
    }
  },
  "cells": [
    {
      "cell_type": "markdown",
      "metadata": {
        "id": "view-in-github",
        "colab_type": "text"
      },
      "source": [
        "<a href=\"https://colab.research.google.com/github/Ahtesham519/Genrative_Deep_learning_v2_2023/blob/main/PIXEL_CNN_45.ipynb\" target=\"_parent\"><img src=\"https://colab.research.google.com/assets/colab-badge.svg\" alt=\"Open In Colab\"/></a>"
      ]
    },
    {
      "cell_type": "code",
      "execution_count": null,
      "metadata": {
        "id": "RggcKIhCb3Nb"
      },
      "outputs": [],
      "source": [
        "%load_ext autoreload\n",
        "%autoreload 2\n",
        "import numpy as np\n",
        "\n",
        "import tensorflow as tf\n",
        "from tensorflow.keras import datasets, layers , models, optimizers, callbacks"
      ]
    },
    {
      "cell_type": "markdown",
      "source": [
        "#0. Parameters"
      ],
      "metadata": {
        "id": "_hDUAj2icJk_"
      }
    },
    {
      "cell_type": "code",
      "source": [
        "IMAGE_SIZE = 16\n",
        "PIXEL_LEVELS = 4\n",
        "N_FILTERS = 128\n",
        "RESIDUAL_BLOCKS = 5\n",
        "BATCH_SIZE = 128\n",
        "EPOCHS = 150"
      ],
      "metadata": {
        "id": "NfQdxM7ocIkI"
      },
      "execution_count": null,
      "outputs": []
    },
    {
      "cell_type": "markdown",
      "source": [
        "# 1 . Prepare the data"
      ],
      "metadata": {
        "id": "CxI74Oi_cVIV"
      }
    },
    {
      "cell_type": "code",
      "source": [
        "#Load the data\n",
        "(x_train, _ ) , (_ , _) = datasets.fashion_mnist.load_data()"
      ],
      "metadata": {
        "id": "hgM7koQwcT2i"
      },
      "execution_count": null,
      "outputs": []
    },
    {
      "cell_type": "code",
      "source": [
        "#Prepare the data\n",
        "def preprocess(imgs_int):\n",
        "  imgs_int = np.expand_dims(imgs_int, -1)\n",
        "  imgs_int = tf.image.resize(imgs_int, (IMAGE_SIZE , IMAGE_SIZE)).numpy()\n",
        "  imgs_int = (imgs_int / (256 / PIXEL_LEVELS)).astype(int)\n",
        "  imgs = imgs_int.astype(\"float32\")\n",
        "  imgs = imgs / PIXEL_LEVELS\n",
        "  return imgs, imgs_int\n",
        "\n",
        "input_data, output_data = preprocess(x_train)\n"
      ],
      "metadata": {
        "id": "ypvVhEoKcdK3"
      },
      "execution_count": null,
      "outputs": []
    },
    {
      "cell_type": "markdown",
      "source": [
        "#2. Bulid the PixelCNN"
      ],
      "metadata": {
        "id": "26m21QX1dTfr"
      }
    },
    {
      "cell_type": "code",
      "source": [
        "#the first layer is the PizelCNN layer, this layer simply\n",
        "#builfs on the 2D convilutional layer  , but includes masking.\n",
        "class MaskedConv2D(layers.Layer):\n",
        "  def __init__(self, mask_type , ** kwargs):\n",
        "    super(MaskedConv2D , self).__init()\n",
        "    self.mask_type = mask_type\n",
        "    self.conv = layers.Conv2D(**kwargs)\n",
        "\n",
        "  def bulid(self, input_shape):\n",
        "    #Bulid the conv2d layer to initialize kernel varaibles\n",
        "    self.conv.bulid(input_shape)\n",
        "    #use the initialized kernel to create the mask\n",
        "    kernel_shape = self.conv.kernel.get_shape()\n",
        "    self.mask = np.zeros(shape = kernel_shape)\n",
        "    self.mask[:kernel_shape[0] // 2, ...] = 1.0\n",
        "    self.mask[kernel_shape[0] // 2, : kernel_shape[1] // 2, ...] = 1.0\n",
        "    if self.mask_type == \"B\":\n",
        "      self.mask[kernel_shape[0] // 2, kernel_shape[1] // 2, ...] = 1.0\n",
        "\n",
        "  def call(self, inputs):\n",
        "    self.conv.kernel.assign(self.conv.kernel * self.mask)\n",
        "    return self.conv(inputs)\n",
        "\n",
        "  def get_config(self):\n",
        "    cfg = super().get_config()\n",
        "    return cfg\n"
      ],
      "metadata": {
        "id": "ovFmkFVidRlH"
      },
      "execution_count": null,
      "outputs": []
    },
    {
      "cell_type": "code",
      "source": [
        "class ResidualBlock(layers.Layer):\n",
        "  def __init__(self, filters, **kwargs):\n",
        "    super(ResidualBlock, self).__init__(**kwargs)\n",
        "    self.conv1 = layers.Conv2D(\n",
        "        filters = filters // 2, kernel_size = 1,  activation = \"relu\"\n",
        "        )\n",
        "        self.pixel_conv = MaskedConv2D(\n",
        "            mask_type = \"B\",\n",
        "            filters = filters // 2,\n",
        "            kernel_size = 3,\n",
        "            activation = \"relu\",\n",
        "            padding = \"same\",\n",
        "        )\n",
        "        self.conv2 = layers.Conv2D(\n",
        "            fitlers = filters, kernel_size =1 , activation = \"relu\"\n",
        "        )\n",
        "\n",
        "  def call(self, inputs):\n",
        "    x = self.conv1(inputs)\n",
        "    x = self.pixel_conv(x)\n",
        "    x = self.conv2(x)\n",
        "    return layers.add([inputs, x])\n",
        "\n",
        "  def get_config(self):\n",
        "    cfg = super().get_config()\n",
        "    return cfg\n",
        "\n",
        ""
      ],
      "metadata": {
        "id": "36F0I760fFRH"
      },
      "execution_count": null,
      "outputs": []
    },
    {
      "cell_type": "code",
      "source": [
        "inputs = layers.Input(shape = (IMAGE_SIZE , IMAGE_SIZE, 1))\n",
        "x = MaskedConv2D(\n",
        "    mask_type = \"A\",\n",
        "    filters = N_FILTERS,\n",
        "    kernel_size = 7,\n",
        "    activation = \"relu\",\n",
        "    padding = \"same\",\n",
        ")(inputs)\n",
        "\n",
        "for _ in range(RESIDUAL_BLOCKS):\n",
        "  x = ResidualBlock(filters = N_FILTERS)(x)\n",
        "\n",
        "\n",
        "for _ in range(2):\n",
        "  x = MaskedConv2D(\n",
        "      mask_type = \"B\",\n",
        "      filters = N_FILTERS ,\n",
        "      kernel_size = 1,\n",
        "      strides = 1,\n",
        "      activation = \"relu\",\n",
        "      padding = \"valid\",\n",
        "  )(x)\n",
        "\n",
        "out = layers.Conv2D(\n",
        "    filters = PIXEL_LEVELS ,\n",
        "    kernel_size = 1,\n",
        "    strides = 1,\n",
        "    activation = \"softmax\",\n",
        "    padding = \"valid\",\n",
        ")(x)\n",
        "\n",
        "pixel_cnn = models.Model(inputs , out)\n",
        "pixel_cnn.summary()"
      ],
      "metadata": {
        "id": "Kfo9X92Gf9sY"
      },
      "execution_count": null,
      "outputs": []
    },
    {
      "cell_type": "markdown",
      "source": [
        "#3. Train the PixelCNN"
      ],
      "metadata": {
        "id": "7yHPzZ_3hXwS"
      }
    },
    {
      "cell_type": "code",
      "source": [
        "adam = optimizers.Adam(learning_rate = 0.0005)\n",
        "pixel_cnn.compile(optimizer = adam , loss = \"sparse_categorical_crossentropy\")\n"
      ],
      "metadata": {
        "id": "FLYkYLIXhUNF"
      },
      "execution_count": null,
      "outputs": []
    },
    {
      "cell_type": "code",
      "source": [
        "tensorboard_callback = callbacks.TensorBoard(log_dir = \"./logs\")\n",
        "\n",
        "class ImageGenerator(callbacks.Callback):\n",
        "  def __init__ (self, num_img):\n",
        "    self.num_img = num_img\n",
        "\n",
        "  def sample_from(self, temperature):\n",
        "    probs =  probs ** (1 / temperature)\n",
        "    probs = probs /np.sum(probs)\n",
        "    return np.random.choice(len(probs) , p = probs)\n",
        "\n",
        "  def generate(self, temperature):\n",
        "    generated_images = np.zeros(\n",
        "        shape= (self.num_img ,) + (pixel_cnn.input_shape)[1:]\n",
        "    )\n",
        "    batch, rows , cols , channels = generated_images.shape\n",
        "\n",
        "    for row in range(rows):\n",
        "      for col in range(cols):\n",
        "        for channel in range(channels):\n",
        "          probs = self.model.predict(generated_images , verbose = 0)[\n",
        "              :, row, col,:\n",
        "          ]\n",
        "          generated_images[: row , col , channel] = [\n",
        "              self. sample_from(x, temperature) for x in probs\n",
        "          ]\n",
        "          generated_images[:, row, col, channel] /= PIXEL_LEVELS\n",
        "\n",
        "    return generated_images\n",
        "\n",
        "\n",
        "  def on_epoch_end(self, epoch , logs = None):\n",
        "    generated_images = self.generate(temperature = 1.0)\n",
        "    display(\n",
        "        generateD_images ,\n",
        "        save_to = \"./output/generated_img_%03d.png\" % (epoch),\n",
        "    )\n",
        "\n",
        "img_generator_callback = ImageGenerator(num_img = 10)\n"
      ],
      "metadata": {
        "id": "1wWwe69ChkeQ"
      },
      "execution_count": null,
      "outputs": []
    },
    {
      "cell_type": "code",
      "source": [
        "pixel_cnn.fit(\n",
        "    input_data,\n",
        "    output_data,\n",
        "    batch_size = BATCH_SIZE ,\n",
        "    epochs = EPOCHS,\n",
        "    callbacks = [tensorboard_callback, img_generator_callback],\n",
        ")"
      ],
      "metadata": {
        "id": "LuNNyB7PjOkq"
      },
      "execution_count": null,
      "outputs": []
    },
    {
      "cell_type": "markdown",
      "source": [
        "#Generate images"
      ],
      "metadata": {
        "id": "Hu9RqiLdjy8A"
      }
    },
    {
      "cell_type": "code",
      "source": [
        "generated_images = img_generator_callback.generate(temperature = 1.0)\n"
      ],
      "metadata": {
        "id": "ZH5n1hRrjxof"
      },
      "execution_count": null,
      "outputs": []
    },
    {
      "cell_type": "code",
      "source": [
        "display(generated_images)"
      ],
      "metadata": {
        "id": "PKIDAPuQj482"
      },
      "execution_count": null,
      "outputs": []
    },
    {
      "cell_type": "code",
      "source": [],
      "metadata": {
        "id": "cF7Gwgvwj6j8"
      },
      "execution_count": null,
      "outputs": []
    }
  ]
}