{
  "nbformat": 4,
  "nbformat_minor": 0,
  "metadata": {
    "colab": {
      "provenance": [],
      "authorship_tag": "ABX9TyPUwiXnxkvWDpzKl9WsfRTS",
      "include_colab_link": true
    },
    "kernelspec": {
      "name": "python3",
      "display_name": "Python 3"
    },
    "language_info": {
      "name": "python"
    }
  },
  "cells": [
    {
      "cell_type": "markdown",
      "metadata": {
        "id": "view-in-github",
        "colab_type": "text"
      },
      "source": [
        "<a href=\"https://colab.research.google.com/github/Ahtesham519/Genrative_Deep_learning_v2_2023/blob/main/PIXEL_CNN_6.ipynb\" target=\"_parent\"><img src=\"https://colab.research.google.com/assets/colab-badge.svg\" alt=\"Open In Colab\"/></a>"
      ]
    },
    {
      "cell_type": "code",
      "execution_count": null,
      "metadata": {
        "id": "K260PrbpfxNE"
      },
      "outputs": [],
      "source": [
        "%load_ext autoreload\n",
        "%autoreload 2\n",
        "import numpy as np\n",
        "\n",
        "import tensorflow as tf\n",
        "from tensorflow.keras import datasets, layers, models, optimizers, callbacks"
      ]
    },
    {
      "cell_type": "markdown",
      "source": [
        "#0. Parameters"
      ],
      "metadata": {
        "id": "PQ9e6xPggGoJ"
      }
    },
    {
      "cell_type": "code",
      "source": [
        "IMAGE_SIZE = 16\n",
        "PIXEL_LEVELS = 4\n",
        "N_FILTERS = 128\n",
        "RESIDUAL_BLOCKS = 5\n",
        "BATCH_SIZE = 128\n",
        "EPOCHS = 150"
      ],
      "metadata": {
        "id": "I4HX5E0hgE2r"
      },
      "execution_count": null,
      "outputs": []
    },
    {
      "cell_type": "markdown",
      "source": [
        "#1. Prepare the data"
      ],
      "metadata": {
        "id": "DFgt_D-CgSeB"
      }
    },
    {
      "cell_type": "code",
      "source": [
        "#Load the data\n",
        "(x_train , _), (_,_) = datasets.fashion_mnist.load_data()"
      ],
      "metadata": {
        "id": "hAfQA3LxgRJS"
      },
      "execution_count": null,
      "outputs": []
    },
    {
      "cell_type": "code",
      "source": [
        "#Preprocess the data\n",
        "def preprocess(imgs_int):\n",
        "  imgs_int = np.expand_dims(imgs_int, -1)\n",
        "  imgs_int = tf.image.resize(imgs_int, (IMAGE_SIZE , IMAGE_SIZE)).numpy()\n",
        "  imgs_int = (imgs_int / (256 / PIXEL_LEVELS)).astype(int)\n",
        "  ings = imgs_int.astype(\"float32\")\n",
        "  imgs = imgs / PIXEL_LEVELS\n",
        "  return imgs, imgs_int\n",
        "\n",
        "input_data, output_data = preprocess(x_train)"
      ],
      "metadata": {
        "id": "Qww4qLTggeTB"
      },
      "execution_count": null,
      "outputs": []
    },
    {
      "cell_type": "code",
      "source": [
        "#Show some items of clothing from the training set\n"
      ],
      "metadata": {
        "id": "CMgVzEPgg_Ok"
      },
      "execution_count": null,
      "outputs": []
    },
    {
      "cell_type": "markdown",
      "source": [
        "#2. Bulid the PIXELCNN"
      ],
      "metadata": {
        "id": "PM6nW4GQhD5f"
      }
    },
    {
      "cell_type": "code",
      "source": [
        "#The first layer is the PixelCNN layer, this layer simpy\n",
        "#Builds on the convolutional layer , but includes masking\n",
        "\n",
        "class MaskedConv2D(layers.Layer):\n",
        "  def __init__(self, mask_type , **kwargs):\n",
        "    super(MaskedConv2D, self).__init__()\n",
        "    self.mask_type = mask_type\n",
        "    self.conv = layers.Conv2D(**kwargs)\n",
        "\n",
        "  def bulid(self, input_shape):\n",
        "    #Bulid the conv2d layer to initialize kernel variables\n",
        "    self.conv.bulid(input_shape)\n",
        "    #use the initialized kernel to create the mask\n",
        "    kernel_shape = self.conv.kernel.get_shape()\n",
        "    self.mask = np.zeros(shape = kernel_shape)\n",
        "    self.mask[:kernel_shape[0] // 2, ...] = 1.0\n",
        "    self.mask[kernel_shape[0] // 2, : kernel_shape[1] // 2, ...] = 1.0\n",
        "    if self.mask_type == \"B\":\n",
        "      self.mask[kernel_shape[0] // 2, kernel_shape[1] // 2, ...] = 1.0\n",
        "\n",
        "  def call(self,inputs):\n",
        "    self.conv.kernel.assign(self.conv.kernel * self.mask)\n",
        "    return self.conv(inputs)\n",
        "\n",
        "  def get_config(self):\n",
        "    cfg = super().get_config()\n",
        "    return cfg\n",
        ""
      ],
      "metadata": {
        "id": "gF4EokA2hCmX"
      },
      "execution_count": null,
      "outputs": []
    },
    {
      "cell_type": "code",
      "source": [
        "class ResidualBlock(layers.Layer):\n",
        "  def __init__(self, filters, **kwargs):\n",
        "    super(ResidualBlock, self).__init__(**kwargs)\n",
        "    self.conv1 = layers.Conv2D(\n",
        "        filters = filters // 2, kernel_size = 1, actovation = \"relu\"\n",
        "    )\n",
        "    self.pixel_conv = MaskedConv2D(\n",
        "        mask_type = \"B\",\n",
        "        filters = filters // 2 ,\n",
        "        kernel_size = 3,\n",
        "        activation = \"relu\",\n",
        "        padding = \"same\",\n",
        "    )\n",
        "    self.conv2 = layers.Conv2D(\n",
        "        filters = filters, kernel_size = 1, activation = \"relu\"\n",
        "    )\n",
        "\n",
        "  def call(self, inputs):\n",
        "    x = self.conv1(inputs)\n",
        "    x = self.pixel_conv(x)\n",
        "    x = self.conv2(x)\n",
        "    return layers.add([inputs , x])\n",
        "\n",
        "  def get_config(self):\n",
        "    cfg = super().get_config()\n",
        "    return cfg\n",
        ""
      ],
      "metadata": {
        "id": "DYndTblziWot"
      },
      "execution_count": null,
      "outputs": []
    },
    {
      "cell_type": "code",
      "source": [
        "inputs = layers.Input(shape = (IMAGE_SIZE , IMAGE_SIZE, 1))\n",
        "x = MaskedConv2D(\n",
        "    mask_type = \"A\",\n",
        "    filters = FILTERS,\n",
        "    kernel_size = 7,\n",
        "    activation = \"relu\",\n",
        "    padding = \"same\",\n",
        ")(inputs)\n",
        "\n",
        "for _ in range(RESIDUAL_BLOCKS):\n",
        "  x = ResidualBlock(filters = N_FILTERS)(x)\n",
        "\n",
        "for _ in range(2):\n",
        "  x  = MaskedConv2D(\n",
        "      mask_type = \"B\",\n",
        "      filters = N_FILTERS,\n",
        "      kernel_size = 1,\n",
        "      strides = 1,\n",
        "      activation = \"relu\",\n",
        "      padding = \"valid\",\n",
        "  )(x)\n",
        "\n",
        "out = layers.Conv2D(\n",
        "    filters = PIXEL_LEVELS,\n",
        "    kernel_size = 1,\n",
        "    strides = 1,\n",
        "    activation = \"softmax\",\n",
        "    padding = \"valid\",\n",
        ")(x)\n",
        "\n",
        "pixel_cnn = models.Model(inputs, out)\n",
        "pixel_cnn.summary()"
      ],
      "metadata": {
        "id": "wqgKBFKSjKY-"
      },
      "execution_count": null,
      "outputs": []
    },
    {
      "cell_type": "markdown",
      "source": [
        "#Train the PIXELCNN"
      ],
      "metadata": {
        "id": "tc7ZRCMpkPqv"
      }
    },
    {
      "cell_type": "code",
      "source": [
        "adam = optimizers.Adam(learning_rate = 0.0005)\n",
        "pixel_cnn.compile(optimizer = adam , loss = \"sparse_categorical_crossentropy\")"
      ],
      "metadata": {
        "id": "j8O-yu-kj_4u"
      },
      "execution_count": null,
      "outputs": []
    },
    {
      "cell_type": "code",
      "source": [
        "tensorboard_callback = callbacks.TensorBoard(log_dir = \"./logs\")\n",
        "\n",
        "class ImageGenerator(callbacks.Callback):\n",
        "  def __init__(self, num_img):\n",
        "    self.num_img = num_img\n",
        "\n",
        "  def sample_from(self, probs , temperature):\n",
        "    probs = probs ** (1/ temperature)\n",
        "    probs = probs / np.sum(probs)\n",
        "    return np.random.choice(len(probs) , p = probs)\n",
        "\n",
        "  def generate(self, temperature):\n",
        "    generated_images = np.zeros(\n",
        "        shape = (self.num_img,) + (pixel_cnn.input_shape)[1:]\n",
        "    )\n",
        "    batch, rows, cols , channels = generated_images.shape\n",
        "\n",
        "    for row in range(rows):\n",
        "      for col in range(cols):\n",
        "        for channel in range(channels):\n",
        "          probs = self.model.predict(generated_images , verbose = 0)[\n",
        "              :, row , col,:\n",
        "          ]\n",
        "          generated_images[:, row , col , channel] = [\n",
        "              self.sample_from(x, temperature) for x in probs\n",
        "          ]\n",
        "          generated_images[:, row, col, channel] /= PIXEL_LEVELS\n",
        "    return generated_images\n",
        "\n",
        "  def on_epoch_end(self, epoch , logs = None):\n",
        "    generated_images = self.generate(temperature = 1.0)\n",
        "    display(\n",
        "        generated_images ,\n",
        "        save_to = \"./output/generated_img_%03d.png\" % (epoch),\n",
        "    )\n",
        "\n",
        "img_generator_callback  = ImageGenerator(num_img = 10)"
      ],
      "metadata": {
        "id": "WsKdJ6QhkbSV"
      },
      "execution_count": null,
      "outputs": []
    },
    {
      "cell_type": "code",
      "source": [
        "pixel_cnn.fit(\n",
        "    input_data,\n",
        "    output_data,\n",
        "    batch_size = BATCH_SIZE,\n",
        "    epochs = EPOCHS ,\n",
        "    callbacks = [tensorboard_callback , img_generator_callback],\n",
        ")"
      ],
      "metadata": {
        "id": "_F1UCojNl3e-"
      },
      "execution_count": null,
      "outputs": []
    },
    {
      "cell_type": "markdown",
      "source": [
        "#4. Generate images"
      ],
      "metadata": {
        "id": "1d5wSS-ImFDS"
      }
    },
    {
      "cell_type": "code",
      "source": [
        "generated_images = img_generator_callback.generate(temperature = 1.0)\n"
      ],
      "metadata": {
        "id": "RoDpgRb9mED3"
      },
      "execution_count": null,
      "outputs": []
    },
    {
      "cell_type": "code",
      "source": [
        "display(generated_images)"
      ],
      "metadata": {
        "id": "apaAsHnXmNV2"
      },
      "execution_count": null,
      "outputs": []
    },
    {
      "cell_type": "code",
      "source": [],
      "metadata": {
        "id": "5JofdnhMmO1q"
      },
      "execution_count": null,
      "outputs": []
    }
  ]
}