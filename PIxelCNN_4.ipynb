{
  "nbformat": 4,
  "nbformat_minor": 0,
  "metadata": {
    "colab": {
      "provenance": [],
      "authorship_tag": "ABX9TyNQgsUqiMdPuczUaPTewngA",
      "include_colab_link": true
    },
    "kernelspec": {
      "name": "python3",
      "display_name": "Python 3"
    },
    "language_info": {
      "name": "python"
    }
  },
  "cells": [
    {
      "cell_type": "markdown",
      "metadata": {
        "id": "view-in-github",
        "colab_type": "text"
      },
      "source": [
        "<a href=\"https://colab.research.google.com/github/Ahtesham519/Genrative_Deep_learning_v2_2023/blob/main/PIxelCNN_4.ipynb\" target=\"_parent\"><img src=\"https://colab.research.google.com/assets/colab-badge.svg\" alt=\"Open In Colab\"/></a>"
      ]
    },
    {
      "cell_type": "code",
      "execution_count": null,
      "metadata": {
        "id": "8WxlN0xPPUIP"
      },
      "outputs": [],
      "source": [
        "%load_ext autoreload\n",
        "%autoreload 2\n",
        "import numpy as np\n",
        "\n",
        "import tensorflow as tf\n",
        "from tensorflow.keras import datasets, layers, models, optimizers, callbacks\n",
        "\n",
        "from notebooks.utils import display"
      ]
    },
    {
      "cell_type": "markdown",
      "source": [
        "#0. Parameters"
      ],
      "metadata": {
        "id": "BPbiBjAaT_-T"
      }
    },
    {
      "cell_type": "code",
      "source": [
        "IMAGE_SIZE = 16\n",
        "PIXEL_LEVELS = 4\n",
        "N_FILTERS = 128\n",
        "RESIDUAL_BLOCKS = 5\n",
        "BATCH_SIZE = 128\n",
        "EPOCHS = 150"
      ],
      "metadata": {
        "id": "RqgnVHmjT-cD"
      },
      "execution_count": null,
      "outputs": []
    },
    {
      "cell_type": "markdown",
      "source": [
        "#1. Prepare the data"
      ],
      "metadata": {
        "id": "PnQNAaADUM0y"
      }
    },
    {
      "cell_type": "code",
      "source": [
        "#Load the data\n",
        "(x_train, _) , (_, _) = datasets.fashion_mnist.load_data()"
      ],
      "metadata": {
        "id": "tKyrvXgBULlk"
      },
      "execution_count": null,
      "outputs": []
    },
    {
      "cell_type": "code",
      "source": [
        "#Preprocess the data\n",
        "def preprocess(imgs_int):\n",
        "  imgs_int = np.expand_dims(imgs_int , -1)\n",
        "  imgs_int = tf.image.resize(imgs_int, (IMAGE_SIZE , IMAGE_SIZE)).numpy()\n",
        "  imgs_int = (imgs_int / (256 / PIXEL_LEVELS)).astype(int)\n",
        "  imgs = imgs_int.astype(\"float32\")\n",
        "  imgs = imgs / PIXEL_LEVELS\n",
        "  return imgs , imgs_int\n",
        "\n",
        "input_data , output_data = preprocess(x_train)"
      ],
      "metadata": {
        "id": "gLlXRuX7UXM5"
      },
      "execution_count": null,
      "outputs": []
    },
    {
      "cell_type": "code",
      "source": [
        "#Show some items of the clothing from the training set\n",
        "display(input_data)"
      ],
      "metadata": {
        "id": "349ZMJfrVCkY"
      },
      "execution_count": null,
      "outputs": []
    },
    {
      "cell_type": "markdown",
      "source": [
        "#2. Build the PixelCNN"
      ],
      "metadata": {
        "id": "42ndfHoXVJKK"
      }
    },
    {
      "cell_type": "code",
      "source": [
        "#The first layer is the pixelCNN layer, This layer simply\n",
        "#builds on the 2D convolutional layer , but includes masking\n",
        "\n",
        "class MaskedConv2D(layers.Layer):\n",
        "  def __init__(self, mask_type, **kwargs):\n",
        "    super(MaskedConv2D, self).__init__()\n",
        "    self.mask_type = mask_type\n",
        "    self.conv = layers.Conv2D(**kwargs)\n",
        "\n",
        "  def build(self, input_shape):\n",
        "    #Build the conv2d layer to initialize kernel variables\n",
        "    self.conv.build(input_shape)\n",
        "    #use the initilized kernel to create the mask\n",
        "    kernel_shape = self.conv.kernel.get_shape()\n",
        "    self.mask = np.zeros(shape = kernel_shape)\n",
        "    self.mask[: kernel_shape[0] // 2, ...] = 1.0\n",
        "    self.mask[kernel_shape[0] // 2, : kernel_shape[1] // 2, ...] = 1.0\n",
        "    if self.mask_type == \"B\":\n",
        "      self.mask[kernel_shape[0] // 2, kernel_shape[1] // 2,...] = 1.0\n",
        "\n",
        "  def call(self, inputs):\n",
        "    self.conv.kernel.assign(self.conv.kernel * self.mask)\n",
        "    return self.conv(inputs)\n",
        "\n",
        "  def get_config(self):\n",
        "    cfg = super().get_config()\n",
        "    return cfg\n",
        ""
      ],
      "metadata": {
        "id": "nxZcf-LVVII8"
      },
      "execution_count": null,
      "outputs": []
    },
    {
      "cell_type": "code",
      "source": [
        "class ResidualBlock(layers.Layer):\n",
        "  def __init__(self, filters , **kwargs):\n",
        "    super(ResidualBlock , self).__init__(**kwargs)\n",
        "    self.conv1 = layers.Conv2D(\n",
        "        filters = filters // 2, kernel_size = 1 , activation = \"relu\"\n",
        "    )\n",
        "    self.pixel_conv = MaskedConv2D(\n",
        "        mask_type  = \"B\",\n",
        "        filters = filters // 2,\n",
        "        kernel_size = 3,\n",
        "        activation = \"relu\",\n",
        "        padding = \"same\",\n",
        "    )\n",
        "    self.conv2 = layers.Conv2D(\n",
        "        filters = filters , kernel_size = 1  , activation = \"relu\"\n",
        "    )\n",
        "\n",
        "  def call(self, inputs):\n",
        "    x = self.conv1(inputs)\n",
        "    x = self.pixel_conv(x)\n",
        "    x = self.conv2(x)\n",
        "    return layers.add([inputs, x])\n",
        "\n",
        "  def get_config(self):\n",
        "    cfg = super().get_config()\n",
        "    return cfg\n",
        ""
      ],
      "metadata": {
        "id": "NRQlifI7WmDz"
      },
      "execution_count": null,
      "outputs": []
    },
    {
      "cell_type": "code",
      "source": [
        "inputs = layers.Input(shape= (IMAGE_SIZE , IMAGE_SIZE, 1))\n",
        "x = MaskedConv2D(\n",
        "    mask_type = \"A\",\n",
        "    filters = N_FILTERS,\n",
        "    kernel_size = 7,\n",
        "    activation = \"relu\",\n",
        "    padding = \"same\",\n",
        ")(inputs)\n",
        "\n",
        "for _ in range(RESIDUAL_BLOCKS):\n",
        "  x = ResidualBlock(filters = N_FILTERS)(x)\n",
        "\n",
        "for _ in range(2):\n",
        "  x = MaskedConv2D(\n",
        "      mask_type = \"B\",\n",
        "      filters = N_FILTERS,\n",
        "      kernel_size = 1,\n",
        "      strides = 1,\n",
        "      activation = \"relu\",\n",
        "      padding = \"valid\",\n",
        "  )(x)\n",
        "\n",
        "out = layers.Conv2D(\n",
        "    filters = PIXEL_LEVELS ,\n",
        "    kernel_size = 1,\n",
        "    strides = 1,\n",
        "    activation = \"softmax\",\n",
        "    padding = \"valid\",\n",
        ")(x)\n",
        "\n",
        "pixel_cnn = models.Model(inputs, out)\n",
        "pixel_cnn.summary()"
      ],
      "metadata": {
        "id": "xzq-ibTeXpbJ"
      },
      "execution_count": null,
      "outputs": []
    }
  ]
}