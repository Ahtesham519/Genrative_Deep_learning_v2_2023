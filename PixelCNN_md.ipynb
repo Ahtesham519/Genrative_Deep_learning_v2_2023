{
  "nbformat": 4,
  "nbformat_minor": 0,
  "metadata": {
    "colab": {
      "provenance": [],
      "authorship_tag": "ABX9TyO6Mdzh95Sshae9mZWH31X/",
      "include_colab_link": true
    },
    "kernelspec": {
      "name": "python3",
      "display_name": "Python 3"
    },
    "language_info": {
      "name": "python"
    }
  },
  "cells": [
    {
      "cell_type": "markdown",
      "metadata": {
        "id": "view-in-github",
        "colab_type": "text"
      },
      "source": [
        "<a href=\"https://colab.research.google.com/github/Ahtesham519/Genrative_Deep_learning_v2_2023/blob/main/PixelCNN_md.ipynb\" target=\"_parent\"><img src=\"https://colab.research.google.com/assets/colab-badge.svg\" alt=\"Open In Colab\"/></a>"
      ]
    },
    {
      "cell_type": "code",
      "execution_count": null,
      "metadata": {
        "id": "mbqfSLmDkEKF"
      },
      "outputs": [],
      "source": [
        "%load_ext autoreload\n",
        "%autoreload 2\n",
        "import numpy as np\n",
        "\n",
        "import tensorflow as tf\n",
        "from tensorflow.keras import datasets, layers, models, optimizers, callbacks\n",
        "import tensorflow_probability as tfp\n"
      ]
    },
    {
      "cell_type": "markdown",
      "source": [
        "#0. Parameters"
      ],
      "metadata": {
        "id": "g0Gw4QY7kjqZ"
      }
    },
    {
      "cell_type": "code",
      "source": [
        "IMAGE_SIZE = 32\n",
        "N_COMPONENTS = 5\n",
        "EPOCHS = 10\n",
        "BATCH_SIZE = 128"
      ],
      "metadata": {
        "id": "Xuz_wISzkix9"
      },
      "execution_count": null,
      "outputs": []
    },
    {
      "cell_type": "markdown",
      "source": [
        "# 1. Prepare the data"
      ],
      "metadata": {
        "id": "K5gKiqvzkrVr"
      }
    },
    {
      "cell_type": "code",
      "source": [
        "#Load the data\n",
        "(x_train , _) , (_,_) = datasets.fashion_mnist.load_data()"
      ],
      "metadata": {
        "id": "JSfSlSpzkqot"
      },
      "execution_count": null,
      "outputs": []
    },
    {
      "cell_type": "code",
      "source": [
        "#preprocess the data\n",
        "\n",
        "def preprocess(imgs):\n",
        "  imgs = np.expand_dims(imgs , -1)\n",
        "  imgs = tf.image.resize(imgs , (IMAGE_SIZE, IMAGE_SIZE)).numpy()\n",
        "  return imgs\n",
        "\n",
        "\n",
        "input_data = preprocess(x_train)"
      ],
      "metadata": {
        "id": "T0p9v5EFkzUq"
      },
      "execution_count": null,
      "outputs": []
    },
    {
      "cell_type": "markdown",
      "source": [
        "#2. Bulid the PixelCNN"
      ],
      "metadata": {
        "id": "kxnZN0QPlQC3"
      }
    },
    {
      "cell_type": "code",
      "source": [
        "#Define a Pixel CNN network\n",
        "\n",
        "dist = tfp.distributations.PixelCNN(\n",
        "    image_shape = (IMAGE_SIZE , IMAGE_SIZE, 1),\n",
        "    num_resnet = 1,\n",
        "    num_hierarchies = 2,\n",
        "    num_filters = 32,\n",
        "    num_logistic_mix = N_COMPONENTS,\n",
        "    dropout_p = 0.3,\n",
        ")\n",
        "\n",
        "#Define the model input =\n",
        "image_input = layers.Input(shape = (IMAGE_SIZE , IMAGE_SIZE , 1))\n",
        "\n",
        "#Define the log likelihood for the loss fn\n",
        "log_prob = dist.log_prob(image_input)\n",
        "\n",
        "#define the model\n",
        "pixelcnn = models.Model(inputs = image_input , outputs = log_prob)\n",
        "pixelcnn.add_loss(-tf.reduce_mean(log_prob))"
      ],
      "metadata": {
        "id": "Nuf7nw0jlMuy"
      },
      "execution_count": null,
      "outputs": []
    },
    {
      "cell_type": "markdown",
      "source": [
        "##.Train the PixelCNN"
      ],
      "metadata": {
        "id": "xrbOvQgsl-zd"
      }
    },
    {
      "cell_type": "code",
      "source": [
        "#Compile and train the model\n",
        "pixelcnn.compile(\n",
        "    optimizer = optimizers.Adam(0.001),\n",
        "\n",
        ")"
      ],
      "metadata": {
        "id": "d1ttCR7Al9dA"
      },
      "execution_count": null,
      "outputs": []
    },
    {
      "cell_type": "code",
      "source": [
        "tensorboard_callback = callbacks.TensorBoard(log_dir = \"./logs\")\n",
        "\n",
        "\n",
        "class ImageGenerator(callbacks.Callback):\n",
        "  def __init__(self, num_img):\n",
        "    self.num_img = num_img\n",
        "\n",
        "  def generate(self):\n",
        "    return dist.sample(self.num_img).numpy()\n",
        "\n",
        "  def on_epoch_end(self, epoch , logs = None):\n",
        "    generated_images = self.generate()\n",
        "    display(\n",
        "        generated_images ,\n",
        "        n= self.num_img,\n",
        "        save_to = \"./output.generated_img_%03d.png\" % (epoch),\n",
        "    )\n",
        "\n",
        "img_generator_callback = ImageGenerator(num_img = 2)"
      ],
      "metadata": {
        "id": "3S95bC9mmJz3"
      },
      "execution_count": null,
      "outputs": []
    },
    {
      "cell_type": "code",
      "source": [
        "#4. Generate images\n",
        "generated_images = img_generator_callback.generate()"
      ],
      "metadata": {
        "id": "UlB3ii8HnBoG"
      },
      "execution_count": null,
      "outputs": []
    },
    {
      "cell_type": "code",
      "source": [],
      "metadata": {
        "id": "iTiKyqwcnKa6"
      },
      "execution_count": null,
      "outputs": []
    }
  ]
}