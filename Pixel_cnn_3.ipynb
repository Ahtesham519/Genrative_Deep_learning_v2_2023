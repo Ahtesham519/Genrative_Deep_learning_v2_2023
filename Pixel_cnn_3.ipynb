{
  "nbformat": 4,
  "nbformat_minor": 0,
  "metadata": {
    "colab": {
      "provenance": [],
      "authorship_tag": "ABX9TyPTgzI0Ats9fYYqNeDa6F9A",
      "include_colab_link": true
    },
    "kernelspec": {
      "name": "python3",
      "display_name": "Python 3"
    },
    "language_info": {
      "name": "python"
    }
  },
  "cells": [
    {
      "cell_type": "markdown",
      "metadata": {
        "id": "view-in-github",
        "colab_type": "text"
      },
      "source": [
        "<a href=\"https://colab.research.google.com/github/Ahtesham519/Genrative_Deep_learning_v2_2023/blob/main/Pixel_cnn_3.ipynb\" target=\"_parent\"><img src=\"https://colab.research.google.com/assets/colab-badge.svg\" alt=\"Open In Colab\"/></a>"
      ]
    },
    {
      "cell_type": "code",
      "execution_count": null,
      "metadata": {
        "id": "ICYAMOKQ8xi_"
      },
      "outputs": [],
      "source": [
        "%load_ext autoreload\n",
        "%autoreload 2\n",
        "import numpy as np\n",
        "\n",
        "import tensorflow as tf\n",
        "from tensorflow.keras import datasets, layers, models , optimizers , callback\n",
        "\n",
        "from notebooks.utils import display"
      ]
    },
    {
      "cell_type": "markdown",
      "source": [
        "#0.Parameters"
      ],
      "metadata": {
        "id": "Gvryrllm_lny"
      }
    },
    {
      "cell_type": "code",
      "source": [
        "IMAGE_SIZE = 16\n",
        "PIXEL_LEVELS = 4\n",
        "N_FILTERS = 128\n",
        "RESIDUAL_BLOCKS = 5\n",
        "BATCH_SIZE = 128\n",
        "EPOCHS = 150\n"
      ],
      "metadata": {
        "id": "P542w-tv_kXD"
      },
      "execution_count": null,
      "outputs": []
    },
    {
      "cell_type": "markdown",
      "source": [
        "#1. Prepare the data"
      ],
      "metadata": {
        "id": "Msqo3GxgADAW"
      }
    },
    {
      "cell_type": "code",
      "source": [
        "#Load the data\n",
        "(x_train, _) , (_, _) = datasets.fashion_mnist.load_data()"
      ],
      "metadata": {
        "id": "EM-SIUoFACCl"
      },
      "execution_count": null,
      "outputs": []
    },
    {
      "cell_type": "code",
      "source": [
        "#Prepare the data\n",
        "def preprocess(img_int):\n",
        "  imgs_int = np.expand_dims(imgs_int, -1)\n",
        "  imgs_int = tf.image.resize(imgs_int, (IMAGE_SIZE , IMAGE_SIZE)).numpy()\n",
        "  imgs_int = (imgs_int / (256 / PIXEL_LEVELS)).astype(int)\n",
        "  imgs = imgs_int.astype(\"float32\")\n",
        "  imgs = imgs / PIXEL_LEVELS\n",
        "  return imgs , imgs_int\n",
        "\n",
        "input_data , output_data = preprocess(x_train)"
      ],
      "metadata": {
        "id": "k4oIBr0MANKU"
      },
      "execution_count": null,
      "outputs": []
    },
    {
      "cell_type": "code",
      "source": [
        "#Show some items of clothings from the training set\n",
        "display(input_data)"
      ],
      "metadata": {
        "id": "HFlbnCZuBsPb"
      },
      "execution_count": null,
      "outputs": []
    },
    {
      "cell_type": "markdown",
      "source": [
        "#2.Build the PixelCNN"
      ],
      "metadata": {
        "id": "YZHefBjlB4De"
      }
    },
    {
      "cell_type": "code",
      "source": [
        "#the first layer is the pixelCNN layer . This layer simplt\n",
        "#builds on the 2D convolutional layer, but includes masking\n",
        "\n",
        "class MaskedConv2D(layers.Layer):\n",
        "  def __init__(self , mask_type, **kwargs):\n",
        "    super(MaskedConv2D, self).__init__()\n",
        "    self.mask_type = mask_type\n",
        "    self.conv = layers.Conv2D(**kwargs)\n",
        "\n",
        "  def build(self , input_shape):\n",
        "    #Build the conv3d layer to initialize kernel variables\n",
        "    self.conv.build(input_shape)\n",
        "    #use the initialized kernel to create the mask\n",
        "    kernel_shape = self.conv.kernel.get_shape()\n",
        "    self.mask = np.zeros(shape = kernel_shape)\n",
        "    self.mask[: kernel_shape[0] // 2, ...] = 1.0\n",
        "    self.mask[kernel_shape[0] // 2, : kernel_shape[1] // 2, ...] = 1.0\n",
        "    if self.mask_type == \"B\":\n",
        "      self.mask[kernel_shape[0] // 2, kernel_shape[1] // 2, ...] = 1.0\n",
        "\n",
        "\n",
        "  def call(self, inputs):\n",
        "    self.conv.kernel.assign(self.conv.kernel * self.mask)\n",
        "    return self.conv(inputs)\n",
        "\n",
        "  def get_config(self):\n",
        "    cfg = super().get_config()\n",
        "    return cfg\n",
        "\n",
        ""
      ],
      "metadata": {
        "id": "uz5oBJQdB3Nd"
      },
      "execution_count": null,
      "outputs": []
    },
    {
      "cell_type": "code",
      "source": [
        "class ResidualBlock(layers.Layer):\n",
        "  def __init__(self, filters, **kwargs):\n",
        "    super(ResidualBlock, self).__init__(**kwargs)\n",
        "    self.conv1 = layers.Conv2D(\n",
        "        filters = filters // 2 , kernel_size = 1, activation = \"relu\"\n",
        "    )\n",
        "    self.pixel_conv = MaskedConv2D(\n",
        "        mask_type = \"B\",\n",
        "        filters = filters // 2\n",
        "        kernel_size = 3,\n",
        "        activation = \"relu\",\n",
        "        padding = \"same\",\n",
        "    )\n",
        "    self.conv2 = layers.Conv2D(\n",
        "        filters = filters , kernel_size = 1, activation = \"relu\"\n",
        "    )\n",
        "\n",
        "  def call(self, inputs):\n",
        "    x = self.conv1(inputs)\n",
        "    x = self.pixel_conv(x)\n",
        "    x = self.conv2(x)\n",
        "    return layers.add([inputs, x])\n",
        "\n",
        "  def get_config(self):\n",
        "    cfg = super().get_config()\n",
        "    return cfg\n",
        ""
      ],
      "metadata": {
        "id": "3B240YsCOgG_"
      },
      "execution_count": null,
      "outputs": []
    },
    {
      "cell_type": "code",
      "source": [
        "inputs = layers.Input(shape = (IMAGE_SIZE , IMAGE_SIZE, 1))\n",
        "x = MaskedConv2D(\n",
        "    mask_type = \"A\",\n",
        "    filters = N_FILTERS,\n",
        "    kernel_size = 7,\n",
        "    activation = \"relu\",\n",
        "    padding = \"same\",\n",
        ")(inputs)\n",
        "\n",
        "for _ in range(RESIDUAL_BLOCKS):\n",
        "  x = ResidualBlock(filters = N_FILTERS)(x)\n",
        "\n",
        "for _ in range(2):\n",
        "  x = MaskedConv2D(\n",
        "      mask_type = \"B\",\n",
        "      filters = N_FILTERS,\n",
        "      kernel_size = 1,\n",
        "      strides = 1,\n",
        "      activation = \"relu\",\n",
        "      padding = \"valid\",\n",
        "\n",
        "  )(x)\n",
        "\n",
        "out = layers.Conv2D(\n",
        "    filters = PIXEL_LEVELS,\n",
        "    kernel_size = 1 ,\n",
        "    strides = 1,\n",
        "    activation = \"softmax\",\n",
        "    padding = \"valid\",\n",
        ")(x)\n",
        "\n",
        "pixel_cnn = models.Model(inputs , out)\n",
        "pixel_cnn.summary()"
      ],
      "metadata": {
        "id": "NKGqnarKPiTN"
      },
      "execution_count": null,
      "outputs": []
    },
    {
      "cell_type": "markdown",
      "source": [
        "#Train the PixelCNN"
      ],
      "metadata": {
        "id": "6-3vEQVyQhY5"
      }
    },
    {
      "cell_type": "code",
      "source": [
        "adam = optimizers.Adam(learning_rate = 0.0005)\n",
        "pixel_cnn.compile(optimizer = adam , loss = \"sparse_categorical_crossentropy\")"
      ],
      "metadata": {
        "id": "HhGkDoWXQgat"
      },
      "execution_count": null,
      "outputs": []
    },
    {
      "cell_type": "code",
      "source": [
        "tensorboard_callback = callbacks.TensorBoard(log_dir= \"./logs\")\n",
        "\n",
        "class ImageGenerator(callbacks.Callback):\n",
        "  def __init__(self, num_img):\n",
        "    self.num_img = num_img\n",
        "\n",
        "  def sample_from(self, probs , temperature):\n",
        "    probs = probs ** (1 / temperature )\n",
        "    probs = probs / np.sum(probs)\n",
        "    return np.random.choice(len(probs), p = probs)\n",
        "\n",
        "  def generate(self, temperature):\n",
        "    generated_images = np.zeros(\n",
        "        shape = (self.num_img,) + (pixel_cnn.input_shape)[1:]\n",
        "    )\n",
        "    batch , rows , cols , channels = generated_images.shape\n",
        "\n",
        "    for row in range(rows):\n",
        "      for col in range(cols):\n",
        "        for channel in range(channels):\n",
        "          probs = self.model.predict(generated_images, verbose = 0)[\n",
        "              :, row , col, :\n",
        "          ]\n",
        "          generated_images[:, row , col , channel] = [\n",
        "              self.sample_from(x, temperature) for x in probs\n",
        "          ]\n",
        "          generated_images[:, row , col , channel] /= PIXEL_LEVELS\n",
        "    return generated_images\n",
        "\n",
        "  def on_epoch_end(self, epoch , logs = None):\n",
        "    generated_images = self.generate(temperature = 1.0)\n",
        "    display(\n",
        "        generated_images ,\n",
        "        save_to = \"./output/generated_img%03.png\" % (epoch),\n",
        "    )\n",
        "\n",
        "img_generator_callback = ImageGenerator(num_img = 10)\n"
      ],
      "metadata": {
        "id": "VVjeD8DmRLQo"
      },
      "execution_count": null,
      "outputs": []
    },
    {
      "cell_type": "code",
      "source": [
        "pixel_cnn.fit(\n",
        "    input_data,\n",
        "    output_data,\n",
        "    batch_size = BATCH_SIZE ,\n",
        "    epochs = EPOCHS ,\n",
        "    callbacks = [tensorboard_callback, img_generator_callback],\n",
        ")"
      ],
      "metadata": {
        "id": "rcmKGj9VTDAD"
      },
      "execution_count": null,
      "outputs": []
    },
    {
      "cell_type": "markdown",
      "source": [
        "#4. Generate images"
      ],
      "metadata": {
        "id": "ARt5yIEBTXEO"
      }
    },
    {
      "cell_type": "code",
      "source": [
        "generated_images = img_generator_callback.generate(temperature = 1.0)"
      ],
      "metadata": {
        "id": "qsO72UeiTWJe"
      },
      "execution_count": null,
      "outputs": []
    },
    {
      "cell_type": "code",
      "source": [
        "display"
      ],
      "metadata": {
        "id": "7LMZKuZiTepU"
      },
      "execution_count": null,
      "outputs": []
    }
  ]
}