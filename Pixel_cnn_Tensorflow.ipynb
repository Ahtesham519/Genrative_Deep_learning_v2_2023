{
  "nbformat": 4,
  "nbformat_minor": 0,
  "metadata": {
    "colab": {
      "provenance": [],
      "authorship_tag": "ABX9TyNBqKZbz0c6c2qUhhw21YZm",
      "include_colab_link": true
    },
    "kernelspec": {
      "name": "python3",
      "display_name": "Python 3"
    },
    "language_info": {
      "name": "python"
    }
  },
  "cells": [
    {
      "cell_type": "markdown",
      "metadata": {
        "id": "view-in-github",
        "colab_type": "text"
      },
      "source": [
        "<a href=\"https://colab.research.google.com/github/Ahtesham519/Genrative_Deep_learning_v2_2023/blob/main/Pixel_cnn_Tensorflow.ipynb\" target=\"_parent\"><img src=\"https://colab.research.google.com/assets/colab-badge.svg\" alt=\"Open In Colab\"/></a>"
      ]
    },
    {
      "cell_type": "code",
      "execution_count": null,
      "metadata": {
        "id": "CFCXDH0__Gzn"
      },
      "outputs": [],
      "source": [
        "%load_ext autoreload\n",
        "%autoreload 2\n",
        "import numpy as np\n",
        "\n",
        "import tensorflow as tf\n",
        "from tensorflow.keras import datasets, layers, models, optimizers, callbacks\n",
        "import tensorflow_probability as tfp\n"
      ]
    },
    {
      "cell_type": "markdown",
      "source": [
        "#0. Parameters"
      ],
      "metadata": {
        "id": "pP1cxhSX_es1"
      }
    },
    {
      "cell_type": "code",
      "source": [
        "IMAGE_SIZE = 32\n",
        "N_COMPONENTS = 5\n",
        "EPOCHS = 10\n",
        "BATCH_SIZE = 128"
      ],
      "metadata": {
        "id": "6Htdl-Sa_cv0"
      },
      "execution_count": null,
      "outputs": []
    },
    {
      "cell_type": "markdown",
      "source": [
        "# 1 . Prepare the data"
      ],
      "metadata": {
        "id": "yUrro9As_nnq"
      }
    },
    {
      "cell_type": "code",
      "source": [
        "#load the data\n",
        "(x_train, _), (_, _) = datasets.fashion_mnist.load_data()"
      ],
      "metadata": {
        "id": "MEFIgeEL_myI"
      },
      "execution_count": null,
      "outputs": []
    },
    {
      "cell_type": "code",
      "source": [
        "#Prepare the data\n",
        "\n",
        "def preprocess(imgs):\n",
        "  imgs = np.expand_dims(imgs, -1)\n",
        "  imgs = tf.image.resize(imgs, (IMAGE_SIZE, IMAGE_SIZE)).numpy()\n",
        "  return imgs\n",
        "\n",
        "input_data = preprocess(x_train)"
      ],
      "metadata": {
        "id": "7zrHhuHb_6sS"
      },
      "execution_count": null,
      "outputs": []
    },
    {
      "cell_type": "code",
      "source": [
        "#show some items of clothing from the training set\n",
        "display(input_data)"
      ],
      "metadata": {
        "id": "Z-38rm00AJgT"
      },
      "execution_count": null,
      "outputs": []
    },
    {
      "cell_type": "markdown",
      "source": [
        "#Bulid the PixelCNN\n"
      ],
      "metadata": {
        "id": "aYCLho9xAPTV"
      }
    },
    {
      "cell_type": "code",
      "source": [
        "#Define a Pixel CNN network\n",
        "dist = tfp.distributions.PixelCNN(\n",
        "    image_shape = (IMAGE_SIZE , IMAGE_SIZE , 1),\n",
        "    num_resnet = 1,\n",
        "    num_hierarchies = 2,\n",
        "    num_filters = 32,\n",
        "    num_logistic_mix = N_COMPONENTS,\n",
        "    dropout_p = 0.3,\n",
        ")\n",
        "\n",
        "#define the model input\n",
        "image_input = layers.Input(shape = (IMAGE_SIZE, IMAGE_SIZE, 1))\n",
        "\n",
        "#define the log likelihood for the loss fn\n",
        "log_prob = dist.log_prob(image_input)\n",
        "\n",
        "#Define the model\n",
        "pixelcnn = models.Model(inputs = image_input , outputs = log_prob)\n",
        "pixelcnn.add_loss(-tf.reduce_mean(log_prob))"
      ],
      "metadata": {
        "id": "5v4aUf62AONh"
      },
      "execution_count": null,
      "outputs": []
    },
    {
      "cell_type": "markdown",
      "source": [
        "#3. Train the PixelCNN\n",
        ""
      ],
      "metadata": {
        "id": "3B1dpQ7SBRfW"
      }
    },
    {
      "cell_type": "code",
      "source": [
        "#compile and train the model\n",
        "picelcnn.compile(\n",
        "    optimizer = optimizers.Adam(0.001),\n",
        ")"
      ],
      "metadata": {
        "id": "ZPQslNbZBQng"
      },
      "execution_count": null,
      "outputs": []
    },
    {
      "cell_type": "code",
      "source": [
        "tensorboard_callback = callbacks.TensorBoard(log_dir= \"./logs\")\n",
        "\n",
        "class ImageGenerator(callbacks.Callback):\n",
        "  def __init__(self, num_img):\n",
        "    self.num_img = num_img\n",
        "\n",
        "  def generate(self):\n",
        "    return dist.sample(self.num_img).numpy()\n",
        "\n",
        "  def on_epoch_end(self, epoch , logs = None):\n",
        "    generated_images = self.generate()\n",
        "    display(\n",
        "        generated_images,\n",
        "        n = self.num_img,\n",
        "        save_to = \"./output/generated_img_%03d.png\" % (epoch)\n",
        "    )\n",
        "img_generator_callback = ImageGenerator(num_img = 2)"
      ],
      "metadata": {
        "id": "xI4saAObBfS_"
      },
      "execution_count": null,
      "outputs": []
    },
    {
      "cell_type": "code",
      "source": [
        "pixelcnn.fit(\n",
        "    input_data,\n",
        "    batch_size = BATCH_SIZE ,\n",
        "    epochs = EPOCHS,\n",
        "    verbose = True,\n",
        "    callbacks = [tensorboard_callback , img_generator_callback],\n",
        ")"
      ],
      "metadata": {
        "id": "ZpWKrIsNCH6j"
      },
      "execution_count": null,
      "outputs": []
    },
    {
      "cell_type": "markdown",
      "source": [
        "#4. Generate images"
      ],
      "metadata": {
        "id": "K-eySFZFCUf-"
      }
    },
    {
      "cell_type": "code",
      "source": [
        "generated_images = img_generator_callback.generate()"
      ],
      "metadata": {
        "id": "tvitzn7KCTM_"
      },
      "execution_count": null,
      "outputs": []
    },
    {
      "cell_type": "code",
      "source": [
        "display(generated_images , n= img_generator_callback.num_img)"
      ],
      "metadata": {
        "id": "YEO-T7E-CZKH"
      },
      "execution_count": null,
      "outputs": []
    },
    {
      "cell_type": "code",
      "source": [],
      "metadata": {
        "id": "ivHuopOzCeEx"
      },
      "execution_count": null,
      "outputs": []
    }
  ]
}