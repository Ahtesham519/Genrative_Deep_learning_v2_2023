{
  "nbformat": 4,
  "nbformat_minor": 0,
  "metadata": {
    "colab": {
      "provenance": [],
      "authorship_tag": "ABX9TyPEPEWAc2Ofnah1Hw62p2S0",
      "include_colab_link": true
    },
    "kernelspec": {
      "name": "python3",
      "display_name": "Python 3"
    },
    "language_info": {
      "name": "python"
    }
  },
  "cells": [
    {
      "cell_type": "markdown",
      "metadata": {
        "id": "view-in-github",
        "colab_type": "text"
      },
      "source": [
        "<a href=\"https://colab.research.google.com/github/Ahtesham519/Genrative_Deep_learning_v2_2023/blob/main/Pseudo_code_minimax.ipynb\" target=\"_parent\"><img src=\"https://colab.research.google.com/assets/colab-badge.svg\" alt=\"Open In Colab\"/></a>"
      ]
    },
    {
      "cell_type": "code",
      "execution_count": 4,
      "metadata": {
        "colab": {
          "base_uri": "https://localhost:8080/"
        },
        "id": "VjO87zQ58ibN",
        "outputId": "95d8a09a-bb9d-47c2-a5e4-f82bd579bde4"
      },
      "outputs": [
        {
          "output_type": "stream",
          "name": "stdout",
          "text": [
            "The optimal path is :['A', 'C', 'B'] with a maximum of 4\n"
          ]
        }
      ],
      "source": [
        "graph= {\n",
        "    'A': {'C': 3, 'D': 2},\n",
        "    'C': {'A': 3, 'B': 4 , 'D': 5},\n",
        "    'D': {'A':2 , 'B' :6 , 'C' : 5},\n",
        "    'B': {'C': 4, 'D':6}\n",
        "}\n",
        "\n",
        "#Fucntion to perform Minimax search for the shortest path with minimized maxumim risk\n",
        "def minimax_path(graph , start , goal):\n",
        "  paths = [] # to store all the possible paths with their max risks\n",
        "  def dfs(current_node , path , max_risk):\n",
        "    if current_node == goal:\n",
        "      #When we reach the goal , store the path and its max risk\n",
        "      paths.append((path , max_risk))\n",
        "      return\n",
        "    for neighbor , risk in graph[current_node].items():\n",
        "      if neighbor not in path: #Avoid cycles\n",
        "        #continue exploring , update max_risk for this path\n",
        "        dfs(neighbor , path + [neighbor] , max(max_risk , risk))\n",
        "\n",
        "  #Start from the start node and explore all paths\n",
        "  dfs(start , [start], 0)\n",
        "\n",
        "  #find the path with the minimum maximum risk\n",
        "  optimal_path = min(paths, key = lambda x : x[1])\n",
        "  return optimal_path\n",
        "\n",
        "#Find the path from A to B with minimized maximum risk\n",
        "path , max_risk = minimax_path(graph , 'A' , 'B')\n",
        "print(f\"The optimal path is :{path} with a maximum of {max_risk}\")"
      ]
    },
    {
      "cell_type": "code",
      "source": [],
      "metadata": {
        "id": "8uyBW7x4-wLL"
      },
      "execution_count": null,
      "outputs": []
    }
  ]
}