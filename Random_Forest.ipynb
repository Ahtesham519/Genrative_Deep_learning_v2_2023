{
  "nbformat": 4,
  "nbformat_minor": 0,
  "metadata": {
    "colab": {
      "provenance": [],
      "authorship_tag": "ABX9TyOJ+to/UoIO1XYlClcT0fqN",
      "include_colab_link": true
    },
    "kernelspec": {
      "name": "python3",
      "display_name": "Python 3"
    },
    "language_info": {
      "name": "python"
    }
  },
  "cells": [
    {
      "cell_type": "markdown",
      "metadata": {
        "id": "view-in-github",
        "colab_type": "text"
      },
      "source": [
        "<a href=\"https://colab.research.google.com/github/Ahtesham519/Genrative_Deep_learning_v2_2023/blob/main/Random_Forest.ipynb\" target=\"_parent\"><img src=\"https://colab.research.google.com/assets/colab-badge.svg\" alt=\"Open In Colab\"/></a>"
      ]
    },
    {
      "cell_type": "code",
      "execution_count": null,
      "metadata": {
        "id": "3Hjn09l1U__G"
      },
      "outputs": [],
      "source": [
        "import pandas as pd\n",
        "import numpy as np\n",
        "from sklearn.model_selection import train_test_split\n",
        "from sklearn.ensemble import RandomForestClassifier\n",
        "from sklearn.metrics import accuracy_score, confusion_matrix , classification_report\n",
        "from matplotlib.pyplot as plt\n"
      ]
    },
    {
      "cell_type": "code",
      "source": [
        "#Assuming your dataset is in a CSV named as data.csv\n",
        "data = pd.read_csv('data.csv')\n",
        "\n",
        "#Exploration the dataset\n",
        "print(data.head())\n",
        "print(data.info())"
      ],
      "metadata": {
        "id": "A5FLY1vOVcad"
      },
      "execution_count": null,
      "outputs": []
    },
    {
      "cell_type": "code",
      "source": [
        "data.dropna(inplace = True)  #Drop rows with missing values or use impulation techinques\n",
        "\n",
        "X = data.drop('target.column', axis = 1)\n",
        "y = data['target_column']"
      ],
      "metadata": {
        "id": "ICsktltqVpbN"
      },
      "execution_count": null,
      "outputs": []
    },
    {
      "cell_type": "code",
      "source": [
        "X_train , X_test , y_train , y_test = train_test_split(X, y, test_size = 0.2 , random_state = 42)\n"
      ],
      "metadata": {
        "id": "0rnY74NjV-zv"
      },
      "execution_count": null,
      "outputs": []
    },
    {
      "cell_type": "code",
      "source": [
        "model = RandomForestClassifier(n_estimators = 100, random_state = 42)\n",
        "\n",
        "model.fit(X_train , y_train)\n",
        "\n",
        "y_pred = model.predict(X_test)"
      ],
      "metadata": {
        "id": "wIya_GrUWLZc"
      },
      "execution_count": null,
      "outputs": []
    },
    {
      "cell_type": "code",
      "source": [
        "accuracy = accuracy_score(y_test, y_pred)\n",
        "print(f\"Accuracy: {accuracy}\")\n",
        "\n",
        "print('Classification Report:')\n",
        "print(classification_report(y_test , y_pred))\n",
        "\n",
        "#Visualize Confusion Matrix\n",
        "cm = confusion_matrix(y_test, y_pred)\n",
        "plt.figure(figsize = (8,6))\n",
        "sns.heatmap(cm, annot = True, fmt = 'd' , cmap = 'Blues' , cbar = Flase)\n",
        "plt.xlabel('Predicted')\n",
        "plt.ylabel('Actual')\n",
        "plt.title('Confusion Matrix')\n",
        "plt.show()"
      ],
      "metadata": {
        "id": "lqnh0FlwWY0j"
      },
      "execution_count": null,
      "outputs": []
    },
    {
      "cell_type": "code",
      "source": [
        "import numpy as np\n",
        "import pandas as pd\n",
        "from sklearn.datasets import load_breast_cancer\n",
        "from sklearn.model_selection import train_test_split\n",
        "from sklearn.ensemble import RandomForestClassifier\n",
        "from sklearn.metrics import accuracy_score, confucion_matrix , classification_report\n",
        "import matplotlib.pyplot as plt\n",
        "import seaborn as sns"
      ],
      "metadata": {
        "id": "mCnp6aKcXHYK"
      },
      "execution_count": null,
      "outputs": []
    },
    {
      "cell_type": "code",
      "source": [
        "#Load the breast cancer dataset\n",
        "data = load_breast_cancer()\n",
        "\n",
        "#Convert the dataset to a DataFrame\n",
        "df = pd.DataFrame(data.data, columns = data.feature_names)\n",
        "df['target'] = data.target\n",
        "\n",
        "#Explore the dataset\n",
        "print(df.head()) #Display the first few rows\n",
        "print(df.info()) #Summary of columns and data types\n"
      ],
      "metadata": {
        "id": "wGqJ6x_dXuZv"
      },
      "execution_count": null,
      "outputs": []
    },
    {
      "cell_type": "code",
      "source": [
        "#No preprocessing steps required as the internet\n",
        "#split into features and target variables\n",
        "X = df.drop('target' , axis = 1) #Features\n",
        "y = df['target'] # Target variable"
      ],
      "metadata": {
        "id": "ZH_aodktYQGE"
      },
      "execution_count": null,
      "outputs": []
    },
    {
      "cell_type": "code",
      "source": [
        "X_train , X_test , y_train , y_test = train_test_split(X, y, test_size = 0.2, random_state = 42)\n"
      ],
      "metadata": {
        "id": "b--80HroYhbv"
      },
      "execution_count": null,
      "outputs": []
    },
    {
      "cell_type": "code",
      "source": [
        "model = RandomForestClassifier(n_estimators = 100, random_state = 42)\n",
        "\n",
        "#Fit the model to the following training data set\n",
        "model.fit(X_train , y_train)\n",
        "\n",
        "#Make predictions on the test set\n",
        "y_pred = model.predict(X_test)"
      ],
      "metadata": {
        "id": "jseuKgE2YtMJ"
      },
      "execution_count": null,
      "outputs": []
    },
    {
      "cell_type": "code",
      "source": [
        "#Calculate accuracy\n",
        "accuracy = accuracy_score(y_test , y_pred)\n",
        "print(f\"Accuracy : {accuracy}\")\n",
        "\n",
        "#Display a classification report\n",
        "print(\"Classification Report: \")\n",
        "print(classification_report(y_test, y_pred))\n",
        "\n",
        "#Visualize Confusion Matrix\n",
        "cm = confusion_matrix(y_test , y_pred)\n",
        "plt.figure(figsize = (8,8))\n",
        "sns.heatmap(cm, annot = True , fmt= 'd' , cmap = 'Blues', cbar=False)\n",
        "plt.xlabel('Predicted')\n",
        "plt.ylabel('Actual')\n",
        "plt.title('Confusion Matrix')\n",
        "plt.show()"
      ],
      "metadata": {
        "id": "PyvTj-SZZAH2"
      },
      "execution_count": null,
      "outputs": []
    },
    {
      "cell_type": "code",
      "source": [],
      "metadata": {
        "id": "tDylnwRZZtCQ"
      },
      "execution_count": null,
      "outputs": []
    }
  ]
}