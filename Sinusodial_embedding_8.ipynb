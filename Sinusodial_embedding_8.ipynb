{
  "nbformat": 4,
  "nbformat_minor": 0,
  "metadata": {
    "colab": {
      "provenance": [],
      "authorship_tag": "ABX9TyN+HZe0SiaZd8cwhSzNrqPz",
      "include_colab_link": true
    },
    "kernelspec": {
      "name": "python3",
      "display_name": "Python 3"
    },
    "language_info": {
      "name": "python"
    }
  },
  "cells": [
    {
      "cell_type": "markdown",
      "metadata": {
        "id": "view-in-github",
        "colab_type": "text"
      },
      "source": [
        "<a href=\"https://colab.research.google.com/github/Ahtesham519/Genrative_Deep_learning_v2_2023/blob/main/Sinusodial_embedding_8.ipynb\" target=\"_parent\"><img src=\"https://colab.research.google.com/assets/colab-badge.svg\" alt=\"Open In Colab\"/></a>"
      ]
    },
    {
      "cell_type": "code",
      "execution_count": null,
      "metadata": {
        "id": "LBKDJBLbJ2-y"
      },
      "outputs": [],
      "source": [
        "import numpy as np\n",
        "import math\n",
        "import matlplotlib.pyplot as plt\n",
        "plt.style.use(\"seaborn-v0_8-colorblind\")\n"
      ]
    },
    {
      "cell_type": "code",
      "source": [
        "frequencies = np.exp(\n",
        "    np.linspace(\n",
        "        np.log(1),\n",
        "        np.log(1000),\n",
        "        32 // 2,\n",
        "    )\n",
        ")"
      ],
      "metadata": {
        "id": "rGWYyxW2KHB_"
      },
      "execution_count": null,
      "outputs": []
    },
    {
      "cell_type": "code",
      "source": [
        "embedding_list = []\n",
        "for y in np.arange(0,1,0.01):\n",
        "  x = np.array([[[[y]]]])\n",
        "  angular_speeds = 2.0 * math.pi * frequencies\n",
        "  embeddings = np.concatenate(\n",
        "      [np.sin(angular_speeds * x), np.cos(angular_speeds * x)], axis = 3\n",
        "  )\n",
        "  embedding_list.append(embeddings[0][0][0])\n",
        "embedding_array = np.transpose(embedding_list)\n"
      ],
      "metadata": {
        "id": "egDt3n2HKOEJ"
      },
      "execution_count": null,
      "outputs": []
    },
    {
      "cell_type": "code",
      "source": [
        "plt.figure(figsize = (8,6))\n",
        "plt.imshow(\n",
        "    embedding_arrat, cmap = \"coolwarm\" , interpolation = \"nearest\" , origin = \"lower\"\n",
        ")\n",
        "\n",
        "plt.show()"
      ],
      "metadata": {
        "id": "HsqVdskvKtvL"
      },
      "execution_count": null,
      "outputs": []
    },
    {
      "cell_type": "code",
      "source": [
        "def positionalencoding1d(d_model, length):\n",
        "  if d_model % 2 ! = 0:\n",
        "  raise ValueError(\n",
        "      \"Cannot use sin/cos positional encoding with\"\n",
        "      \"odd dim (got dim = {:d})\" .format(d_model)\n",
        "  )\n",
        "  pe = np.zeros((length, d_model))\n",
        "  position = np.array(list([x] for x in np.arange(0, length)))\n",
        "  div_term = np.exp(\n",
        "      (np.arange(0, d_model , 2) * -(math.log(10000.0) / d_model))\n",
        "  )\n",
        "  pe[:, : d_model // 2] = np.sin(position * div_term)\n",
        "  pe[:, d_model // 2 :] = np.cos(position * div_term)\n",
        "\n",
        "  return pe"
      ],
      "metadata": {
        "id": "1GLjagyxK6Rl"
      },
      "execution_count": null,
      "outputs": []
    },
    {
      "cell_type": "code",
      "source": [
        "out = np.transpose(positionalencoding1d(32, 100))\n",
        "plt.imshow(out, cmap = \"coolwarm\", interpolation = \"nearest\" , origin = \"lower\" )\n",
        "plt.show()"
      ],
      "metadata": {
        "id": "SrK9EAK9Lr26"
      },
      "execution_count": null,
      "outputs": []
    },
    {
      "cell_type": "code",
      "source": [],
      "metadata": {
        "id": "E7FW6ocdL6XJ"
      },
      "execution_count": null,
      "outputs": []
    }
  ]
}