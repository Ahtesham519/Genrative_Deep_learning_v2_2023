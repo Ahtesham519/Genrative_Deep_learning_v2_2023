{
  "nbformat": 4,
  "nbformat_minor": 0,
  "metadata": {
    "colab": {
      "provenance": [],
      "authorship_tag": "ABX9TyPMGMWIIVgaWpfCLNuM1m+1",
      "include_colab_link": true
    },
    "kernelspec": {
      "name": "python3",
      "display_name": "Python 3"
    },
    "language_info": {
      "name": "python"
    }
  },
  "cells": [
    {
      "cell_type": "markdown",
      "metadata": {
        "id": "view-in-github",
        "colab_type": "text"
      },
      "source": [
        "<a href=\"https://colab.research.google.com/github/Ahtesham519/Genrative_Deep_learning_v2_2023/blob/main/Utils_4.ipynb\" target=\"_parent\"><img src=\"https://colab.research.google.com/assets/colab-badge.svg\" alt=\"Open In Colab\"/></a>"
      ]
    },
    {
      "cell_type": "code",
      "execution_count": null,
      "metadata": {
        "id": "ai4daMtS-dMm"
      },
      "outputs": [],
      "source": [
        "import matplotlib.pyplot as plt\n",
        "\n",
        "def sample_batch(dataset):\n",
        "  batch = dataset.take(1).get_single_element()\n",
        "  if instance(batch, tuple):\n",
        "    batch = batch[0]\n",
        "  return batch.numpy()\n",
        "\n",
        "\n",
        "def display(\n",
        "    images, n = 10 , size = (20, 3) , cmap = \"gray_r\" , as_type = \"float32\",  save_to = None\n",
        "):\n",
        "\"\"\"\n",
        "Display n random images from each one of the supplied arrays.\n",
        "\"\"\"\n",
        "\n",
        "    if images.max() > 1.0:\n",
        "       images = images /255.0\n",
        "    elif images.min() < 0.0:\n",
        "      images = (images + 1.0)\n",
        "\n",
        "    plt.figure(figsize = size)\n",
        "    for i in range(n):\n",
        "      _ = plt.subplot(1,n, i+ 1)\n",
        "      plt.imshow(images[i].astype(as_type), cmap=cmap)\n",
        "      plt.axis(\"off\")\n",
        "\n",
        "    if save_to:\n",
        "      plt.savefig(save_to)\n",
        "      print(f\"\\nSaved to {save_to}\")\n",
        "\n",
        "    plt.show()\n",
        "\n",
        "\n"
      ]
    }
  ]
}