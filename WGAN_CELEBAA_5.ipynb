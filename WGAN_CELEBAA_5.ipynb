{
  "nbformat": 4,
  "nbformat_minor": 0,
  "metadata": {
    "colab": {
      "provenance": [],
      "authorship_tag": "ABX9TyPFjS3F8LpWj813ni3YumT0",
      "include_colab_link": true
    },
    "kernelspec": {
      "name": "python3",
      "display_name": "Python 3"
    },
    "language_info": {
      "name": "python"
    }
  },
  "cells": [
    {
      "cell_type": "markdown",
      "metadata": {
        "id": "view-in-github",
        "colab_type": "text"
      },
      "source": [
        "<a href=\"https://colab.research.google.com/github/Ahtesham519/Genrative_Deep_learning_v2_2023/blob/main/WGAN_CELEBAA_5.ipynb\" target=\"_parent\"><img src=\"https://colab.research.google.com/assets/colab-badge.svg\" alt=\"Open In Colab\"/></a>"
      ]
    },
    {
      "cell_type": "code",
      "execution_count": null,
      "metadata": {
        "id": "5Vq3Q4rqcowo"
      },
      "outputs": [],
      "source": [
        "%load_ext autoreload\n",
        "%autoreload 2\n",
        "import numpy as np\n",
        "\n",
        "import tensorflow as tf\n",
        "from tensorflow.kears import(\n",
        "    Sequential,\n",
        "    layers,\n",
        "    optimizers,\n",
        "    losses,\n",
        "    metrics,\n",
        "    callbacks,\n",
        "    models,\n",
        "\n",
        ")\n",
        "\n"
      ]
    },
    {
      "cell_type": "markdown",
      "source": [
        "#0. Parameters"
      ],
      "metadata": {
        "id": "lLkyQDgDvSh_"
      }
    },
    {
      "cell_type": "code",
      "source": [
        "IMAGE_SIZE = 64\n",
        "CHANNELS = 3\n",
        "BATCH_SIZE = 512\n",
        "NUM_FEATURES = 64\n",
        "Z_DIM = 128\n",
        "LEARNING_RATE = 0.0002\n",
        "ADAM_BETA_1 = 0.5\n",
        "ADAM_BETA_2 = 0.999\n",
        "EPOCHS = 200\n",
        "CRITIC_STEPS = 3\n",
        "GP_WEIGHT = 10.0\n",
        "LOAD_MODEL = False\n",
        "ADAM_BETA_1 = 0.5\n",
        "ADAM_BETA_2 = 0.9\n"
      ],
      "metadata": {
        "id": "Oi_AfSvcvRxi"
      },
      "execution_count": null,
      "outputs": []
    },
    {
      "cell_type": "markdown",
      "source": [
        "#1. Prepare the data"
      ],
      "metadata": {
        "id": "I5IHv9QowC0Y"
      }
    },
    {
      "cell_type": "code",
      "source": [
        "#Load the data\n",
        "train_data = utils.image_dataset_from_directory(\n",
        "    \"/app/data/celeba-dataset/img_align_celeba/img_align_celeba\",\n",
        "    labels=None,\n",
        "    color_mode=\"rgb\",\n",
        "    batch_size=BATCH_SIZE,\n",
        "    image_size=(IMAGE_SIZE, IMAGE_SIZE),\n",
        "    shuffle=True,\n",
        "    seed = 42,\n",
        "    interpolation = \"bilinear\",\n",
        ")"
      ],
      "metadata": {
        "id": "TISUAXinwBYU"
      },
      "execution_count": null,
      "outputs": []
    },
    {
      "cell_type": "code",
      "source": [
        "#Preprocess the data\n",
        "def preprocess_image(image):\n",
        "    \"\"\"\n",
        "    Normalize and reshape the images\n",
        "    \"\"\"\n",
        "    img = tf.cast(image, tf.float32)\n",
        "    return img\n",
        "\n",
        "train = train_data.map(lambda x: preprocess(x))"
      ],
      "metadata": {
        "id": "YmgsbmApwbbs"
      },
      "execution_count": null,
      "outputs": []
    },
    {
      "cell_type": "code",
      "source": [
        "#Show some features faces from the training set\n",
        "train_sample = sample_batch(train)\n"
      ],
      "metadata": {
        "id": "mePRLI2zwsTT"
      },
      "execution_count": null,
      "outputs": []
    },
    {
      "cell_type": "code",
      "source": [
        "display(train_sample, cmap = None)"
      ],
      "metadata": {
        "id": "3l1J-1Pzw0cf"
      },
      "execution_count": null,
      "outputs": []
    },
    {
      "cell_type": "markdown",
      "source": [
        "#2. Bulid the WGAN-GP"
      ],
      "metadata": {
        "id": "r0jlVZ06w4Zb"
      }
    },
    {
      "cell_type": "code",
      "source": [
        "critic_input = layers.Input(shape = (IMAGE_SIZE, IMAGE_SIZE, CHANNELS))\n",
        "x = layers.Conv2D(64, kernel_size = 4, strides = 2, padding = \"same\")(critic_input)\n",
        "x = layers.LeakyReLU(alpha = 0.2)(x)\n",
        "x = layers.Conv2D(128, kernel_size = 4, strides = 2, padding = \"same\")(x)\n",
        "x = layers.Dropout(0.3)(x)\n",
        "x = layers.Conv2D(256, kernel_size = 4, strides = 2, padding = \"same\")(x)\n",
        "x = layers.LeakyReLU(alpha = 0.2)(x)\n",
        "x = layers.Dropout(0.3)(x)\n",
        "x = layers.Conv2D(512, kernel_size = 4, strides = 2, padding = \"same\")(x)\n",
        "x = layers.LeakyReLU(0.2)(x)\n",
        "x = layers.Dropout(0.3)(x)\n",
        "x = layers.Conv2D(1, kernel_size = 4, strides = 1 , padding = \"valid\")(x)\n",
        "critic_output = layers..Flatten()(x)\n",
        "\n",
        "critic = models.Model(critic_input , critic_output)\n",
        "critic.summary()\n",
        "\n",
        "\n"
      ],
      "metadata": {
        "id": "J9B5P3nKw3WH"
      },
      "execution_count": null,
      "outputs": []
    },
    {
      "cell_type": "code",
      "source": [
        "generator_input = layers.Input(shape = (Z_DIM,))\n",
        "x = layers.Reshape((1,1,Z_DIM))(generator_input)\n",
        "x = layers.Conv2DTranspose(\n",
        "    512, kernel_size = 4, strides = 1, padding = \"valid \", use_bias = False\n",
        ")(x)\n",
        "x = layers.BatchNormlization(momentum = 0.9)(x)\n",
        "x = layers.LeakyReLU(0.2)(x)\n",
        "x = layers.Conv2DTranspose(\n",
        "    256, kernel_size = 4, strides = 2, padding = \"same\", use_bias = False\n",
        ")(x)\n",
        "x = layers.BatchNormalization(momentum = 0.9)(x)\n",
        "x = layers.LeakyReLU(0.2)(x)\n",
        "x = layers.Conv2DTranspose(\n",
        "    128, kernel_size = 4, strides = 2, padding = \"same\", use_bias = False\n",
        ")(x)\n",
        "x = layers.BatchNormalization(momentum = 0.9)(x)\n",
        "x = layers.LeakyReLU(0.2)(x)\n",
        "x = layers.Conv2DTranspose(\n",
        "    64, kernel_size = 4, strides = 2, padding = \"same\", use_bias = False\n",
        ")(x)\n",
        "x = layers.BatchNormalization(momentum = 0.9)(x)\n",
        "x = layers.LeakyReLU(0.2)(x)\n",
        "generator_output = layers.Conv2DTranspose(\n",
        "    CHANNELS , kernel_size = 4, strides = 2, padding = \"same\", activation = \"tanh\"\n",
        ")(x)\n",
        "generator = models.Model(generator_input , generator_output)\n",
        "generator.summary()"
      ],
      "metadata": {
        "id": "eV8XJPitySfq"
      },
      "execution_count": null,
      "outputs": []
    },
    {
      "cell_type": "code",
      "source": [
        "class = WGANGP(models.Model):\n",
        "  def __init__(self, critic, generator, latent_dim , critic_steps , gp_weight):\n",
        "    super(WGANGP, self).__init__()\n",
        "    self.critic = critic\n",
        "    self.generator = generator\n",
        "    self.latent_dim = latent_dim\n",
        "    self.critic_steps = critic_steps\n",
        "    self.gp_weight = gp_weight\n",
        "\n",
        "  def compile(self, c_optimizer , g_optimizer):\n",
        "    super(WGANGP  , self).compile()\n",
        "    self.c_optimizer = c_optimizer\n",
        "    self.g_optimizer = g_optimizer\n",
        "    self.c_wass_loss_metric = metrics.Mean(name = \"c_wass_loss\")\n",
        "    self.c_gp_metric = metrics.Mean(name = \"c_gp\")\n",
        "    self.c_loss_metric = metrics.Mean(name = \"c_loss\")\n",
        "    self.g_loss_metric = metircs.Mean(name = \"g_loss\")\n",
        "\n",
        "\n",
        "  @property\n",
        "  def metrics(self):\n",
        "    return [\n",
        "        self.c_loss_metric,\n",
        "        self.c_wass_loss_metric,\n",
        "        self.c_gp_metric,\n",
        "        self.g_loss_metric,\n",
        "    ]\n",
        "\n",
        "\n",
        "  def gradient_penalty(self, batch_size , real_images , fake_images):\n",
        "    alpha = tf.random.normal([batch_size , 1, 1, 1], 0.0, 1.0)\n",
        "    diff = fake_images - real_images\n",
        "    interpolated = real_images + alpha * diff\n",
        "\n",
        "    with tf.GradientTape() as gp_tape:\n",
        "      gp_tape.watch(interpolated)\n",
        "      pred = self.critic(interpolated , training = True)\n",
        "\n",
        "    grads = gp_tape.gradient(pred , [interpolated])[0]\n",
        "    norm = tf.sqrt(tf.reduce_sum(tf.square(grads) , axis = [1, 2,3]))\n",
        "    gp = tf.reduce_mean((norm - 1.0) ** 2)\n",
        "    return gp\n",
        "\n",
        "  def train_step(self, real_images):\n",
        "    batch_size = tf.shape(real_images)[0]\n",
        "\n",
        "    for i in range(self.critic_steps):\n",
        "      random_latent_vectors = tf.random.normal(\n",
        "          shape = (batch_size , self.latent_dim)\n",
        "      )\n",
        "\n",
        "      with tf.GradientTape() as tape:\n",
        "        fake_images = self.generator(\n",
        "            random_latent_vectors , training = True\n",
        "        )\n",
        "        fake_predictions = self.critic(fake_images , training = True)\n",
        "        real_predictions = self.critic(real_images , training = True)\n",
        "\n",
        "        c_wass_loss = tf.reduce_mean(fake_predictions) - tf.reduce_mean(\n",
        "            real_predictions\n",
        "        )\n",
        "        c_gp = self.gradient_penalty(\n",
        "            batch_size , real_images , fake_images\n",
        "        )\n",
        "        c_loss = c_wass_loss + c_gp * self.gp_weight\n",
        "\n",
        "    c_gradient = tape.gradient(c_loss, self.critic.trainable_variables)\n",
        "    self.c_optimizer.apply_gradients(\n",
        "        zip(c_gradient, self.critic.trainable_variables)\n",
        "    )\n",
        "\n",
        "  random_latent_vectors = tf.random.normal(shape = (batch_size , self.latent_dim))\n",
        "  with tf.GradientTape() as tape:\n",
        "    fake_images =self.generator(random_latent_vectors , training = True)\n",
        "    fake_predictions = self.critic(fake_images , training = True)\n",
        "    g_loss = -tf.reduce_mean(fake_predictions)\n",
        "\n",
        "  ge_gradients = tape.gradeint(g_loss , self.generator.trainable_variables)\n",
        "  self.g_optimizer.apply_gradients(\n",
        "      zip(gen_gradient , self.generator.trainable_variables)\n",
        "  )\n",
        "\n",
        "  self.c_loss_metric.update_state(c_loss)\n",
        "  self.c_wass_loss_metric.update_state(c_wass_loss)\n",
        "  self.c_gp_metric.update_state(c_wass_loss)\n",
        "  self.g_loss_metric.update_state(g_loss)\n",
        "\n",
        "  return {m.name : m.result() for m in self.metrics}"
      ],
      "metadata": {
        "id": "gIHC1-3Lz-fY"
      },
      "execution_count": null,
      "outputs": []
    },
    {
      "cell_type": "code",
      "source": [
        "#Create a GAN\n",
        "wgangp = WGANGP(\n",
        "    critic = critc,\n",
        "    generator =  generator,\n",
        "    latent_dim = Z_DIM,\n",
        "    critic_steps = CRITIC_STEPS,\n",
        "    gp_weight = GP_WEIGHT,\n",
        ")"
      ],
      "metadata": {
        "id": "T65I4F7j1Re0"
      },
      "execution_count": null,
      "outputs": []
    },
    {
      "cell_type": "code",
      "source": [
        "if LOAD_MODEL:\n",
        "  wgangp.load_weights(\"./checkpoint/checkpoint.ckpt\")"
      ],
      "metadata": {
        "id": "2I9tFYBp5aN_"
      },
      "execution_count": null,
      "outputs": []
    },
    {
      "cell_type": "markdown",
      "source": [
        "#Train the GAN"
      ],
      "metadata": {
        "id": "Z5D8-c775g06"
      }
    },
    {
      "cell_type": "code",
      "source": [
        "#complie the GAN\n",
        "wgangp.compile(\n",
        "    c_optimizer = optimizers.Adam(\n",
        "        learning_rate = LEARNING_RATE,\n",
        "        beta_1 = ADAM_BETA_1,\n",
        "        beta_2 = ADAM_BETA_2,\n",
        "    ),\n",
        "    g_optimizer = optimizers.Adam(\n",
        "        learning_rate = LEARNING_RATE ,\n",
        "        beta_1 = ADAM_BETA_1,\n",
        "        beta_2 = ADAM_BETA_2,\n",
        "    ),\n",
        ")"
      ],
      "metadata": {
        "id": "IDa7XijE5f1o"
      },
      "execution_count": null,
      "outputs": []
    },
    {
      "cell_type": "code",
      "source": [
        "#Create a model save checkpoint\n",
        "model_checkpoint_callback = callbacks.ModelCheckpoint(\n",
        "    filepath = \"./checkpoint/checkpoint.ckpt\",\n",
        "    save_weights_only = True,\n",
        "    save_freq  = \"epoch\",\n",
        "    verbose = 0,\n",
        ")\n",
        "\n",
        "tensorboard_callback = callbacks.TensorBoard(log_dir = \"./logs\")\n",
        "\n",
        "\n",
        "class ImageGenerator(callbacks.Callback):\n",
        "  def __init__(self, num_img, latent_dim):\n",
        "    self.num_img = num_img\n",
        "    self.latent_dim = latent_dim\n",
        "\n",
        "  def on_epoch_end(self, epoch, logs = None):\n",
        "    random_latent_vectors = tf.random.normal(shape = (self.num_img , self.latent_dim))\n",
        "\n",
        "    generated_iamges = self.model.generated(random_latent_vectors)\n",
        "    generated_iamges = generated_images * 127.5 + 127.5\n",
        "    generated_images = generated_images.numpy()\n",
        ""
      ],
      "metadata": {
        "id": "qXFD3Z7g6CLl"
      },
      "execution_count": null,
      "outputs": []
    },
    {
      "cell_type": "code",
      "source": [
        "wgangp.fit(\n",
        "    train,\n",
        "    epochs = EPOCHS,\n",
        "    steps_per_epoch = 2,\n",
        "    callbacks= [\n",
        "        model_checkpoint_callback,\n",
        "        tensorboard_callback,\n",
        "        ImageGenerator(num_img = 10, latent_dim = Z_DIM),\n",
        "    ],\n",
        ")"
      ],
      "metadata": {
        "id": "REzWZAd67H3_"
      },
      "execution_count": null,
      "outputs": []
    },
    {
      "cell_type": "code",
      "source": [
        "#Save the final models\n",
        "generator.save(\"./models/generator\")\n",
        "critic.save(\"./models/critic\")"
      ],
      "metadata": {
        "id": "qoX_mwSP7etw"
      },
      "execution_count": null,
      "outputs": []
    },
    {
      "cell_type": "markdown",
      "source": [
        "#Generate images"
      ],
      "metadata": {
        "id": "efOaLLCx7oRK"
      }
    },
    {
      "cell_type": "code",
      "source": [
        "z_sample = np.random.normal(size = (10, Z_DIM))\n",
        "imgs = wgangp.generator.predict(z_sample)\n",
        "display(imgs, cmap = None)"
      ],
      "metadata": {
        "id": "kv-FxJrI7nOL"
      },
      "execution_count": null,
      "outputs": []
    }
  ]
}