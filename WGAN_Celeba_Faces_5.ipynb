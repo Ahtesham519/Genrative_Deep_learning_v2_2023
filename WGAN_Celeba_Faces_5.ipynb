{
  "nbformat": 4,
  "nbformat_minor": 0,
  "metadata": {
    "colab": {
      "provenance": [],
      "authorship_tag": "ABX9TyP4UA5rSZO75LTf9oIGMLCi",
      "include_colab_link": true
    },
    "kernelspec": {
      "name": "python3",
      "display_name": "Python 3"
    },
    "language_info": {
      "name": "python"
    }
  },
  "cells": [
    {
      "cell_type": "markdown",
      "metadata": {
        "id": "view-in-github",
        "colab_type": "text"
      },
      "source": [
        "<a href=\"https://colab.research.google.com/github/Ahtesham519/Genrative_Deep_learning_v2_2023/blob/main/WGAN_Celeba_Faces_5.ipynb\" target=\"_parent\"><img src=\"https://colab.research.google.com/assets/colab-badge.svg\" alt=\"Open In Colab\"/></a>"
      ]
    },
    {
      "cell_type": "code",
      "execution_count": null,
      "metadata": {
        "id": "8AbfFG0uyOC1"
      },
      "outputs": [],
      "source": [
        "%load_ext autoreload\n",
        "%autoreload 2\n",
        "import numpy as np\n",
        "\n",
        "import tensorflow as tf\n",
        "from tensorflow.keras import(\n",
        "    layers,\n",
        "    models,\n",
        "    utils,\n",
        "    callbacks,\n",
        "    metrics,\n",
        "    optimizers,\n",
        ")\n",
        "\n"
      ]
    },
    {
      "cell_type": "markdown",
      "source": [
        "#0. Parameters"
      ],
      "metadata": {
        "id": "xAkkd0IDyt_1"
      }
    },
    {
      "cell_type": "code",
      "source": [
        "IMAGE_SIZE = 64\n",
        "CHANNELS = 3\n",
        "BATCH_SIZE  = 512\n",
        "NUM_FEATURES = 64\n",
        "Z_DIM = 128\n",
        "LEARNING_RATE = 0.0002\n",
        "ADAM_BETA_1 = 0.5\n",
        "ADAM_BETA_2 = 0.999\n",
        "EPOCHS = 200\n",
        "CRITIC_STEPS = 3\n",
        "GP_WEIGHT = 10.0\n",
        "LOAD_MODEL = False\n",
        "ADAM_BETA_1 = 0.5\n",
        "ADAM_BETA_2 = 0.9\n"
      ],
      "metadata": {
        "id": "8Ntlrk_oysqm"
      },
      "execution_count": null,
      "outputs": []
    },
    {
      "cell_type": "markdown",
      "source": [
        "#1. Prepare the data\n"
      ],
      "metadata": {
        "id": "zTs93_hwzJtA"
      }
    },
    {
      "cell_type": "code",
      "source": [
        "#Load the data\n",
        "train_data = utils.image_Dataset_from_directory(\n",
        "    \"app/data/celeba-dataset/img_align_celeba/train\",\n",
        "    labels = None,\n",
        "    color_mode = \"rbg\",\n",
        "    image_size = (IMAGE_SIZE , IMAGE_SIZE),\n",
        "    batch_size = BATCH_SIZE ,\n",
        "    shuffle = True,\n",
        "    seed = 42,\n",
        "    interpolation = \"bilinear\",\n",
        ")"
      ],
      "metadata": {
        "id": "FiScR-7DzJF-"
      },
      "execution_count": null,
      "outputs": []
    },
    {
      "cell_type": "code",
      "source": [
        "#preprocess the data\n",
        "def preprocess(img):\n",
        "  \"\"\"\n",
        "  Normalize and reshape the images\n",
        "  \"\"\"\n",
        "  img = (tf.cast(img, \"float32\") - 127.5) / 127.5\n",
        "  return img\n",
        "\n",
        "train = train_data.map(lambda x: preprocess(x))\n",
        "\n"
      ],
      "metadata": {
        "id": "ltUYjkH5ziTS"
      },
      "execution_count": null,
      "outputs": []
    },
    {
      "cell_type": "code",
      "source": [
        "#show some faces from the training set\n",
        "train_sample = sample_batch(train)"
      ],
      "metadata": {
        "id": "pBUtjYOPzy6l"
      },
      "execution_count": null,
      "outputs": []
    },
    {
      "cell_type": "markdown",
      "source": [
        "#2. Bulid the WGAN-GP"
      ],
      "metadata": {
        "id": "SyltAt1pz6Zu"
      }
    },
    {
      "cell_type": "code",
      "source": [
        "critic_input = layers.Input(shape = (IMAGE_SIZE , IMAGE_SIZE , CHANNELS))\n",
        "x = layers.Conv2D(64, kernel_size = 4, strides = 2, padding = \"same\")(critic_input)\n",
        "x = layers.LeakyReLU(0.2)(x)\n",
        "x = layers.Conv2D(128, kernel_size = 4, strides = 2, padding = \"same\")(x)\n",
        "x = layers.LeakyReLU()(x)\n",
        "x = layers.Dropout(0.3)(x)\n",
        "x = layers.Conv2D(256, kernel_size = 4, strides = 2, padding = \"same\")(x)\n",
        "x = layers.LeakyReLU()(x)\n",
        "x = layers.Dropout(0.3)(x)\n",
        "x = layers.Conv2D(512, kernel_size = 4, strides = 2, paddding = \"same\")(x)\n",
        "x = layers.LeakyReLU()(x)\n",
        "x = layers.Dropout(0.3)(x)\n",
        "x = layers.Conv2D(1, kernel_size = 4, strides = 1, padding = \"same\")(x)\n",
        "critic_output = layers.Flatten()(x)\n",
        "\n",
        "\n",
        "critic = models.Model(critic_input, critic_output)\n",
        "critic.summary()"
      ],
      "metadata": {
        "id": "iLkUyes_z5EV"
      },
      "execution_count": null,
      "outputs": []
    },
    {
      "cell_type": "code",
      "source": [
        "generator_input = layers.Input(shape = (Z_DIM, ))\n",
        "x = layers.Rehsape((1, 1, Z_DIM))(generator_input)\n",
        "x = layers.Conv2DTranspose(512, kernel_size = 4, strides = 1, padding = \"valid\", use_bias =  False)(x)\n",
        "x = layers.BatchNormalization()(x)\n",
        "x = layers.LeakyReLU()(x)\n",
        "x = layers.Conv2DTranspose(256, kernel_size = 4, strides  = 2, padding = \"same\", use_bias = False)(x)\n",
        "x = layers.BatchNormalization()(x)\n",
        "x = layers.LeakyReLU()(x)\n",
        "x = layers.Conv2DTranspose(128, kernel_size = 4, strides = 2 , padding = \"same\" , use_bias = False)(x)\n",
        "x = layers.BatchNormalization(momentum = 0.9)(x)\n",
        "x = layers.LeakyReLU()(x)\n",
        "x = layers.Conv2DTranspose(64, kernel_size = 4, strides = 2, padding = \"same\", use_bias = False)(x)\n",
        "x = layers.BatchNomalization(momentum = 0.9)(x)\n",
        "x = layers.LeakyReLU()(x)\n",
        "generator_output = layers.Conv2DTranspose(CHANNELS, kernel_size = 4, strides =2 , padding = \"same\", activaton = \"tanh\")(x)\n",
        "\n",
        "generator = models.Model(generator_input , generator_output)\n",
        "generator.summary()"
      ],
      "metadata": {
        "id": "t5lq5ahI0-oQ"
      },
      "execution_count": null,
      "outputs": []
    },
    {
      "cell_type": "code",
      "source": [
        "class WGANGP(models.Model):\n",
        "  def __init(self, critic, generator, latent_dim , critic_steps, gp_weight ):\n",
        "    super(WGANGP, self).__init__()\n",
        "    self.critic = critic\n",
        "    self.generator = generator\n",
        "    self.latent_dim = latent_dim\n",
        "    self.critic_steps = critic_steps\n",
        "    self.gp_weight = gp_weight\n",
        "\n",
        "  def compile(self, c_optimizer , g_optimizer):\n",
        "    super(WGANGP , self).compile()\n",
        "    self.c_optimizer = c_optimizer\n",
        "    self.g_optimizer = g_optimizer\n",
        "    self.d_loss_metric = metrics.Mean(name = \"c_wass_loss\")\n",
        "    self.c_gp_metric = metrics.Mean(name = \"c_gp\")\n",
        "    self.c_loss_metric = metrics.Mean(name = \"c_loss\")\n",
        "    self.g_loss_metric = metrics.Mean(name = \"g_loss\")\n",
        "\n",
        "\n",
        "  @property\n",
        "  def metrics(self):\n",
        "    return[\n",
        "        self.c_loss_metric,\n",
        "        self.c_wass_loss_metric,\n",
        "        self.c_gp_metric,\n",
        "        self.g_loss_metric,\n",
        "    ]\n",
        "\n",
        "\n",
        "  def gradient_penalty(self, batch_size , real_images , fake_images):\n",
        "    alpha = tf.random.normal([batch_size , 1,1,1], 0.0, 1.0)\n",
        "    diff = fake_images - real_images\n",
        "    interpolated = real_images + alpha * diff\n",
        "\n",
        "    with tf.GradientTape() as gp_tape:\n",
        "      gp_tape.watch(interpolated)\n",
        "      pred = self.critic(interpolated , training = True)\n",
        "\n",
        "    grads = gp_tape.gradient(pred, [interpolated])[0]\n",
        "    norm = tf.sqrt(tf.reduce_sum(tf.square(grads), axis = [1,2,3]))\n",
        "    gp = tf.reduce_mean((norm - 1.0) ** 2)\n",
        "    return gp\n",
        "\n",
        "\n",
        "  def train_step(self, real_images):\n",
        "    batch_size = tf.shape(real_images)[0]\n",
        "\n",
        "    for i in range(self.critic_steps):\n",
        "      random_latent_vectors = tf.random.normal(shape = (batch_size , self.latent_dim))\n",
        "\n",
        "      with tf.GradientTape() as tape:\n",
        "        fake_images = self.generator(random_latent_vectors, training= True)\n",
        "        fake_predictions = self.critic(fake_images , training = True)\n",
        "        real_predictions = self.critic(real_images , training = True)\n",
        "\n",
        "        c_wass_loss = tf.reduce_mean(fake_predictions) - tf.reduce_mean(\n",
        "            real_predictions\n",
        "        )\n",
        "        c_gp = self.gradient_penalty(batch_size , real_images , fake_images)\n",
        "        c_loss = c_wass_loss + self.gp_weight\n",
        "\n",
        "      c_gradient = tape.gradient(c_loss, self.critic.trainable_variables)\n",
        "      self.c_optimizer.apply_gradients(\n",
        "          zip(c_gradient , self.critic.trainable_variables)\n",
        "      )\n",
        "\n",
        "      random_latent_vectors = tf.random.normal(\n",
        "          shape = (batch_size , self.latent_dim)\n",
        "      )\n",
        "      with tf.GradientTape() as tape:\n",
        "        fake_images = self.generator(random_latent_vectors , training = True)\n",
        "        fake_prediction = self.critic(fake_images , training = True)\n",
        "        g_loss = -tf.reduce_mean(fake_predictions)\n",
        "\n",
        "      gen_gradient = tape.gradient(g_loss , self.generator.trainable_variables)\n",
        "      self.g_optimizer.apply_gradients(\n",
        "          zip(gen_gradient, self.generator.trainable_variable)\n",
        "      )\n",
        "\n",
        "      self.c_loss_metric.update_state(c_loss)\n",
        "      self.c_wass_loss_metric.update_state(c_wass_loss)\n",
        "      self.c_gp_metric.update_state(c_gp)\n",
        "      self.g_loss_metric.update_state(g_loss)\n",
        "\n",
        "\n",
        "      return {m.name: m.result() for m in self.metrics}\n"
      ],
      "metadata": {
        "id": "68rOJ7NR2f2_"
      },
      "execution_count": null,
      "outputs": []
    },
    {
      "cell_type": "code",
      "source": [
        "#create a GAN\n",
        "wgangp = WGANGP(\n",
        "    critic = critic,\n",
        "    generator = generator,\n",
        "    latent_dim = Z_DIM,\n",
        "    critic_steps = CRITIC_STEPS,\n",
        "    gp_weight = GP_WEIGHT,\n",
        ")"
      ],
      "metadata": {
        "id": "pMCBXwMo6e-F"
      },
      "execution_count": null,
      "outputs": []
    },
    {
      "cell_type": "code",
      "source": [
        "if LOAD_MODEL:\n",
        "  wgangp.load_weights(\"./checkpoint/checkpoint.ckpt\")"
      ],
      "metadata": {
        "id": "n88D3ccH6slZ"
      },
      "execution_count": null,
      "outputs": []
    },
    {
      "cell_type": "markdown",
      "source": [
        "#3. Train the GAN"
      ],
      "metadata": {
        "id": "bX2AyQx461V6"
      }
    },
    {
      "cell_type": "code",
      "source": [
        "#compile the GAN\n",
        "wganpgp.compile(\n",
        "    c_optimizer = optimizers.Adam(learning_rate = LEARNING_RATE , beta_1 = ADAM_BETA_1, beta_2 = ADAM_BETA_2),\n",
        "    g_optimizer = optimizers.Adam(learning_rate = LEARNING_RATE,  beta_1 = ADAM_BETA_1, beta_2 = ADAM_BETA_2),\n",
        "),\n"
      ],
      "metadata": {
        "id": "5D8HEYAt60dy"
      },
      "execution_count": null,
      "outputs": []
    },
    {
      "cell_type": "code",
      "source": [
        "#create a model save a checkpoint\n",
        "model_checkpoint_callback = callbacks.ModelCheckpoint(\n",
        "    filepath = \"./checkpoint/checkpoint.ckpt\",\n",
        "    save_weights_only = True,\n",
        "    save_freq = \"epoch\",\n",
        "    verbose = 0,\n",
        ")\n",
        "\n",
        "tensorboard_callback = callbacks.TensorBoard(log_dir = \"./logs\")\n",
        "\n",
        "\n",
        "class ImageGenerator(callbacks.Callback):\n",
        "  def __init__(self, num_img , latent_dim):\n",
        "    self.num_img = num_img\n",
        "    self.latent_dim = latent_dim\n",
        "\n",
        "  def on_epoch_end(self, epoch , logs = None):\n",
        "    random_latent_vectors = tf.random.normal(shape = (self.num_img , self.latent_dim))\n",
        "    generated_images = self.model.generator(random_latent_vectors)\n",
        "    generated_images = generated_images * 127.5 + 127.5\n",
        "    generated_images = generated_iamges.numpy()\n",
        "    display(\n",
        "        generated_images ,\n",
        "        save_to = \"./output/generated_img%03d.png\" % (epoch),\n",
        "        cmap = None,\n",
        "    )\n",
        ""
      ],
      "metadata": {
        "id": "82CwSSNB7duy"
      },
      "execution_count": null,
      "outputs": []
    },
    {
      "cell_type": "code",
      "source": [
        "wgangp.fit(\n",
        "    train,\n",
        "     epochs = EPCOHS,\n",
        "    step_per_epoch = 2,\n",
        "    callbacks = [\n",
        "        models_checkpoint_callbacks,\n",
        "        tensorboard_callback,\n",
        "        ImageGenerator(num_img = 10 , latent_dim = Z_DIM),\n",
        "        ],\n",
        ")"
      ],
      "metadata": {
        "id": "FvQujAwe80M8"
      },
      "execution_count": null,
      "outputs": []
    },
    {
      "cell_type": "code",
      "source": [
        "#save the final models\n",
        "generator.save(\"./models/generator\")\n",
        "critic.save('./models/critic')"
      ],
      "metadata": {
        "id": "wO987ufV9Jz8"
      },
      "execution_count": null,
      "outputs": []
    },
    {
      "cell_type": "markdown",
      "source": [
        "#Generate images"
      ],
      "metadata": {
        "id": "s2NfWBTy9SZ7"
      }
    },
    {
      "cell_type": "code",
      "source": [
        "z_sample = np.random.normal(size = (10, Z_DIM))\n",
        "immgs = wgangp.generator(z_sample)\n",
        "display(imgs , cmap = None)"
      ],
      "metadata": {
        "id": "tV71sMaC9RjM"
      },
      "execution_count": null,
      "outputs": []
    }
  ]
}