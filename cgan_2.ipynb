{
  "nbformat": 4,
  "nbformat_minor": 0,
  "metadata": {
    "colab": {
      "provenance": [],
      "authorship_tag": "ABX9TyPrVaLP1Whl4SDcr5i4bELS",
      "include_colab_link": true
    },
    "kernelspec": {
      "name": "python3",
      "display_name": "Python 3"
    },
    "language_info": {
      "name": "python"
    }
  },
  "cells": [
    {
      "cell_type": "markdown",
      "metadata": {
        "id": "view-in-github",
        "colab_type": "text"
      },
      "source": [
        "<a href=\"https://colab.research.google.com/github/Ahtesham519/Genrative_Deep_learning_v2_2023/blob/main/cgan_2.ipynb\" target=\"_parent\"><img src=\"https://colab.research.google.com/assets/colab-badge.svg\" alt=\"Open In Colab\"/></a>"
      ]
    },
    {
      "cell_type": "code",
      "execution_count": null,
      "metadata": {
        "id": "PbAqU6_SiIed"
      },
      "outputs": [],
      "source": [
        "%load_ext autoreload\n",
        "%autoreload 2\n",
        "import numpy as np\n",
        "import pandas as pd\n",
        "\n",
        "import tensorflow as tf\n",
        "from tensorflow.keras import(\n",
        "    layers,\n",
        "    models,\n",
        "    callbacks,\n",
        "    utils,\n",
        "    metrics,\n",
        "    optimizers,\n",
        ")\n"
      ]
    },
    {
      "cell_type": "markdown",
      "source": [
        "#0. Parameters\n"
      ],
      "metadata": {
        "id": "msv338H5ihJg"
      }
    },
    {
      "cell_type": "code",
      "source": [
        "IMAGE_SIZE = 64\n",
        "CHANNELS = 3\n",
        "CLASSES = 2\n",
        "BATCH_SIZE = 128\n",
        "Z_DIM = 32\n",
        "LEARNING_RATE = 0.00005\n",
        "ADAM_BETA_1 = 0.5\n",
        "ADAM_BETA_2 = 0.999\n",
        "EPOCHS = 20\n",
        "CRITIC_STEPS = 3\n",
        "GP_WEIGHT = 10.0\n",
        "LOAD_MODEL = False\n",
        "ADAM_BETA_1 = 0.5\n",
        "ADAM_BETA_2 = 0.9\n",
        "LABEL = \"Blond_Hair\""
      ],
      "metadata": {
        "id": "VOClxJkfigR3"
      },
      "execution_count": null,
      "outputs": []
    },
    {
      "cell_type": "markdown",
      "source": [
        "#1. Prepare the data"
      ],
      "metadata": {
        "id": "gel56Qj5jD8r"
      }
    },
    {
      "cell_type": "code",
      "source": [
        "#Load the label dataset\n",
        "attributes = pd.read_csv(\"/app/data/celeba-dataset/list_attr_celeba.csv\")\n",
        "print(attributes.columns)\n",
        "attributes.head()"
      ],
      "metadata": {
        "id": "lLgO1cmDjC4J"
      },
      "execution_count": null,
      "outputs": []
    },
    {
      "cell_type": "code",
      "source": [
        "#Load the data\n",
        "labels = attributes[LABEL].tolist()\n",
        "int_labels = [x if x ==1 else 0 for in labels]"
      ],
      "metadata": {
        "id": "acMjz-L2jV7Q"
      },
      "execution_count": null,
      "outputs": []
    },
    {
      "cell_type": "code",
      "source": [
        "train_data = utils.image_dataset_from_directory(\n",
        "    \"/app/data/celeba-dataset/img_align_celeba\",\n",
        "    labels = int_labels,\n",
        "    color_mode = \"rgb\",\n",
        "    image_size = (IMAGE_SIZE , IMAGE_SIZE),\n",
        "    batch_size = BATCH_SIZE,\n",
        "    shuffle = True ,\n",
        "    seed = 42,\n",
        "    interpolation = \"bilinear\",\n",
        ")"
      ],
      "metadata": {
        "id": "PA2r3gpLjidw"
      },
      "execution_count": null,
      "outputs": []
    },
    {
      "cell_type": "code",
      "source": [
        "#Preprocess the data\n",
        "def preprocess(img):\n",
        "  \"\"\"\n",
        "  Normalize and reshape the images\n",
        "  \"\"\"\n",
        "  img = (tf.cast(img, \"float32\") - 127.5)/ 127.5\n",
        "  return img\n",
        "\n",
        "train = train_data.map(\n",
        "    lambda x, y: (preprocess(x) , tf.one_hot(y, depth = CLASSES))\n",
        ")\n"
      ],
      "metadata": {
        "id": "QvmFc6Rqj9et"
      },
      "execution_count": null,
      "outputs": []
    },
    {
      "cell_type": "code",
      "source": [
        "#Show some faces from the directory training set\n",
        "train_sample = sample_batch(train)\n",
        "\n"
      ],
      "metadata": {
        "id": "qDlPyyAdkWgY"
      },
      "execution_count": null,
      "outputs": []
    },
    {
      "cell_type": "markdown",
      "source": [
        "#2. Build the GAN\n"
      ],
      "metadata": {
        "id": "ovpin7LUkeA3"
      }
    },
    {
      "cell_type": "code",
      "source": [
        "critic_input = layers.Input(shape = (IMAGE_SIZE , IMAGE_SIZE , CHANNELS))\n",
        "label_input = layers.Input(shape = (IMAGE_SIZE , IMAGE_SIZE , CLASSES))\n",
        "x = layers.Concatenate(axis = -1 )([critic_input, label_input])\n",
        "x = layers.Conv2D(64, kernel_size = 4, strides = 2, padding = \"same\")(x)\n",
        "x = layers.LeakyReLU(0.2)(x)\n",
        "x = layers.Conv2D(128, kernel_size = 4, strides = 2, padding = \"same\")(x)\n",
        "x = layers.LeakyReLU()(x)\n",
        "x = layers.Dropout(0.3)(x)\n",
        "x = layers.Conv2D(128, kernel_size = 4, strides = 2, padding = \"same\")(x)\n",
        "x = layers.LeakyReLU(0.2)(x)\n",
        "x = layers.Dropout(0.3)(x)\n",
        "x = layers.Conv2D(128, kernel_size = 4, strides = 2, padding = \"same\")(x)\n",
        "x = layers.LeakyReLU(0.2)(x)\n",
        "x = layers.Dropout(0.3)(x)\n",
        "x = layers.Conv2D(1, kernel_size = 4, strides = 1 , padding = \"valid\")(x)\n",
        "critic_output = layers.Flatten()(x)\n",
        "\n",
        "critic = models.Model([critic_input, label_input] , critic_output)\n",
        "critic.summary()\n"
      ],
      "metadata": {
        "id": "nulXKCb-kcsN"
      },
      "execution_count": null,
      "outputs": []
    },
    {
      "cell_type": "code",
      "source": [
        "generator_input  = layers.Input(shape = (Z_DIM, ))\n",
        "label_input = layers.Input(shape= (CLASSES, ))\n",
        "x = layers.Concatenate(axis = -1)([generator_input, label_input])\n",
        "x = layers.Reshape((1, 1, Z_DIM +CLASSES))(x)\n",
        "x = layers.Conv2DTranspose(\n",
        "    128, kernel_size = 4, strides = 1 , padding = \"valid\" , use_bias = False\n",
        ")(x)\n",
        "x = layers.BatchNormalization(momentum = 0.9)(x)\n",
        "x = layers.LeakyReLU(0.2)(x)\n",
        "x = layers.Conv2DTranspose(\n",
        "    128, kernel_size = 4, strides = 2, padding = \"same\", use_bias = False\n",
        ")(x)\n",
        "x= layers.BatchNormalization(momentum = 0.9)(x)\n",
        "x = layers.LeakyReLU(0.2)(x)"
      ],
      "metadata": {
        "id": "mMxCNxnTl2JH"
      },
      "execution_count": null,
      "outputs": []
    }
  ]
}