{
  "nbformat": 4,
  "nbformat_minor": 0,
  "metadata": {
    "colab": {
      "provenance": [],
      "authorship_tag": "ABX9TyO/B5IJPa4zmNW4MVGq1AOh",
      "include_colab_link": true
    },
    "kernelspec": {
      "name": "python3",
      "display_name": "Python 3"
    },
    "language_info": {
      "name": "python"
    }
  },
  "cells": [
    {
      "cell_type": "markdown",
      "metadata": {
        "id": "view-in-github",
        "colab_type": "text"
      },
      "source": [
        "<a href=\"https://colab.research.google.com/github/Ahtesham519/Genrative_Deep_learning_v2_2023/blob/main/cgan_2.ipynb\" target=\"_parent\"><img src=\"https://colab.research.google.com/assets/colab-badge.svg\" alt=\"Open In Colab\"/></a>"
      ]
    },
    {
      "cell_type": "code",
      "execution_count": null,
      "metadata": {
        "id": "PbAqU6_SiIed"
      },
      "outputs": [],
      "source": [
        "%load_ext autoreload\n",
        "%autoreload 2\n",
        "import numpy as np\n",
        "import pandas as pd\n",
        "\n",
        "import tensorflow as tf\n",
        "from tensorflow.keras import(\n",
        "    layers,\n",
        "    models,\n",
        "    callbacks,\n",
        "    utils,\n",
        "    metrics,\n",
        "    optimizers,\n",
        ")\n"
      ]
    },
    {
      "cell_type": "markdown",
      "source": [
        "#0. Parameters\n"
      ],
      "metadata": {
        "id": "msv338H5ihJg"
      }
    },
    {
      "cell_type": "code",
      "source": [
        "IMAGE_SIZE = 64\n",
        "CHANNELS = 3\n",
        "CLASSES = 2\n",
        "BATCH_SIZE = 128\n",
        "Z_DIM = 32\n",
        "LEARNING_RATE = 0.00005\n",
        "ADAM_BETA_1 = 0.5\n",
        "ADAM_BETA_2 = 0.999\n",
        "EPOCHS = 20\n",
        "CRITIC_STEPS = 3\n",
        "GP_WEIGHT = 10.0\n",
        "LOAD_MODEL = False\n",
        "ADAM_BETA_1 = 0.5\n",
        "ADAM_BETA_2 = 0.9\n",
        "LABEL = \"Blond_Hair\""
      ],
      "metadata": {
        "id": "VOClxJkfigR3"
      },
      "execution_count": null,
      "outputs": []
    },
    {
      "cell_type": "markdown",
      "source": [
        "#1. Prepare the data"
      ],
      "metadata": {
        "id": "gel56Qj5jD8r"
      }
    },
    {
      "cell_type": "code",
      "source": [
        "#Load the label dataset\n",
        "attributes = pd.read_csv(\"/app/data/celeba-dataset/list_attr_celeba.csv\")\n",
        "print(attributes.columns)\n",
        "attributes.head()"
      ],
      "metadata": {
        "id": "lLgO1cmDjC4J"
      },
      "execution_count": null,
      "outputs": []
    },
    {
      "cell_type": "code",
      "source": [
        "#Load the data\n",
        "labels = attributes[LABEL].tolist()\n",
        "int_labels = [x if x ==1 else 0 for in labels]"
      ],
      "metadata": {
        "id": "acMjz-L2jV7Q"
      },
      "execution_count": null,
      "outputs": []
    },
    {
      "cell_type": "code",
      "source": [
        "train_data = utils.image_dataset_from_directory(\n",
        "    \"/app/data/celeba-dataset/img_align_celeba\",\n",
        "    labels = int_labels,\n",
        "    color_mode = \"rgb\",\n",
        "    image_size = (IMAGE_SIZE , IMAGE_SIZE),\n",
        "    batch_size = BATCH_SIZE,\n",
        "    shuffle = True ,\n",
        "    seed = 42,\n",
        "    interpolation = \"bilinear\",\n",
        ")"
      ],
      "metadata": {
        "id": "PA2r3gpLjidw"
      },
      "execution_count": null,
      "outputs": []
    },
    {
      "cell_type": "code",
      "source": [
        "#Preprocess the data\n",
        "def preprocess(img):\n",
        "  \"\"\"\n",
        "  Normalize and reshape the images\n",
        "  \"\"\"\n",
        "  img = (tf.cast(img, \"float32\") - 127.5)/ 127.5\n",
        "  return img\n",
        "\n",
        "train = train_data.map(\n",
        "    lambda x, y: (preprocess(x) , tf.one_hot(y, depth = CLASSES))\n",
        ")\n"
      ],
      "metadata": {
        "id": "QvmFc6Rqj9et"
      },
      "execution_count": null,
      "outputs": []
    },
    {
      "cell_type": "code",
      "source": [
        "#Show some faces from the directory training set\n",
        "train_sample = sample_batch(train)\n",
        "\n"
      ],
      "metadata": {
        "id": "qDlPyyAdkWgY"
      },
      "execution_count": null,
      "outputs": []
    },
    {
      "cell_type": "markdown",
      "source": [
        "#2. Build the GAN\n"
      ],
      "metadata": {
        "id": "ovpin7LUkeA3"
      }
    },
    {
      "cell_type": "code",
      "source": [
        "critic_input = layers.Input(shape = (IMAGE_SIZE , IMAGE_SIZE , CHANNELS))\n",
        "label_input = layers.Input(shape = (IMAGE_SIZE , IMAGE_SIZE , CLASSES))\n",
        "x = layers.Concatenate(axis = -1 )([critic_input, label_input])\n",
        "x = layers.Conv2D(64, kernel_size = 4, strides = 2, padding = \"same\")(x)\n",
        "x = layers.LeakyReLU(0.2)(x)\n",
        "x = layers.Conv2D(128, kernel_size = 4, strides = 2, padding = \"same\")(x)\n",
        "x = layers.LeakyReLU()(x)\n",
        "x = layers.Dropout(0.3)(x)\n",
        "x = layers.Conv2D(128, kernel_size = 4, strides = 2, padding = \"same\")(x)\n",
        "x = layers.LeakyReLU(0.2)(x)\n",
        "x = layers.Dropout(0.3)(x)\n",
        "x = layers.Conv2D(128, kernel_size = 4, strides = 2, padding = \"same\")(x)\n",
        "x = layers.LeakyReLU(0.2)(x)\n",
        "x = layers.Dropout(0.3)(x)\n",
        "x = layers.Conv2D(1, kernel_size = 4, strides = 1 , padding = \"valid\")(x)\n",
        "critic_output = layers.Flatten()(x)\n",
        "\n",
        "critic = models.Model([critic_input, label_input] , critic_output)\n",
        "critic.summary()\n"
      ],
      "metadata": {
        "id": "nulXKCb-kcsN"
      },
      "execution_count": null,
      "outputs": []
    },
    {
      "cell_type": "code",
      "source": [
        "generator_input  = layers.Input(shape = (Z_DIM, ))\n",
        "label_input = layers.Input(shape= (CLASSES, ))\n",
        "x = layers.Concatenate(axis = -1)([generator_input, label_input])\n",
        "x = layers.Reshape((1, 1, Z_DIM +CLASSES))(x)\n",
        "x = layers.Conv2DTranspose(\n",
        "    128, kernel_size = 4, strides = 1 , padding = \"valid\" , use_bias = False\n",
        ")(x)\n",
        "x = layers.BatchNormalization(momentum = 0.9)(x)\n",
        "x = layers.LeakyReLU(0.2)(x)\n",
        "x = layers.Conv2DTranspose(\n",
        "    128, kernel_size = 4, strides = 2, padding = \"same\", use_bias = False\n",
        ")(x)\n",
        "x= layers.BatchNormalization(momentum = 0.9)(x)\n",
        "x = layers.LeakyReLU(0.2)(x)\n",
        "x = layers.Conv2DTranspose(\n",
        "    128, kernel_size = 4, strides = 2, padding = \"same\", use_bias = False\n",
        ")\n",
        "x = layers.BatchNormalization(momentum = 0.9)(x)\n",
        "x = layers.LeakyReLU(0.2)(x)\n",
        "x = layers.Conv2DTranspose(\n",
        "    64, kernel_size = 4, strides = 2, padding = \"same\", use_bias = False\n",
        ")\n",
        "x = layers.BatchNormalization(momentum = 0.9)(x)\n",
        "x = layers.LeakyReLU(0.2)(x)\n",
        "generator_output = layers.Conv2DTranspose(\n",
        "    CHANNELS, kernel_size = 4, strides = 2, padding = \"same\", activation = \"tanh\"\n",
        ")(x)\n",
        "generator = models.Model([generator_input, label_input] , generator_output)\n",
        "generator.summary()"
      ],
      "metadata": {
        "id": "mMxCNxnTl2JH"
      },
      "execution_count": null,
      "outputs": []
    },
    {
      "cell_type": "code",
      "source": [
        "from numpy.lib.index_tricks import c_\n",
        "class ConditionalWGAN(models.Model):\n",
        "  def __init__(self, critic, generator , latent_dim , critic_steps, gp_weight):\n",
        "    super(ConditionalWGAN , self).__init__()\n",
        "    self.critic = critic\n",
        "    self.generator = generator\n",
        "    self.latent_dim = latent_dim\n",
        "    self.critic_steps = critic_steps\n",
        "    self.gp_weight = gp_weight\n",
        "\n",
        "  def compile(self, c_optimizer , g_optimizer):\n",
        "    super(ConditionalWGAN , self).compile(run_eagerly = True)\n",
        "    self.c_optimizer = c_optimizer\n",
        "    self.g_optimizer = g_optimizer\n",
        "    self.c_wass_loss_metric = metrics.Mean(name = \"c_wass_loss\")\n",
        "    self.c_gp_metric = metrics.Mean(name = \"c_gp\")\n",
        "    self.c_loss_metric = metrics.Mean(name = \"c_loss\")\n",
        "    self.g_loss_metric = metrics.Mean(name = \"g_loss\")\n",
        "\n",
        "\n",
        "  @property\n",
        "  def metrics(self):\n",
        "    return[\n",
        "        self.c_loss_metric,\n",
        "        self.c_wass_loss_metric,\n",
        "        self.c_gp_metric,\n",
        "        self.g_loss_metric,\n",
        "    ]\n",
        "\n",
        "  def gradient_penelaty(\n",
        "      self, batch_size , real_images, fake_images, image_one_hot_labels\n",
        "  ):\n",
        "    alpha = tf.random.normal([batch_size , 1, 1, 1] , 0.0 , 1.0)\n",
        "    diff = fake_images - real_images\n",
        "    interpolated = real_images + alpha * diff\n",
        "\n",
        "    with tf.GradientTape() as gp_tape:\n",
        "      gp_tape.watch(interpolated)\n",
        "      pred = self.critic(\n",
        "          [interpolated , image_one_hot_labels] , training = True\n",
        "      )\n",
        "\n",
        "      grads = gp_tape.gradient(pred, [interpolated])[0]\n",
        "      norm = tf.sqrt(tf.reduce_sum(tf.square(grads) , axis = [1,2,3]))\n",
        "      gp = tf.reduce_mean((norm - 1.0) ** 2)\n",
        "      return gp\n",
        "\n",
        "  def train_step(self, data):\n",
        "    real_iamges, one_hot_labels = data\n",
        "\n",
        "    image_one_hot_labels = one_hot_labels[: , None , None, :]\n",
        "    image_one_hot_labels = tf.repeat(\n",
        "        image_one_hot_labels, repeats = IMAGE_SIZE , axis = 1\n",
        "    )\n",
        "    image_one_hot_labels = tf.repeat(\n",
        "        image_one_hot_labels, repeats = IMAGE_SIZE , axis =2\n",
        "    )\n",
        "\n",
        "    batch_size = tf.shape(real_images)[0]\n",
        "\n",
        "    for i in range(self.critic_steps):\n",
        "      random_latent_vectors = tf.random.normal(\n",
        "          shape = (batch_size , self.latent_dim)\n",
        "      )\n",
        "\n",
        "      with tf.GradientTape() as tape:\n",
        "        fake_images = self.generator(\n",
        "            [random_latent_vectors, one_hot_labels] , training = True\n",
        "        )\n",
        "\n",
        "        fake_predictions = self.critic(\n",
        "            [fake_images, image_one_hot_labels] , training = True\n",
        "        )\n",
        "        c_wass_loss = tf.reduce_mean(fake_predictions) - tf.reduce_mean(\n",
        "            real_predictions\n",
        "        )\n",
        "        c_gp = self.gradient_penalty(\n",
        "            batch_size , real_images , fake_images , image_one_hot_labels\n",
        "        )\n",
        "        c_loss = c_wass_loss + c_gp * self.gp_weight\n",
        "\n",
        "      c_gradient = tape.gradient(c_loss , self.critic.trainable_variables)\n",
        "      self.c_optimizer.apply_gradient(\n",
        "          zip(c_gradient, self.critic.trainable_varaibles)\n",
        "      )\n",
        "    random_latent_vectors = tf.random.normal(\n",
        "        shape = (batch_size , self.latent_dim)\n",
        "    )\n",
        "\n",
        "    with tf.GradientTape() as tape:\n",
        "      fake_images = self.generator(\n",
        "          [random_latent_vectors , one_hot_labels], training = True\n",
        "      )\n",
        "      fake_predictions = self.critic(\n",
        "          [fake_images, image_one_hot_labels] , training = True\n",
        "      )\n",
        "      g_loss = -tf.reduce_mean(fake_predictions)\n",
        "\n",
        "    gen_gradient = tape.gradient(g_loss, self.generator.trainable_variables)\n",
        "    self.g_optimizer.apply_gradients(\n",
        "        zip(gen_gradient, self.genrator.trainable_variables)\n",
        "    )\n",
        "\n",
        "    self.c_loss_metric.update_state(c_loss)\n",
        "    self.c_wass_loss_metric.update_state(c_wass_loss)\n",
        "    self.c_gp_metric.update_state(c_gp)\n",
        "    self.g_loss_metric.update_state(g_loss)\n",
        "\n",
        "    return {m.name: m.result() for m in self.metrics}"
      ],
      "metadata": {
        "id": "60nfPNoyyQss"
      },
      "execution_count": null,
      "outputs": []
    },
    {
      "cell_type": "code",
      "source": [
        "#Create a GAN\n",
        "cgan = ConditionalWGAN(\n",
        "    critic = critic ,\n",
        "    genrator = genrator,\n",
        "    latent_dim = Z_DIM,\n",
        "    critic_steps = CRITIC_STEPS,\n",
        "    gp_weight = GP_WEIGHT,\n",
        ")\n"
      ],
      "metadata": {
        "id": "gStrX3tX2a1S"
      },
      "execution_count": null,
      "outputs": []
    },
    {
      "cell_type": "code",
      "source": [
        "if LOAD_MODEL:\n",
        "  cgan.load_weights(\"./checkpoint/checkpoint.ckpt\")"
      ],
      "metadata": {
        "id": "ATqfLZ9x2ov7"
      },
      "execution_count": null,
      "outputs": []
    },
    {
      "cell_type": "markdown",
      "source": [
        "#3. Train the GAN"
      ],
      "metadata": {
        "id": "BbWMcKQT2w20"
      }
    },
    {
      "cell_type": "code",
      "source": [
        "cgan.compile(\n",
        "    c_optimizer = optimizers.Adam(\n",
        "        learning_rate = LEARNING_RATE, beta_1 = ADAM_BETA_1 , beta_2 = ADAM_BETA_2\n",
        "    ),\n",
        "    g_optimizer = optimizers.Adam(\n",
        "        learning_rate = LEARNING_RATE, beta_1 = ADAM_BETA_1 , beta_2 = ADAM_BETA_2\n",
        "    ),\n",
        ")"
      ],
      "metadata": {
        "id": "RsRxGgPj2wGL"
      },
      "execution_count": null,
      "outputs": []
    },
    {
      "cell_type": "code",
      "source": [
        "#Create a model save checkpoint\n",
        "model_checkpoint_callback = callbacks.ModelCheckpoint(\n",
        "    filepath = \"./checkpoint.ckpt\",\n",
        "    save_weights_only = True ,\n",
        "    save_freq = \"epoch\",\n",
        "    verbose = 0,\n",
        ")\n",
        "\n",
        "tensorboard_callback = callbacks.Tensorboard(log_dir = \"./logs\")\n",
        "\n",
        "class ImageGenrator(callbacks.Callback):\n",
        "  def __init__(self, num_img , latent_dim):\n",
        "    self.num_img = num_img\n",
        "    self.latent_dim = latent_dim\n",
        "\n",
        "  def on_epoch_end(self, epoch , logs= None):\n",
        "    random_latent_vectors = tf.random.normal(\n",
        "        shape= (self.num_img, self.latent_dim)\n",
        "    )\n",
        "    #0 labels\n",
        "    zero_label = np.repeat([[1, 0]], self.num_img , axis = 0)\n",
        "    genrated_images = self.model.genrator(\n",
        "        [random_latent_vectors, zero_label]\n",
        "    )\n",
        "    genrated_images = genrated_images * 127.5 + 127.5\n",
        "    genrated_images = genrated_images.numpy()\n",
        "    display(\n",
        "        genrated_images,\n",
        "        save_to = \"./output/genrated_img_%03d_label0.png\" % (epoch),\n",
        "        cmap = None,\n",
        "    )\n",
        "    # 1 label\n",
        "    one_label = np.repeat([[0,1]] , self.num_img , axis = 0)\n",
        "    genrated_images = self.model.genrator(\n",
        "        [random_latent_vectors, one_label]\n",
        "    )\n",
        "    genrated_images = genrated_images * 127.5 +127.5\n",
        "    genrated_images = genrated_images.numpy()\n",
        "    display(\n",
        "        generated_images,\n",
        "        save_to = \"./output/genrated_img_%03d_label_1.png\" % (epoch),\n",
        "        cmap = None,\n",
        "    )"
      ],
      "metadata": {
        "colab": {
          "base_uri": "https://localhost:8080/",
          "height": 245
        },
        "id": "8FMyt7C-3Md9",
        "outputId": "4f9bad9b-aee3-4ca2-dfae-3c07ca4db74c"
      },
      "execution_count": 1,
      "outputs": [
        {
          "output_type": "error",
          "ename": "NameError",
          "evalue": "ignored",
          "traceback": [
            "\u001b[0;31m---------------------------------------------------------------------------\u001b[0m",
            "\u001b[0;31mNameError\u001b[0m                                 Traceback (most recent call last)",
            "\u001b[0;32m<ipython-input-1-fa9cd70e5116>\u001b[0m in \u001b[0;36m<cell line: 2>\u001b[0;34m()\u001b[0m\n\u001b[1;32m      1\u001b[0m \u001b[0;31m#Create a model save checkpoint\u001b[0m\u001b[0;34m\u001b[0m\u001b[0;34m\u001b[0m\u001b[0m\n\u001b[0;32m----> 2\u001b[0;31m model_checkpoint_callback = callbacks.ModelCheckpoint(\n\u001b[0m\u001b[1;32m      3\u001b[0m     \u001b[0mfilepath\u001b[0m \u001b[0;34m=\u001b[0m \u001b[0;34m\"./checkpoint.ckpt\"\u001b[0m\u001b[0;34m,\u001b[0m\u001b[0;34m\u001b[0m\u001b[0;34m\u001b[0m\u001b[0m\n\u001b[1;32m      4\u001b[0m     \u001b[0msave_weights_only\u001b[0m \u001b[0;34m=\u001b[0m \u001b[0;32mTrue\u001b[0m \u001b[0;34m,\u001b[0m\u001b[0;34m\u001b[0m\u001b[0;34m\u001b[0m\u001b[0m\n\u001b[1;32m      5\u001b[0m     \u001b[0msave_freq\u001b[0m \u001b[0;34m=\u001b[0m \u001b[0;34m\"epoch\"\u001b[0m\u001b[0;34m,\u001b[0m\u001b[0;34m\u001b[0m\u001b[0;34m\u001b[0m\u001b[0m\n",
            "\u001b[0;31mNameError\u001b[0m: name 'callbacks' is not defined"
          ]
        }
      ]
    },
    {
      "cell_type": "code",
      "source": [
        "history = cgan.fit(\n",
        "    train,\n",
        "    epochs = EPOCHS * 100,\n",
        "    steps_per_epoch = 1,\n",
        "    callbacks = [\n",
        "        model_checkpoint_callback,\n",
        "        tensorboard_callback,\n",
        "        ImageGenerator(num_img =10 , latent_dim = Z_DIM),\n",
        "    ],\n",
        ")"
      ],
      "metadata": {
        "colab": {
          "base_uri": "https://localhost:8080/",
          "height": 245
        },
        "id": "ekv3Ieoj9zJi",
        "outputId": "cb5699c7-01fc-4ba6-a23f-e43566ddd278"
      },
      "execution_count": 2,
      "outputs": [
        {
          "output_type": "error",
          "ename": "NameError",
          "evalue": "ignored",
          "traceback": [
            "\u001b[0;31m---------------------------------------------------------------------------\u001b[0m",
            "\u001b[0;31mNameError\u001b[0m                                 Traceback (most recent call last)",
            "\u001b[0;32m<ipython-input-2-6b044944efd4>\u001b[0m in \u001b[0;36m<cell line: 1>\u001b[0;34m()\u001b[0m\n\u001b[0;32m----> 1\u001b[0;31m history = cgan.fit(\n\u001b[0m\u001b[1;32m      2\u001b[0m     \u001b[0mtrain\u001b[0m\u001b[0;34m,\u001b[0m\u001b[0;34m\u001b[0m\u001b[0;34m\u001b[0m\u001b[0m\n\u001b[1;32m      3\u001b[0m     \u001b[0mepochs\u001b[0m \u001b[0;34m=\u001b[0m \u001b[0mEPOCHS\u001b[0m \u001b[0;34m*\u001b[0m \u001b[0;36m100\u001b[0m\u001b[0;34m,\u001b[0m\u001b[0;34m\u001b[0m\u001b[0;34m\u001b[0m\u001b[0m\n\u001b[1;32m      4\u001b[0m     \u001b[0msteps_per_epoch\u001b[0m \u001b[0;34m=\u001b[0m \u001b[0;36m1\u001b[0m\u001b[0;34m,\u001b[0m\u001b[0;34m\u001b[0m\u001b[0;34m\u001b[0m\u001b[0m\n\u001b[1;32m      5\u001b[0m     callbacks = [\n",
            "\u001b[0;31mNameError\u001b[0m: name 'cgan' is not defined"
          ]
        }
      ]
    },
    {
      "cell_type": "code",
      "source": [
        "#save the final models\n",
        "generator.save(\"./models/generator\")\n",
        "critic.save(\"./models/critic\")"
      ],
      "metadata": {
        "colab": {
          "base_uri": "https://localhost:8080/",
          "height": 210
        },
        "id": "5vupzp4T-Gm_",
        "outputId": "6fb9592d-b293-42e0-d4e2-00aa6f4fa700"
      },
      "execution_count": 3,
      "outputs": [
        {
          "output_type": "error",
          "ename": "NameError",
          "evalue": "ignored",
          "traceback": [
            "\u001b[0;31m---------------------------------------------------------------------------\u001b[0m",
            "\u001b[0;31mNameError\u001b[0m                                 Traceback (most recent call last)",
            "\u001b[0;32m<ipython-input-3-75771bce36cb>\u001b[0m in \u001b[0;36m<cell line: 2>\u001b[0;34m()\u001b[0m\n\u001b[1;32m      1\u001b[0m \u001b[0;31m#save the final models\u001b[0m\u001b[0;34m\u001b[0m\u001b[0;34m\u001b[0m\u001b[0m\n\u001b[0;32m----> 2\u001b[0;31m \u001b[0mgenerator\u001b[0m\u001b[0;34m.\u001b[0m\u001b[0msave\u001b[0m\u001b[0;34m(\u001b[0m\u001b[0;34m\"./models/generator\"\u001b[0m\u001b[0;34m)\u001b[0m\u001b[0;34m\u001b[0m\u001b[0;34m\u001b[0m\u001b[0m\n\u001b[0m\u001b[1;32m      3\u001b[0m \u001b[0mcritic\u001b[0m\u001b[0;34m.\u001b[0m\u001b[0msave\u001b[0m\u001b[0;34m(\u001b[0m\u001b[0;34m\"./models/critic\"\u001b[0m\u001b[0;34m)\u001b[0m\u001b[0;34m\u001b[0m\u001b[0;34m\u001b[0m\u001b[0m\n",
            "\u001b[0;31mNameError\u001b[0m: name 'generator' is not defined"
          ]
        }
      ]
    },
    {
      "cell_type": "markdown",
      "source": [
        "#Generate images"
      ],
      "metadata": {
        "id": "a2FzGtVa-UPf"
      }
    },
    {
      "cell_type": "code",
      "source": [
        "#0 label\n",
        "z_sample = np.random.normal(size = (10, Z_DIM))\n",
        "class_label = np.repeat([[1,0]], 10, axis = 0)\n",
        "imgs = cgan.genrator.predict([z_sample, class_label])\n",
        "display(imgs , cmap = None)"
      ],
      "metadata": {
        "colab": {
          "base_uri": "https://localhost:8080/",
          "height": 245
        },
        "id": "OP_HO-3Y-TI9",
        "outputId": "2c781d4e-6a64-4547-a7d1-c09d44ff4122"
      },
      "execution_count": 4,
      "outputs": [
        {
          "output_type": "error",
          "ename": "NameError",
          "evalue": "ignored",
          "traceback": [
            "\u001b[0;31m---------------------------------------------------------------------------\u001b[0m",
            "\u001b[0;31mNameError\u001b[0m                                 Traceback (most recent call last)",
            "\u001b[0;32m<ipython-input-4-0bbd7aa8f95d>\u001b[0m in \u001b[0;36m<cell line: 2>\u001b[0;34m()\u001b[0m\n\u001b[1;32m      1\u001b[0m \u001b[0;31m#0 label\u001b[0m\u001b[0;34m\u001b[0m\u001b[0;34m\u001b[0m\u001b[0m\n\u001b[0;32m----> 2\u001b[0;31m \u001b[0mz_sample\u001b[0m \u001b[0;34m=\u001b[0m \u001b[0mnp\u001b[0m\u001b[0;34m.\u001b[0m\u001b[0mrandom\u001b[0m\u001b[0;34m.\u001b[0m\u001b[0mnormal\u001b[0m\u001b[0;34m(\u001b[0m\u001b[0msize\u001b[0m \u001b[0;34m=\u001b[0m \u001b[0;34m(\u001b[0m\u001b[0;36m10\u001b[0m\u001b[0;34m,\u001b[0m \u001b[0mZ_DIM\u001b[0m\u001b[0;34m)\u001b[0m\u001b[0;34m)\u001b[0m\u001b[0;34m\u001b[0m\u001b[0;34m\u001b[0m\u001b[0m\n\u001b[0m\u001b[1;32m      3\u001b[0m \u001b[0mclass_label\u001b[0m \u001b[0;34m=\u001b[0m \u001b[0mnp\u001b[0m\u001b[0;34m.\u001b[0m\u001b[0mrepeat\u001b[0m\u001b[0;34m(\u001b[0m\u001b[0;34m[\u001b[0m\u001b[0;34m[\u001b[0m\u001b[0;36m1\u001b[0m\u001b[0;34m,\u001b[0m\u001b[0;36m0\u001b[0m\u001b[0;34m]\u001b[0m\u001b[0;34m]\u001b[0m\u001b[0;34m,\u001b[0m \u001b[0;36m10\u001b[0m\u001b[0;34m,\u001b[0m \u001b[0maxis\u001b[0m \u001b[0;34m=\u001b[0m \u001b[0;36m0\u001b[0m\u001b[0;34m)\u001b[0m\u001b[0;34m\u001b[0m\u001b[0;34m\u001b[0m\u001b[0m\n\u001b[1;32m      4\u001b[0m \u001b[0mimgs\u001b[0m \u001b[0;34m=\u001b[0m \u001b[0mcgan\u001b[0m\u001b[0;34m.\u001b[0m\u001b[0mgenrator\u001b[0m\u001b[0;34m.\u001b[0m\u001b[0mpredict\u001b[0m\u001b[0;34m(\u001b[0m\u001b[0;34m[\u001b[0m\u001b[0mz_sample\u001b[0m\u001b[0;34m,\u001b[0m \u001b[0mclass_label\u001b[0m\u001b[0;34m]\u001b[0m\u001b[0;34m)\u001b[0m\u001b[0;34m\u001b[0m\u001b[0;34m\u001b[0m\u001b[0m\n\u001b[1;32m      5\u001b[0m \u001b[0mdisplay\u001b[0m\u001b[0;34m(\u001b[0m\u001b[0mimgs\u001b[0m \u001b[0;34m,\u001b[0m \u001b[0mcmap\u001b[0m \u001b[0;34m=\u001b[0m \u001b[0;32mNone\u001b[0m\u001b[0;34m)\u001b[0m\u001b[0;34m\u001b[0m\u001b[0;34m\u001b[0m\u001b[0m\n",
            "\u001b[0;31mNameError\u001b[0m: name 'np' is not defined"
          ]
        }
      ]
    },
    {
      "cell_type": "code",
      "source": [
        "#1 label\n",
        "z_sample = np.random.normal(size= (10, Z_DIM))\n",
        "class_label = np.repeat([[0,1]], 10, axis = 0)\n",
        "imgs = cgan.genrator.predict([z_sample , class_label])\n",
        "display(imgs , cmap = None)"
      ],
      "metadata": {
        "id": "BPkSOFqL-oV5"
      },
      "execution_count": null,
      "outputs": []
    }
  ]
}