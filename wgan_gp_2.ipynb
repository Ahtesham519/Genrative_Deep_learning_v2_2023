{
  "nbformat": 4,
  "nbformat_minor": 0,
  "metadata": {
    "colab": {
      "provenance": [],
      "authorship_tag": "ABX9TyMoyTVzRSqwl2PWiNvzzz7R",
      "include_colab_link": true
    },
    "kernelspec": {
      "name": "python3",
      "display_name": "Python 3"
    },
    "language_info": {
      "name": "python"
    }
  },
  "cells": [
    {
      "cell_type": "markdown",
      "metadata": {
        "id": "view-in-github",
        "colab_type": "text"
      },
      "source": [
        "<a href=\"https://colab.research.google.com/github/Ahtesham519/Genrative_Deep_learning_v2_2023/blob/main/wgan_gp_2.ipynb\" target=\"_parent\"><img src=\"https://colab.research.google.com/assets/colab-badge.svg\" alt=\"Open In Colab\"/></a>"
      ]
    },
    {
      "cell_type": "code",
      "execution_count": null,
      "metadata": {
        "id": "hpnwwjRLXjmp"
      },
      "outputs": [],
      "source": [
        "%load_ext autoreload\n",
        "%autoreload 2\n",
        "import numpy as np\n",
        "\n",
        "import tensorflow as tf\n",
        "from tensorflow.keras import (\n",
        "    layers,\n",
        "    models,\n",
        "    callbacks,\n",
        "    utils ,\n",
        "    metrics,\n",
        "    optimizers,\n",
        ")"
      ]
    },
    {
      "cell_type": "markdown",
      "source": [
        "#0. Parameters"
      ],
      "metadata": {
        "id": "WjF61QyuX3X1"
      }
    },
    {
      "cell_type": "code",
      "source": [
        "IMAGE_SIZE = 64\n",
        "CHANNELS = 3\n",
        "BATCH_SIZE = 512\n",
        "NUM_FEATURES = 64\n",
        "Z_DIM = 128\n",
        "LEARNING_RATE = 0.0002\n",
        "ADAM_BETA_1 = 0.5\n",
        "ADAM_BETA_2 = 0.999\n",
        "EPOCHS = 200\n",
        "CRITIC_STEPS = 3\n",
        "GP_weight = 10.0\n",
        "LOAD_MODEL = False\n",
        "ADAM_BETA_1 = 0.5\n",
        "ADAM_BETA_2 = 0.9"
      ],
      "metadata": {
        "id": "TugJAP7_X2fr"
      },
      "execution_count": null,
      "outputs": []
    },
    {
      "cell_type": "markdown",
      "source": [
        "#1. Prepare the data"
      ],
      "metadata": {
        "id": "SWv81XppYU8s"
      }
    },
    {
      "cell_type": "code",
      "source": [
        "#load the data\n",
        "train_data = utils.image_dataset_from_directory(\n",
        "    \"/app/data/celeba-dataset/img_align_celeba/img_align_celeba\",\n",
        "    labels = None,\n",
        "    color_mode = \"rgb\",\n",
        "    image_size = (IMAGE_SIZE , IMAGE_SIZE),\n",
        "    batch_size = BATCH_SIZE ,\n",
        "    shuffle = True,\n",
        "    seed = 42,\n",
        "    interpolation = \"bilinear\",\n",
        ")"
      ],
      "metadata": {
        "id": "T4vVLLklYT7m"
      },
      "execution_count": null,
      "outputs": []
    },
    {
      "cell_type": "code",
      "source": [
        "#PreProcess the data\n",
        "def preprocess(img):\n",
        "  \"\"\"\n",
        "  Normalize and reshape the images\n",
        "  \"\"\"\n",
        "  img = (tf.cast(img, \"float32\") - 127.5) / 127.5\n",
        "  return img\n",
        "\n",
        "  train = train_data.map(lambda x: preprocess(x))"
      ],
      "metadata": {
        "id": "YnvFWHfjYwDq"
      },
      "execution_count": null,
      "outputs": []
    },
    {
      "cell_type": "code",
      "source": [
        "#show some faces from the training set\n",
        "train_sample = sample_batch(train\n",
        "                            )"
      ],
      "metadata": {
        "id": "7OakwzjxZMWC"
      },
      "execution_count": null,
      "outputs": []
    },
    {
      "cell_type": "markdown",
      "source": [
        "#2. Build the WGAN-GP\n"
      ],
      "metadata": {
        "id": "jllQ4pS8ZaRd"
      }
    },
    {
      "cell_type": "code",
      "source": [
        "critic_input = layers.Input(shape=(IMAGE_SIZE, IMAGE_SIZE, CHANNELS))\n",
        "x = layers.Conv2D(64,kernel_size = 4, strides = 2, padding = \"same\")(critic_input)\n",
        "x = layers.LeakyReLU(0.2)(x)\n",
        "x = layers.Conv2D(128, kernel_size = 4, strides = 2, padding = \"same\")(x)\n",
        "x = layers.LeakyReLU()(x)\n",
        "x = layers.Dropout(0.3)(x)\n",
        "x = layers.Conv2D(256, kernel_size = 4 , strides = 2, padding = \"same\")(x)\n",
        "x = layers.LeakyReLU(0.2)(x)\n",
        "x = layers.Dropout(0.3)(x)\n",
        "x = layers.Conv2D(512, kernel_size = 4, strides = 2, padding = \"same\")(x)\n",
        "x = layers.LeakyReLU(0.2)(x)\n",
        "x = layers.Dropout(0.3)(x)\n",
        "x = layers.Conv2D(1, kernel_size = 4, strides = 1 , padding = \"valid\")(x)\n",
        "critic_output = layers.Flatten()(x)\n",
        "\n",
        "critic = models.Model(critic_input, critic_output)\n",
        "critic.summary()"
      ],
      "metadata": {
        "id": "CnKad5zdZSvS"
      },
      "execution_count": null,
      "outputs": []
    },
    {
      "cell_type": "code",
      "source": [
        "generator_input = layers.Input(shape =(Z_DIM,))\n",
        "x = layers.Reshape((1,1,Z_DIM))(generator_input)\n",
        "x = layers.Conv2DTranspose(\n",
        "    512, kernel_size = 4, strides = 1, padding = \"valid\" , use_bias = False\n",
        ")(x)\n",
        "x = layers.BatchNormalization(momentum = 0.9)(x)\n",
        "x = layers.LeakyReLU(0.2)(x)\n",
        "x = layers.Conv2DTranspose(\n",
        "    256, kernel_size = 4, strides = 2, padding = \"same\", use_bias = False\n",
        ")(x)\n",
        "x = layers.BatchNormalization(momentum = 0.9)(x)\n",
        "x = layers.LeakyReLU(0.2)(x)\n",
        "x = layers.Conv2DTranspose(\n",
        "    128, kernel_size = 4, strides = 2, padding = \"same\" , use_bias = False\n",
        ")(x)\n",
        "x = layers.BatchNormalization(momentum = 0.9)(x)\n",
        "x = layers.LeakyReLU(0.2)(x)\n",
        "x = layers.Conv2DTranspose(\n",
        "    64, kernel_size = 4, strides = 2, padding = \"same\", use_bias = False\n",
        ")(x)\n",
        "x = layers.BatchNormalization(momentum = 0.9)(x)\n",
        "x = layers.LeakyReLU(0.2)(x)\n",
        "generator_output = layers.Conv2DTranspose(\n",
        "    CHANNELS , kernel_size = 4 , strides = 2, padding = \"same\" , activation = \"tanh\"\n",
        ")(x)\n",
        "generator = models.Model(generator_input , generator_output)\n",
        "generator.summary()\n",
        "\n"
      ],
      "metadata": {
        "id": "K8WAtwhZa_q8"
      },
      "execution_count": null,
      "outputs": []
    },
    {
      "cell_type": "code",
      "source": [
        "class WGANGP(models.Model):\n",
        "  def __init__(self, critic, generator , latent_dim , critic_steps , gp_weight):\n",
        "    super(WGANGP , self).__init__()\n",
        "    self.critic = critic\n",
        "    self.generator = generator\n",
        "    self.latent_dim = latent_dim\n",
        "    self.critic_steps = critic_steps\n",
        "    self.gp_weight = gp_weight\n",
        "\n",
        "  def compile(self, c_optimizer, g_optimizer):\n",
        "    super(WGANGP , self).compile()\n",
        "    self.c_optimizer = c_optimizer\n",
        "    self.g_optimizer = g_optimizer\n",
        "    self.c_wass_loss_metric = metrics.Mean(name = \"c_wass_loss\")\n",
        "    self.c_gp_metric = metrics.Mean(name = \"c_gp\")\n",
        "    self.c_loss_metric = metrics.Mean(name = \"c_loss\")\n",
        "    self.g_loss_metric = metrics.Mean(name = \"g_loss\")\n",
        "\n",
        "\n",
        "  @property\n",
        "  def metrics(self):\n",
        "    return[\n",
        "        self.c_loss_metric,\n",
        "        self.c_wass_loss_metric,\n",
        "        self.c_gp_metric,\n",
        "        self.g_loss_metric,\n",
        "    ]\n",
        "\n",
        "  def gradient_penalty(self, batch_size , real_images , fake_images):\n",
        "    alpha = tf.random.normal([batch_size , 1, 1, 1] , 0.0 , 1.0)\n",
        "    diff = fake_images - real_images\n",
        "    interpolated = real_images + alpha * diff\n",
        "\n",
        "    with tf.GradientTape() as gp_tape:\n",
        "      gp_tape.watch(interpolated)\n",
        "      pred = self.critic(interpolated, training = True)\n",
        "\n",
        "    grads = gp_tape.gradient(pred, [ interpolated])[0]\n",
        "    norm = tf.sqrt(tf.reduce_sum(tf.square(grads), axis = [1,2,3]))\n",
        "    gp = tf.reduce_mean((norm - 1.0) ** 2)\n",
        "    return gp\n",
        "\n",
        "  def train_step(self, real_images):\n",
        "    batch_size = tf.shape(real_images)[0]\n",
        "\n",
        "    for i in range(self.critic_steps):\n",
        "      random_latent_vectors = tf.random.normal(\n",
        "          shape = (batch_size, self.latent_dim)\n",
        "      )\n",
        "\n",
        "      with tf.GradientTape() as tape:\n",
        "        fake_images = self.genrator(\n",
        "            random_latent_vectors, training = True\n",
        "        )\n",
        "        fake_predictions = self.critic(fake_images , training = True)\n",
        "        real_predictions = self.critic(real_images, training = True)\n",
        "\n",
        "        c_wass_loss = tf.reduce_mean(fake_predictions) - tf.reduce_mean(\n",
        "            real_predictions\n",
        "        )\n",
        "        c_gp = self.gradient_penalty(\n",
        "            batch_size,real_images, fake_images\n",
        "        )\n",
        "        c_loss = c_wass_loss + c_gp * self.gp_weight\n",
        "\n",
        "    c_gradient = tape.gradient(c_loss, self.critic.trainable_variables)\n",
        "    self.c_optimizer.apply_gradients(\n",
        "        zip(c_gradient,  self.critic.trainable_variables)\n",
        "    )\n",
        "\n",
        "  random_latent_vectors = tf.random.normal(\n",
        "      shape = (batch_size , self.latent_dim)\n",
        "  )\n",
        "  with tf.GradientTape() as tape:\n",
        "    fake_images = self.genrator(random_latent_vectors, training = True)\n",
        "    fake_predictions = self.critic(fake_images, training = True)\n",
        "    g_loss = -tf.reduce_mean(fake_predictions)\n",
        "\n",
        "  gen_gradient = tape.gradient(g_loss , self.generator.trainable_variables)\n",
        "  self.g_optimizer.apply_gradient(\n",
        "      zip(gen_gradient, self.genrator.trainable_variables)\n",
        "  )\n",
        "\n",
        "\n",
        "\n"
      ],
      "metadata": {
        "id": "NFp5EVfx1bZ7"
      },
      "execution_count": null,
      "outputs": []
    }
  ]
}