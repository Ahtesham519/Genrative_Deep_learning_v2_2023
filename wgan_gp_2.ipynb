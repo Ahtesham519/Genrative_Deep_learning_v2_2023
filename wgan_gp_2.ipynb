{
  "nbformat": 4,
  "nbformat_minor": 0,
  "metadata": {
    "colab": {
      "provenance": [],
      "authorship_tag": "ABX9TyOOSdQ8VzmhbHX6MH7Zp1P/",
      "include_colab_link": true
    },
    "kernelspec": {
      "name": "python3",
      "display_name": "Python 3"
    },
    "language_info": {
      "name": "python"
    }
  },
  "cells": [
    {
      "cell_type": "markdown",
      "metadata": {
        "id": "view-in-github",
        "colab_type": "text"
      },
      "source": [
        "<a href=\"https://colab.research.google.com/github/Ahtesham519/Genrative_Deep_learning_v2_2023/blob/main/wgan_gp_2.ipynb\" target=\"_parent\"><img src=\"https://colab.research.google.com/assets/colab-badge.svg\" alt=\"Open In Colab\"/></a>"
      ]
    },
    {
      "cell_type": "code",
      "execution_count": null,
      "metadata": {
        "id": "hpnwwjRLXjmp"
      },
      "outputs": [],
      "source": [
        "%load_ext autoreload\n",
        "%autoreload 2\n",
        "import numpy as np\n",
        "\n",
        "import tensorflow as tf\n",
        "from tensorflow.keras import (\n",
        "    layers,\n",
        "    models,\n",
        "    callbacks,\n",
        "    utils ,\n",
        "    metrics,\n",
        "    optimizers,\n",
        ")"
      ]
    },
    {
      "cell_type": "markdown",
      "source": [
        "#0. Parameters"
      ],
      "metadata": {
        "id": "WjF61QyuX3X1"
      }
    },
    {
      "cell_type": "code",
      "source": [
        "IMAGE_SIZE = 64\n",
        "CHANNELS = 3\n",
        "BATCH_SIZE = 512\n",
        "NUM_FEATURES = 64\n",
        "Z_DIM = 128\n",
        "LEARNING_RATE = 0.0002\n",
        "ADAM_BETA_1 = 0.5\n",
        "ADAM_BETA_2 = 0.999\n",
        "EPOCHS = 200\n",
        "CRITIC_STEPS = 3\n",
        "GP_weight = 10.0\n",
        "LOAD_MODEL = False\n",
        "ADAM_BETA_1 = 0.5\n",
        "ADAM_BETA_2 = 0.9"
      ],
      "metadata": {
        "id": "TugJAP7_X2fr"
      },
      "execution_count": null,
      "outputs": []
    },
    {
      "cell_type": "markdown",
      "source": [
        "#1. Prepare the data"
      ],
      "metadata": {
        "id": "SWv81XppYU8s"
      }
    },
    {
      "cell_type": "code",
      "source": [
        "#load the data\n",
        "train_data = utils.image_dataset_from_directory(\n",
        "    \"/app/data/celeba-dataset/img_align_celeba/img_align_celeba\",\n",
        "    labels = None,\n",
        "    color_mode = \"rgb\",\n",
        "    image_size = (IMAGE_SIZE , IMAGE_SIZE),\n",
        "    batch_size = BATCH_SIZE ,\n",
        "    shuffle = True,\n",
        "    seed = 42,\n",
        "    interpolation = \"bilinear\",\n",
        ")"
      ],
      "metadata": {
        "id": "T4vVLLklYT7m"
      },
      "execution_count": null,
      "outputs": []
    },
    {
      "cell_type": "code",
      "source": [
        "#PreProcess the data\n",
        "def preprocess(img):\n",
        "  \"\"\"\n",
        "  Normalize and reshape the images\n",
        "  \"\"\"\n",
        "  img = (tf.cast(img, \"float32\") - 127.5) / 127.5\n",
        "  return img\n",
        "\n",
        "  train = train_data.map(lambda x: preprocess(x))"
      ],
      "metadata": {
        "id": "YnvFWHfjYwDq"
      },
      "execution_count": null,
      "outputs": []
    },
    {
      "cell_type": "code",
      "source": [
        "#show some faces from the training set\n",
        "train_sample = sample_batch(train\n",
        "                            )"
      ],
      "metadata": {
        "id": "7OakwzjxZMWC"
      },
      "execution_count": null,
      "outputs": []
    },
    {
      "cell_type": "markdown",
      "source": [
        "#2. Build the WGAN-GP\n"
      ],
      "metadata": {
        "id": "jllQ4pS8ZaRd"
      }
    },
    {
      "cell_type": "code",
      "source": [
        "critic_input = layers.Input(shape=(IMAGE_SIZE, IMAGE_SIZE, CHANNELS))\n",
        "x = layers.Conv2D(64,kernel_size = 4, strides = 2, padding = \"same\")(critic_input)\n",
        "x = layers.LeakyReLU(0.2)(x)\n",
        "x = layers.Conv2D(128, kernel_size = 4, strides = 2, padding = \"same\")(x)\n",
        "x = layers.LeakyReLU()(x)\n",
        "x = layers.Dropout(0.3)(x)\n",
        "x = layers.Conv2D(256, kernel_size = 4 , strides = 2, padding = \"same\")(x)\n",
        "x = layers.LeakyReLU(0.2)(x)\n",
        "x = layers.Dropout(0.3)(x)\n",
        "x = layers.Conv2D(512, kernel_size = 4, strides = 2, padding = \"same\")(x)\n",
        "x = layers.LeakyReLU(0.2)(x)\n",
        "x = layers.Dropout(0.3)(x)\n",
        "x = layers.Conv2D(1, kernel_size = 4, strides = 1 , padding = \"valid\")(x)\n",
        "critic_output = layers.Flatten()(x)\n",
        "\n",
        "critic = models.Model(critic_input, critic_output)\n",
        "critic.summary()"
      ],
      "metadata": {
        "id": "CnKad5zdZSvS"
      },
      "execution_count": null,
      "outputs": []
    },
    {
      "cell_type": "code",
      "source": [],
      "metadata": {
        "id": "K8WAtwhZa_q8"
      },
      "execution_count": null,
      "outputs": []
    }
  ]
}